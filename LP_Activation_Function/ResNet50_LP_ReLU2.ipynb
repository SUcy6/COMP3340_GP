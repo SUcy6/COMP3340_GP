{
  "cells": [
    {
      "cell_type": "code",
      "execution_count": null,
      "metadata": {
        "id": "h5EjqPk_2hyz"
      },
      "outputs": [],
      "source": [
        "import torch\n",
        "import torch.nn as nn\n",
        "import torch.nn.functional as F\n",
        "import torch.optim as optim\n",
        "from torchvision import datasets, transforms\n",
        "from torch.optim.lr_scheduler import StepLR\n",
        "import torchvision\n",
        "from torch.nn.parameter import Parameter\n",
        "from torch import Tensor\n",
        "\n",
        "import matplotlib.pyplot as plt\n",
        "import numpy as np\n",
        "import pandas as pd\n",
        "import tarfile\n",
        "import os\n",
        "import csv\n",
        "import shutil"
      ]
    },
    {
      "cell_type": "code",
      "execution_count": null,
      "metadata": {
        "colab": {
          "base_uri": "https://localhost:8080/"
        },
        "id": "x2MAYYy32hy0",
        "outputId": "7099e40a-efdd-4e52-a99c-f71ab322ca2a"
      },
      "outputs": [
        {
          "output_type": "stream",
          "name": "stdout",
          "text": [
            "--2022-11-15 16:12:30--  http://www.robots.ox.ac.uk/~vgg/data/flowers/17/17flowers.tgz\n",
            "Resolving www.robots.ox.ac.uk (www.robots.ox.ac.uk)... 129.67.94.2\n",
            "Connecting to www.robots.ox.ac.uk (www.robots.ox.ac.uk)|129.67.94.2|:80... connected.\n",
            "HTTP request sent, awaiting response... 301 Moved Permanently\n",
            "Location: https://www.robots.ox.ac.uk/~vgg/data/flowers/17/17flowers.tgz [following]\n",
            "--2022-11-15 16:12:30--  https://www.robots.ox.ac.uk/~vgg/data/flowers/17/17flowers.tgz\n",
            "Connecting to www.robots.ox.ac.uk (www.robots.ox.ac.uk)|129.67.94.2|:443... connected.\n",
            "HTTP request sent, awaiting response... 200 OK\n",
            "Length: 60270631 (57M) [application/x-gzip]\n",
            "Saving to: ‘17flowers.tgz’\n",
            "\n",
            "17flowers.tgz       100%[===================>]  57.48M  15.7MB/s    in 3.7s    \n",
            "\n",
            "2022-11-15 16:12:34 (15.7 MB/s) - ‘17flowers.tgz’ saved [60270631/60270631]\n",
            "\n"
          ]
        }
      ],
      "source": [
        "# Download Oxford 17 Category Flower Dataset\n",
        "!wget http://www.robots.ox.ac.uk/~vgg/data/flowers/17/17flowers.tgz -O 17flowers.tgz"
      ]
    },
    {
      "cell_type": "code",
      "source": [
        "file = tarfile.open(\"17flowers.tgz\")\n",
        "file.extractall(\"data_flowers/\")\n",
        "dir = \"data_flowers/jpg/\"\n",
        "arr = os.listdir(dir)\n",
        "\n",
        "# uncomment this if you just download a new flower17 dataset\n",
        "# otherwise, you don't need to remove this file again\n",
        "os.remove(\"data_flowers/jpg/files.txt\") # this file is useless"
      ],
      "metadata": {
        "id": "fa6JhJcB47iM"
      },
      "execution_count": null,
      "outputs": []
    },
    {
      "cell_type": "code",
      "source": [
        "with open('flowers.csv', mode = \"w\") as f:\n",
        "  f.truncate()\n",
        "with open('flowers.csv', mode='a', newline='') as f:\n",
        "  csv_writer = csv.writer(f, delimiter=',', quotechar='\"', quoting=csv.QUOTE_MINIMAL)\n",
        "  csv_writer.writerow(list(np.array([\"img_id\", \"classes\"])))\n",
        "\n",
        "dir = \"data_flowers/jpg/\"\n",
        "arr = os.listdir(dir)\n",
        "arr.sort\n",
        "n = 0\n",
        "for img in arr:\n",
        "  if img[:6] == \"image_\":\n",
        "    img_id = img[:-4]\n",
        "    id = img[6:-4]\n",
        "    id.lstrip('0')\n",
        "    id = int(id)\n",
        "    if (id%80 != 0):\n",
        "      label = (id//80)+1\n",
        "    else:\n",
        "      label = id//80\n",
        "    row = list(np.array([img_id, label]))\n",
        "\n",
        "    # Export to CSV\n",
        "    with open('flowers.csv', mode='a', newline='') as f:\n",
        "      csv_writer = csv.writer(f, delimiter=',', quotechar='\"', quoting=csv.QUOTE_MINIMAL)\n",
        "      csv_writer.writerow(row)"
      ],
      "metadata": {
        "id": "UnmGUqIH5R29"
      },
      "execution_count": null,
      "outputs": []
    },
    {
      "cell_type": "code",
      "source": [
        "# data frame\n",
        "df = pd.read_csv(\"flowers.csv\")\n",
        "\n",
        "# attribute for our images\n",
        "df = df[['img_id', 'classes']]"
      ],
      "metadata": {
        "id": "PJknMN_E5t6v"
      },
      "execution_count": null,
      "outputs": []
    },
    {
      "cell_type": "code",
      "source": [
        "!mkdir data"
      ],
      "metadata": {
        "id": "xfWERbAh5upo"
      },
      "execution_count": null,
      "outputs": []
    },
    {
      "cell_type": "code",
      "source": [
        "%cd data"
      ],
      "metadata": {
        "colab": {
          "base_uri": "https://localhost:8080/"
        },
        "id": "CNEriSyT5xA7",
        "outputId": "132ebb01-92b9-46b0-e0bc-51caaa8e5a29"
      },
      "execution_count": null,
      "outputs": [
        {
          "output_type": "stream",
          "name": "stdout",
          "text": [
            "/content/data\n"
          ]
        }
      ]
    },
    {
      "cell_type": "code",
      "source": [
        "# make folder for each class\n",
        "!mkdir {f1,f2,f3,f4,f5,f6,f7,f8,f9,f10,f11,f12,f13,f14,f15,f16,f17}"
      ],
      "metadata": {
        "id": "p7DezTfh5zGN"
      },
      "execution_count": null,
      "outputs": []
    },
    {
      "cell_type": "code",
      "source": [
        "# separate images to each class folder\n",
        "for i, (_, i_row) in enumerate(df.iterrows()):\n",
        "  file_class = i_row['classes']\n",
        "  file_name = i_row['img_id'] + \".jpg\"\n",
        "  file_path = \"/content/data_flowers/jpg/\" + i_row['img_id'] + \".jpg\"\n",
        "  shutil.copyfile(file_path, 'f' + str(file_class) + \"/\" + file_name)"
      ],
      "metadata": {
        "id": "e10jSWu25171"
      },
      "execution_count": null,
      "outputs": []
    },
    {
      "cell_type": "code",
      "source": [
        "%cd .."
      ],
      "metadata": {
        "colab": {
          "base_uri": "https://localhost:8080/"
        },
        "id": "0jqLR4DK6PDC",
        "outputId": "bbe2b8f8-779c-4d87-d535-c23086cbc19e"
      },
      "execution_count": null,
      "outputs": [
        {
          "output_type": "stream",
          "name": "stdout",
          "text": [
            "/content\n"
          ]
        }
      ]
    },
    {
      "cell_type": "markdown",
      "source": [
        "Finish Data prepare\n",
        "Start to build model"
      ],
      "metadata": {
        "id": "zQKUD8Ji5XRs"
      }
    },
    {
      "cell_type": "code",
      "source": [
        "class LP_ReLU1(nn.Module):\n",
        "    \n",
        "    def __init__(self, in_features, alpha = None):\n",
        "        '''\n",
        "        Initialization.\n",
        "        INPUT:\n",
        "            - in_features: shape of the input\n",
        "            - aplha: trainable parameter\n",
        "            aplha is initialized with zero value by default\n",
        "        '''\n",
        "        super(LP_ReLU1,self).__init__()\n",
        "        self.in_features = in_features\n",
        "\n",
        "        # initialize alpha\n",
        "        if alpha == None:\n",
        "            self.alpha = Parameter(torch.tensor(6.0)) # create a tensor out of alpha\n",
        "        else:\n",
        "            self.alpha = Parameter(torch.tensor(alpha)) # create a tensor out of alpha\n",
        "\n",
        "        self.alpha.requiresGrad = True # set requiresGrad to true!\n",
        "\n",
        "    def forward(self, x):\n",
        "        '''\n",
        "        Forward pass of the function.\n",
        "        Applies the function to the input elementwise.\n",
        "        '''\n",
        "        \n",
        "        threshold0 = torch.zeros(x.shape)\n",
        "        threshold0 = threshold0.to(device)\n",
        "        x1 = torch.where(x < threshold0, threshold0, x)\n",
        "        \n",
        "        threshold1 = torch.ones(x1.shape)\n",
        "        threshold1 = threshold1.to(device)\n",
        "        threshold1 = threshold1 * (self.alpha)\n",
        "        x2 = torch.where(x1 < threshold1, x1, threshold1)\n",
        "\n",
        "        threshold2 = torch.ones(x2.shape)\n",
        "        threshold2 = threshold2.to(device)\n",
        "        threshold2 = threshold2 * (self.alpha)\n",
        "        threshold2 = threshold2.to(device)\n",
        "        x3 = torch.where(x2 > threshold2, 0.05*(x2-threshold2)+threshold2, x2)\n",
        "\n",
        "        return x3"
      ],
      "metadata": {
        "id": "OgfuAzZd6iXi"
      },
      "execution_count": null,
      "outputs": []
    },
    {
      "cell_type": "code",
      "source": [
        "class LP_ReLU2(nn.Module):\n",
        "    \n",
        "    def __init__(self, in_features, alpha = None, beta = None):\n",
        "        '''\n",
        "        Initialization.\n",
        "        INPUT:\n",
        "            - in_features: shape of the input\n",
        "            - aplha: trainable parameter\n",
        "            aplha is initialized with zero value by default\n",
        "        '''\n",
        "        super(LP_ReLU2,self).__init__()\n",
        "        self.in_features = in_features\n",
        "\n",
        "        # initialize alpha\n",
        "        if alpha == None:\n",
        "            self.alpha = Parameter(torch.tensor(5.0)) # create a tensor out of alpha\n",
        "        else:\n",
        "            self.alpha = Parameter(torch.tensor(alpha)) # create a tensor out of alpha\n",
        "        if beta == None:\n",
        "            self.beta = Parameter(torch.tensor(8.1)) \n",
        "        else:\n",
        "            self.beta = Parameter(torch.tensor(beta))\n",
        "\n",
        "        self.alpha.requiresGrad = True # set requiresGrad to true!\n",
        "        self.beta.requiresGrad = True\n",
        "\n",
        "    def forward(self, x):\n",
        "        '''\n",
        "        Forward pass of the function.\n",
        "        Applies the function to the input elementwise.\n",
        "        '''\n",
        "        \n",
        "        threshold0 = torch.zeros(x.shape)\n",
        "        threshold0 = threshold0.to(device)\n",
        "        x1 = torch.where(x < threshold0, threshold0, x)\n",
        "        \n",
        "        threshold1 = torch.ones(x1.shape)\n",
        "        threshold1 = threshold1.to(device)\n",
        "        threshold1 = threshold1 * (self.alpha)\n",
        "        x2 = torch.where(x1 < threshold1, x1, threshold1)\n",
        "\n",
        "        threshold2 = torch.ones(x2.shape)\n",
        "        threshold2 = threshold2.to(device)\n",
        "        threshold2 = threshold2 * (self.alpha)\n",
        "        threshold2 = threshold2.to(device)\n",
        "        x3 = torch.where(x2 > threshold2, 0.05*(x2-threshold2)+threshold2, x2)\n",
        "\n",
        "        threshold3 = torch.ones(x3.shape)\n",
        "        threshold3 = threshold3.to(device)\n",
        "        threshold3 = threshold3 * (self.beta)\n",
        "        f3 = 0.05*(x3-threshold2)+threshold2\n",
        "        max_val = torch.max(f3)\n",
        "        x4 = torch.where(x3 > threshold3, max_val + (0.05/3)*(x3-max_val), x3)\n",
        "\n",
        "        return x4"
      ],
      "metadata": {
        "id": "5s8Kto2YBSoO"
      },
      "execution_count": 40,
      "outputs": []
    },
    {
      "cell_type": "code",
      "execution_count": null,
      "metadata": {
        "id": "iHEm40n82hy1"
      },
      "outputs": [],
      "source": [
        "# Build the ResNet50 model\n",
        "def get_model():\n",
        "    model = torchvision.models.resnet50(weights=None)\n",
        "    model.fc = nn.Linear(2048, 17)\n",
        "\n",
        "    # change activation function\n",
        "    model.relu = LP_ReLU1(64)\n",
        "    model.layer1[0].relu = LP_ReLU1(256)\n",
        "    model.layer1[1].relu = LP_ReLU1(256)\n",
        "    model.layer1[2].relu = LP_ReLU1(256)\n",
        "\n",
        "    model.layer2[0].relu = LP_ReLU1(512)\n",
        "    model.layer2[1].relu = LP_ReLU1(512)\n",
        "    model.layer2[2].relu = LP_ReLU1(512)\n",
        "    model.layer2[3].relu = LP_ReLU1(512)\n",
        "\n",
        "    model.layer3[0].relu = LP_ReLU1(1024)\n",
        "    model.layer3[1].relu = LP_ReLU1(1024)\n",
        "    model.layer3[2].relu = LP_ReLU1(1024)\n",
        "    model.layer3[3].relu = LP_ReLU1(1024)\n",
        "    model.layer3[4].relu = LP_ReLU1(1024)\n",
        "    model.layer3[5].relu = LP_ReLU1(1024)\n",
        "\n",
        "    model.layer4[0].relu = LP_ReLU1(2048)\n",
        "    model.layer4[1].relu = LP_ReLU1(2048)\n",
        "    model.layer4[2].relu = LP_ReLU1(2048)\n",
        "\n",
        "    return model"
      ]
    },
    {
      "cell_type": "code",
      "source": [
        "# Build the ResNet50 model\n",
        "def get_model():\n",
        "    model = torchvision.models.resnet50(weights=None)\n",
        "    model.fc = nn.Linear(2048, 17)\n",
        "\n",
        "    # change activation function\n",
        "    model.relu = LP_ReLU2(64)\n",
        "    model.layer1[0].relu = LP_ReLU2(256)\n",
        "    model.layer1[1].relu = LP_ReLU2(256)\n",
        "    model.layer1[2].relu = LP_ReLU2(256)\n",
        "\n",
        "    model.layer2[0].relu = LP_ReLU2(512)\n",
        "    model.layer2[1].relu = LP_ReLU2(512)\n",
        "    model.layer2[2].relu = LP_ReLU2(512)\n",
        "    model.layer2[3].relu = LP_ReLU2(512)\n",
        "\n",
        "    model.layer3[0].relu = LP_ReLU2(1024)\n",
        "    model.layer3[1].relu = LP_ReLU2(1024)\n",
        "    model.layer3[2].relu = LP_ReLU2(1024)\n",
        "    model.layer3[3].relu = LP_ReLU2(1024)\n",
        "    model.layer3[4].relu = LP_ReLU2(1024)\n",
        "    model.layer3[5].relu = LP_ReLU2(1024)\n",
        "\n",
        "    model.layer4[0].relu = LP_ReLU2(2048)\n",
        "    model.layer4[1].relu = LP_ReLU2(2048)\n",
        "    model.layer4[2].relu = LP_ReLU2(2048)\n",
        "\n",
        "    return model"
      ],
      "metadata": {
        "id": "jiR3nK7qERlo"
      },
      "execution_count": 41,
      "outputs": []
    },
    {
      "cell_type": "code",
      "source": [
        "# model = torchvision.models.resnet50(weights=\"ResNet50_Weights.IMAGENET1K_V1\")\n",
        "# print(model)\n"
      ],
      "metadata": {
        "id": "agPkl5tr71Nh"
      },
      "execution_count": null,
      "outputs": []
    },
    {
      "cell_type": "code",
      "execution_count": null,
      "metadata": {
        "id": "ZdLR_H8s2hy1"
      },
      "outputs": [],
      "source": [
        "# Build the transformer for the dataset in training, validation and testing\n",
        "transformer = transforms.Compose([\n",
        "    transforms.Resize(256),\n",
        "    transforms.CenterCrop(224),\n",
        "    transforms.ToTensor(),\n",
        "    transforms.Normalize(\n",
        "        mean=[0.485, 0.456, 0.406],\n",
        "        std=[0.229, 0.224, 0.225]\n",
        "    )\n",
        "])\n",
        "\n",
        "# Build the dataset in training, validation and testing from ./jpg where the images are stored in 17 folders\n",
        "train_dataset = torchvision.datasets.ImageFolder(root='./data', transform=transformer)\n",
        "\n",
        "# Split the dataset into training, validation and testing\n",
        "train_size = int(0.8 * len(train_dataset))\n",
        "val_size = int(0.1 * len(train_dataset))\n",
        "test_size = len(train_dataset) - train_size - val_size\n",
        "train_dataset, val_dataset, test_dataset = torch.utils.data.random_split(train_dataset, [train_size, val_size, test_size])"
      ]
    },
    {
      "cell_type": "code",
      "execution_count": null,
      "metadata": {
        "id": "b2p8aZ532hy1"
      },
      "outputs": [],
      "source": [
        "# Set the batch size used for model training\n",
        "batch_sizes =[4, 32, 64]"
      ]
    },
    {
      "cell_type": "code",
      "source": [
        "batch_sizes =[32]"
      ],
      "metadata": {
        "id": "LbkmQdIWDZot"
      },
      "execution_count": 42,
      "outputs": []
    },
    {
      "cell_type": "code",
      "execution_count": null,
      "metadata": {
        "id": "CSDXFq2o2hy1"
      },
      "outputs": [],
      "source": [
        "# Define the training function and return loss\n",
        "def train(model, device, train_loader, optimizer, epoch):\n",
        "    model.train()\n",
        "    for batch_idx, (data, target) in enumerate(train_loader):\n",
        "        data, target = data.to(device), target.to(device)\n",
        "        optimizer.zero_grad()\n",
        "        output = model(data)\n",
        "        loss = F.cross_entropy(output, target)\n",
        "        loss.backward()\n",
        "        optimizer.step()\n",
        "        if batch_idx % 100 == 0:\n",
        "            print('Train Epoch: {} [{}/{} ({:.0f}%)]\\tLoss: {:.6f}'.format(\n",
        "                epoch, batch_idx * len(data), len(train_loader.dataset),\n",
        "                100. * batch_idx / len(train_loader), loss.item()))\n",
        "    return loss.item()\n",
        "\n",
        "# Define the validation function and return loss\n",
        "def validate(model, device, valid_loader):\n",
        "    model.eval()\n",
        "    valid_loss = 0\n",
        "    correct = 0\n",
        "    with torch.no_grad():\n",
        "        for data, target in valid_loader:\n",
        "            data, target = data.to(device), target.to(device)\n",
        "            output = model(data)\n",
        "            valid_loss += F.cross_entropy(output, target, reduction='sum').item() # sum up batch loss\n",
        "            pred = output.argmax(dim=1, keepdim=True) # get the index of the max log-probability\n",
        "            correct += pred.eq(target.view_as(pred)).sum().item()\n",
        "\n",
        "    valid_loss /= len(valid_loader.dataset)\n",
        "    print('Validation set: Average loss: {:.4f}, Accuracy: {}/{} ({:.0f}%)'.format(\n",
        "        valid_loss, correct, len(valid_loader.dataset),\n",
        "        100. * correct / len(valid_loader.dataset)))\n",
        "    return valid_loss\n",
        "\n",
        "# Define the testing function and return accuracy\n",
        "def test(model, device, test_loader):\n",
        "    model.eval()\n",
        "    test_loss = 0\n",
        "    correct = 0\n",
        "    with torch.no_grad():\n",
        "        for data, target in test_loader:\n",
        "            data, target = data.to(device), target.to(device)\n",
        "            output = model(data)\n",
        "            test_loss += F.cross_entropy(output, target, reduction='sum').item() # sum up batch loss\n",
        "            pred = output.argmax(dim=1, keepdim=True) # get the index of the max log-probability\n",
        "            correct += pred.eq(target.view_as(pred)).sum().item()\n",
        "\n",
        "    test_loss /= len(test_loader.dataset)\n",
        "    print('Test set: Average loss: {:.4f}, Accuracy: {}/{} ({:.0f}%)'.format(\n",
        "        test_loss, correct, len(test_loader.dataset),\n",
        "        100. * correct / len(test_loader.dataset)))\n",
        "    return correct / len(test_loader.dataset)"
      ]
    },
    {
      "cell_type": "code",
      "execution_count": null,
      "metadata": {
        "id": "dR7F5wd02hy2"
      },
      "outputs": [],
      "source": [
        "# Define the optimizer\n",
        "def get_optimizer(model, lr):\n",
        "    optimizer = torch.optim.SGD(model.parameters(), lr=lr, momentum=0.9)\n",
        "    return optimizer\n",
        "\n",
        "# Define the training process\n",
        "def train_process(model, device, train_loader, valid_loader, optimizer, epochs, test_loader):\n",
        "    train_loss = []\n",
        "    valid_loss = []\n",
        "    test_acc = []\n",
        "    for epoch in range(1, epochs + 1):\n",
        "        train_loss.append(train(model, device, train_loader, optimizer, epoch))\n",
        "        valid_loss.append(validate(model, device, valid_loader))\n",
        "        test_acc.append(test(model, device, test_loader))\n",
        "    return train_loss, valid_loss, test_acc\n"
      ]
    },
    {
      "cell_type": "code",
      "execution_count": null,
      "metadata": {
        "colab": {
          "base_uri": "https://localhost:8080/"
        },
        "id": "ikWhLHaH2hy2",
        "outputId": "a9fc4b44-ca53-4b89-b4af-ced0b3ff6ce4"
      },
      "outputs": [
        {
          "output_type": "stream",
          "name": "stdout",
          "text": [
            "cuda\n"
          ]
        }
      ],
      "source": [
        "# Define the device\n",
        "device = torch.device(\"cuda\" if torch.cuda.is_available() else \"cpu\")\n",
        "print(device)"
      ]
    },
    {
      "cell_type": "code",
      "source": [
        "torch.cuda.empty_cache()"
      ],
      "metadata": {
        "id": "dvLult6jFoL_"
      },
      "execution_count": 44,
      "outputs": []
    },
    {
      "cell_type": "code",
      "source": [
        "torch.cuda.memory_summary(device=None, abbreviated=False)"
      ],
      "metadata": {
        "colab": {
          "base_uri": "https://localhost:8080/",
          "height": 143
        },
        "id": "4I070KP2F8Z-",
        "outputId": "a1233dc0-acc8-4982-f72f-363163877373"
      },
      "execution_count": 43,
      "outputs": [
        {
          "output_type": "execute_result",
          "data": {
            "text/plain": [
              "'|===========================================================================|\\n|                  PyTorch CUDA memory summary, device ID 0                 |\\n|---------------------------------------------------------------------------|\\n|            CUDA OOMs: 8            |        cudaMalloc retries: 9         |\\n|===========================================================================|\\n|        Metric         | Cur Usage  | Peak Usage | Tot Alloc  | Tot Freed  |\\n|---------------------------------------------------------------------------|\\n| Allocated memory      |   13987 MB |   13987 MB |   41434 MB |   27446 MB |\\n|       from large pool |   13874 MB |   13875 MB |   41306 MB |   27432 MB |\\n|       from small pool |     113 MB |     113 MB |     128 MB |      14 MB |\\n|---------------------------------------------------------------------------|\\n| Active memory         |   13987 MB |   13987 MB |   41434 MB |   27446 MB |\\n|       from large pool |   13874 MB |   13875 MB |   41306 MB |   27432 MB |\\n|       from small pool |     113 MB |     113 MB |     128 MB |      14 MB |\\n|---------------------------------------------------------------------------|\\n| GPU reserved memory   |   13998 MB |   14000 MB |   14134 MB |  139264 KB |\\n|       from large pool |   13882 MB |   13940 MB |   14018 MB |  139264 KB |\\n|       from small pool |     116 MB |     116 MB |     116 MB |       0 KB |\\n|---------------------------------------------------------------------------|\\n| Non-releasable memory |   10281 KB |  778840 KB |   14660 MB |   14650 MB |\\n|       from large pool |    8192 KB |  777984 KB |   14572 MB |   14564 MB |\\n|       from small pool |    2089 KB |    6627 KB |      88 MB |      86 MB |\\n|---------------------------------------------------------------------------|\\n| Allocations           |    2436    |    2436    |    3194    |     758    |\\n|       from large pool |     282    |     282    |     583    |     301    |\\n|       from small pool |    2154    |    2154    |    2611    |     457    |\\n|---------------------------------------------------------------------------|\\n| Active allocs         |    2436    |    2436    |    3194    |     758    |\\n|       from large pool |     282    |     282    |     583    |     301    |\\n|       from small pool |    2154    |    2154    |    2611    |     457    |\\n|---------------------------------------------------------------------------|\\n| GPU reserved segments |     149    |     149    |     151    |       2    |\\n|       from large pool |      91    |      91    |      93    |       2    |\\n|       from small pool |      58    |      58    |      58    |       0    |\\n|---------------------------------------------------------------------------|\\n| Non-releasable allocs |      12    |      74    |     330    |     318    |\\n|       from large pool |       6    |      19    |     205    |     199    |\\n|       from small pool |       6    |      65    |     125    |     119    |\\n|---------------------------------------------------------------------------|\\n| Oversize allocations  |       0    |       0    |       0    |       0    |\\n|---------------------------------------------------------------------------|\\n| Oversize GPU segments |       0    |       0    |       0    |       0    |\\n|===========================================================================|\\n'"
            ],
            "application/vnd.google.colaboratory.intrinsic+json": {
              "type": "string"
            }
          },
          "metadata": {},
          "execution_count": 43
        }
      ]
    },
    {
      "cell_type": "code",
      "execution_count": 45,
      "metadata": {
        "colab": {
          "base_uri": "https://localhost:8080/",
          "height": 447
        },
        "id": "I5G1IRnm2hy3",
        "outputId": "d9cbb5a3-8f3e-40ff-863e-54fccc02b2bd"
      },
      "outputs": [
        {
          "output_type": "stream",
          "name": "stdout",
          "text": [
            "Batch size: 32\n"
          ]
        },
        {
          "output_type": "error",
          "ename": "RuntimeError",
          "evalue": "ignored",
          "traceback": [
            "\u001b[0;31m---------------------------------------------------------------------------\u001b[0m",
            "\u001b[0;31mRuntimeError\u001b[0m                              Traceback (most recent call last)",
            "\u001b[0;32m<ipython-input-45-a7210fc8f5b5>\u001b[0m in \u001b[0;36m<module>\u001b[0;34m\u001b[0m\n\u001b[1;32m     11\u001b[0m     \u001b[0mmodel\u001b[0m \u001b[0;34m=\u001b[0m \u001b[0mget_model\u001b[0m\u001b[0;34m(\u001b[0m\u001b[0;34m)\u001b[0m\u001b[0;34m\u001b[0m\u001b[0;34m\u001b[0m\u001b[0m\n\u001b[1;32m     12\u001b[0m     \u001b[0;31m# print(model)\u001b[0m\u001b[0;34m\u001b[0m\u001b[0;34m\u001b[0m\u001b[0;34m\u001b[0m\u001b[0m\n\u001b[0;32m---> 13\u001b[0;31m     \u001b[0mmodel\u001b[0m \u001b[0;34m=\u001b[0m \u001b[0mmodel\u001b[0m\u001b[0;34m.\u001b[0m\u001b[0mto\u001b[0m\u001b[0;34m(\u001b[0m\u001b[0mdevice\u001b[0m\u001b[0;34m)\u001b[0m\u001b[0;34m\u001b[0m\u001b[0;34m\u001b[0m\u001b[0m\n\u001b[0m\u001b[1;32m     14\u001b[0m     \u001b[0moptimizer\u001b[0m \u001b[0;34m=\u001b[0m \u001b[0mget_optimizer\u001b[0m\u001b[0;34m(\u001b[0m\u001b[0mmodel\u001b[0m\u001b[0;34m,\u001b[0m \u001b[0;36m0.001\u001b[0m\u001b[0;34m)\u001b[0m \u001b[0;31m# lr\u001b[0m\u001b[0;34m\u001b[0m\u001b[0;34m\u001b[0m\u001b[0m\n\u001b[1;32m     15\u001b[0m     \u001b[0mtrain_loss\u001b[0m\u001b[0;34m,\u001b[0m \u001b[0mvalid_loss\u001b[0m\u001b[0;34m,\u001b[0m \u001b[0mtest_acc\u001b[0m \u001b[0;34m=\u001b[0m \u001b[0mtrain_process\u001b[0m\u001b[0;34m(\u001b[0m\u001b[0mmodel\u001b[0m\u001b[0;34m,\u001b[0m \u001b[0mdevice\u001b[0m\u001b[0;34m,\u001b[0m \u001b[0mtrain_loader\u001b[0m\u001b[0;34m,\u001b[0m \u001b[0mval_loader\u001b[0m\u001b[0;34m,\u001b[0m \u001b[0moptimizer\u001b[0m\u001b[0;34m,\u001b[0m \u001b[0;36m60\u001b[0m\u001b[0;34m,\u001b[0m \u001b[0mtest_loader\u001b[0m\u001b[0;34m)\u001b[0m\u001b[0;34m\u001b[0m\u001b[0;34m\u001b[0m\u001b[0m\n",
            "\u001b[0;32m/usr/local/lib/python3.7/dist-packages/torch/nn/modules/module.py\u001b[0m in \u001b[0;36mto\u001b[0;34m(self, *args, **kwargs)\u001b[0m\n\u001b[1;32m    925\u001b[0m             \u001b[0;32mreturn\u001b[0m \u001b[0mt\u001b[0m\u001b[0;34m.\u001b[0m\u001b[0mto\u001b[0m\u001b[0;34m(\u001b[0m\u001b[0mdevice\u001b[0m\u001b[0;34m,\u001b[0m \u001b[0mdtype\u001b[0m \u001b[0;32mif\u001b[0m \u001b[0mt\u001b[0m\u001b[0;34m.\u001b[0m\u001b[0mis_floating_point\u001b[0m\u001b[0;34m(\u001b[0m\u001b[0;34m)\u001b[0m \u001b[0;32mor\u001b[0m \u001b[0mt\u001b[0m\u001b[0;34m.\u001b[0m\u001b[0mis_complex\u001b[0m\u001b[0;34m(\u001b[0m\u001b[0;34m)\u001b[0m \u001b[0;32melse\u001b[0m \u001b[0;32mNone\u001b[0m\u001b[0;34m,\u001b[0m \u001b[0mnon_blocking\u001b[0m\u001b[0;34m)\u001b[0m\u001b[0;34m\u001b[0m\u001b[0;34m\u001b[0m\u001b[0m\n\u001b[1;32m    926\u001b[0m \u001b[0;34m\u001b[0m\u001b[0m\n\u001b[0;32m--> 927\u001b[0;31m         \u001b[0;32mreturn\u001b[0m \u001b[0mself\u001b[0m\u001b[0;34m.\u001b[0m\u001b[0m_apply\u001b[0m\u001b[0;34m(\u001b[0m\u001b[0mconvert\u001b[0m\u001b[0;34m)\u001b[0m\u001b[0;34m\u001b[0m\u001b[0;34m\u001b[0m\u001b[0m\n\u001b[0m\u001b[1;32m    928\u001b[0m \u001b[0;34m\u001b[0m\u001b[0m\n\u001b[1;32m    929\u001b[0m     def register_backward_hook(\n",
            "\u001b[0;32m/usr/local/lib/python3.7/dist-packages/torch/nn/modules/module.py\u001b[0m in \u001b[0;36m_apply\u001b[0;34m(self, fn)\u001b[0m\n\u001b[1;32m    577\u001b[0m     \u001b[0;32mdef\u001b[0m \u001b[0m_apply\u001b[0m\u001b[0;34m(\u001b[0m\u001b[0mself\u001b[0m\u001b[0;34m,\u001b[0m \u001b[0mfn\u001b[0m\u001b[0;34m)\u001b[0m\u001b[0;34m:\u001b[0m\u001b[0;34m\u001b[0m\u001b[0;34m\u001b[0m\u001b[0m\n\u001b[1;32m    578\u001b[0m         \u001b[0;32mfor\u001b[0m \u001b[0mmodule\u001b[0m \u001b[0;32min\u001b[0m \u001b[0mself\u001b[0m\u001b[0;34m.\u001b[0m\u001b[0mchildren\u001b[0m\u001b[0;34m(\u001b[0m\u001b[0;34m)\u001b[0m\u001b[0;34m:\u001b[0m\u001b[0;34m\u001b[0m\u001b[0;34m\u001b[0m\u001b[0m\n\u001b[0;32m--> 579\u001b[0;31m             \u001b[0mmodule\u001b[0m\u001b[0;34m.\u001b[0m\u001b[0m_apply\u001b[0m\u001b[0;34m(\u001b[0m\u001b[0mfn\u001b[0m\u001b[0;34m)\u001b[0m\u001b[0;34m\u001b[0m\u001b[0;34m\u001b[0m\u001b[0m\n\u001b[0m\u001b[1;32m    580\u001b[0m \u001b[0;34m\u001b[0m\u001b[0m\n\u001b[1;32m    581\u001b[0m         \u001b[0;32mdef\u001b[0m \u001b[0mcompute_should_use_set_data\u001b[0m\u001b[0;34m(\u001b[0m\u001b[0mtensor\u001b[0m\u001b[0;34m,\u001b[0m \u001b[0mtensor_applied\u001b[0m\u001b[0;34m)\u001b[0m\u001b[0;34m:\u001b[0m\u001b[0;34m\u001b[0m\u001b[0;34m\u001b[0m\u001b[0m\n",
            "\u001b[0;32m/usr/local/lib/python3.7/dist-packages/torch/nn/modules/module.py\u001b[0m in \u001b[0;36m_apply\u001b[0;34m(self, fn)\u001b[0m\n\u001b[1;32m    577\u001b[0m     \u001b[0;32mdef\u001b[0m \u001b[0m_apply\u001b[0m\u001b[0;34m(\u001b[0m\u001b[0mself\u001b[0m\u001b[0;34m,\u001b[0m \u001b[0mfn\u001b[0m\u001b[0;34m)\u001b[0m\u001b[0;34m:\u001b[0m\u001b[0;34m\u001b[0m\u001b[0;34m\u001b[0m\u001b[0m\n\u001b[1;32m    578\u001b[0m         \u001b[0;32mfor\u001b[0m \u001b[0mmodule\u001b[0m \u001b[0;32min\u001b[0m \u001b[0mself\u001b[0m\u001b[0;34m.\u001b[0m\u001b[0mchildren\u001b[0m\u001b[0;34m(\u001b[0m\u001b[0;34m)\u001b[0m\u001b[0;34m:\u001b[0m\u001b[0;34m\u001b[0m\u001b[0;34m\u001b[0m\u001b[0m\n\u001b[0;32m--> 579\u001b[0;31m             \u001b[0mmodule\u001b[0m\u001b[0;34m.\u001b[0m\u001b[0m_apply\u001b[0m\u001b[0;34m(\u001b[0m\u001b[0mfn\u001b[0m\u001b[0;34m)\u001b[0m\u001b[0;34m\u001b[0m\u001b[0;34m\u001b[0m\u001b[0m\n\u001b[0m\u001b[1;32m    580\u001b[0m \u001b[0;34m\u001b[0m\u001b[0m\n\u001b[1;32m    581\u001b[0m         \u001b[0;32mdef\u001b[0m \u001b[0mcompute_should_use_set_data\u001b[0m\u001b[0;34m(\u001b[0m\u001b[0mtensor\u001b[0m\u001b[0;34m,\u001b[0m \u001b[0mtensor_applied\u001b[0m\u001b[0;34m)\u001b[0m\u001b[0;34m:\u001b[0m\u001b[0;34m\u001b[0m\u001b[0;34m\u001b[0m\u001b[0m\n",
            "\u001b[0;32m/usr/local/lib/python3.7/dist-packages/torch/nn/modules/module.py\u001b[0m in \u001b[0;36m_apply\u001b[0;34m(self, fn)\u001b[0m\n\u001b[1;32m    577\u001b[0m     \u001b[0;32mdef\u001b[0m \u001b[0m_apply\u001b[0m\u001b[0;34m(\u001b[0m\u001b[0mself\u001b[0m\u001b[0;34m,\u001b[0m \u001b[0mfn\u001b[0m\u001b[0;34m)\u001b[0m\u001b[0;34m:\u001b[0m\u001b[0;34m\u001b[0m\u001b[0;34m\u001b[0m\u001b[0m\n\u001b[1;32m    578\u001b[0m         \u001b[0;32mfor\u001b[0m \u001b[0mmodule\u001b[0m \u001b[0;32min\u001b[0m \u001b[0mself\u001b[0m\u001b[0;34m.\u001b[0m\u001b[0mchildren\u001b[0m\u001b[0;34m(\u001b[0m\u001b[0;34m)\u001b[0m\u001b[0;34m:\u001b[0m\u001b[0;34m\u001b[0m\u001b[0;34m\u001b[0m\u001b[0m\n\u001b[0;32m--> 579\u001b[0;31m             \u001b[0mmodule\u001b[0m\u001b[0;34m.\u001b[0m\u001b[0m_apply\u001b[0m\u001b[0;34m(\u001b[0m\u001b[0mfn\u001b[0m\u001b[0;34m)\u001b[0m\u001b[0;34m\u001b[0m\u001b[0;34m\u001b[0m\u001b[0m\n\u001b[0m\u001b[1;32m    580\u001b[0m \u001b[0;34m\u001b[0m\u001b[0m\n\u001b[1;32m    581\u001b[0m         \u001b[0;32mdef\u001b[0m \u001b[0mcompute_should_use_set_data\u001b[0m\u001b[0;34m(\u001b[0m\u001b[0mtensor\u001b[0m\u001b[0;34m,\u001b[0m \u001b[0mtensor_applied\u001b[0m\u001b[0;34m)\u001b[0m\u001b[0;34m:\u001b[0m\u001b[0;34m\u001b[0m\u001b[0;34m\u001b[0m\u001b[0m\n",
            "\u001b[0;32m/usr/local/lib/python3.7/dist-packages/torch/nn/modules/module.py\u001b[0m in \u001b[0;36m_apply\u001b[0;34m(self, fn)\u001b[0m\n\u001b[1;32m    577\u001b[0m     \u001b[0;32mdef\u001b[0m \u001b[0m_apply\u001b[0m\u001b[0;34m(\u001b[0m\u001b[0mself\u001b[0m\u001b[0;34m,\u001b[0m \u001b[0mfn\u001b[0m\u001b[0;34m)\u001b[0m\u001b[0;34m:\u001b[0m\u001b[0;34m\u001b[0m\u001b[0;34m\u001b[0m\u001b[0m\n\u001b[1;32m    578\u001b[0m         \u001b[0;32mfor\u001b[0m \u001b[0mmodule\u001b[0m \u001b[0;32min\u001b[0m \u001b[0mself\u001b[0m\u001b[0;34m.\u001b[0m\u001b[0mchildren\u001b[0m\u001b[0;34m(\u001b[0m\u001b[0;34m)\u001b[0m\u001b[0;34m:\u001b[0m\u001b[0;34m\u001b[0m\u001b[0;34m\u001b[0m\u001b[0m\n\u001b[0;32m--> 579\u001b[0;31m             \u001b[0mmodule\u001b[0m\u001b[0;34m.\u001b[0m\u001b[0m_apply\u001b[0m\u001b[0;34m(\u001b[0m\u001b[0mfn\u001b[0m\u001b[0;34m)\u001b[0m\u001b[0;34m\u001b[0m\u001b[0;34m\u001b[0m\u001b[0m\n\u001b[0m\u001b[1;32m    580\u001b[0m \u001b[0;34m\u001b[0m\u001b[0m\n\u001b[1;32m    581\u001b[0m         \u001b[0;32mdef\u001b[0m \u001b[0mcompute_should_use_set_data\u001b[0m\u001b[0;34m(\u001b[0m\u001b[0mtensor\u001b[0m\u001b[0;34m,\u001b[0m \u001b[0mtensor_applied\u001b[0m\u001b[0;34m)\u001b[0m\u001b[0;34m:\u001b[0m\u001b[0;34m\u001b[0m\u001b[0;34m\u001b[0m\u001b[0m\n",
            "\u001b[0;32m/usr/local/lib/python3.7/dist-packages/torch/nn/modules/module.py\u001b[0m in \u001b[0;36m_apply\u001b[0;34m(self, fn)\u001b[0m\n\u001b[1;32m    600\u001b[0m             \u001b[0;31m# `with torch.no_grad():`\u001b[0m\u001b[0;34m\u001b[0m\u001b[0;34m\u001b[0m\u001b[0;34m\u001b[0m\u001b[0m\n\u001b[1;32m    601\u001b[0m             \u001b[0;32mwith\u001b[0m \u001b[0mtorch\u001b[0m\u001b[0;34m.\u001b[0m\u001b[0mno_grad\u001b[0m\u001b[0;34m(\u001b[0m\u001b[0;34m)\u001b[0m\u001b[0;34m:\u001b[0m\u001b[0;34m\u001b[0m\u001b[0;34m\u001b[0m\u001b[0m\n\u001b[0;32m--> 602\u001b[0;31m                 \u001b[0mparam_applied\u001b[0m \u001b[0;34m=\u001b[0m \u001b[0mfn\u001b[0m\u001b[0;34m(\u001b[0m\u001b[0mparam\u001b[0m\u001b[0;34m)\u001b[0m\u001b[0;34m\u001b[0m\u001b[0;34m\u001b[0m\u001b[0m\n\u001b[0m\u001b[1;32m    603\u001b[0m             \u001b[0mshould_use_set_data\u001b[0m \u001b[0;34m=\u001b[0m \u001b[0mcompute_should_use_set_data\u001b[0m\u001b[0;34m(\u001b[0m\u001b[0mparam\u001b[0m\u001b[0;34m,\u001b[0m \u001b[0mparam_applied\u001b[0m\u001b[0;34m)\u001b[0m\u001b[0;34m\u001b[0m\u001b[0;34m\u001b[0m\u001b[0m\n\u001b[1;32m    604\u001b[0m             \u001b[0;32mif\u001b[0m \u001b[0mshould_use_set_data\u001b[0m\u001b[0;34m:\u001b[0m\u001b[0;34m\u001b[0m\u001b[0;34m\u001b[0m\u001b[0m\n",
            "\u001b[0;32m/usr/local/lib/python3.7/dist-packages/torch/nn/modules/module.py\u001b[0m in \u001b[0;36mconvert\u001b[0;34m(t)\u001b[0m\n\u001b[1;32m    923\u001b[0m                 return t.to(device, dtype if t.is_floating_point() or t.is_complex() else None,\n\u001b[1;32m    924\u001b[0m                             non_blocking, memory_format=convert_to_format)\n\u001b[0;32m--> 925\u001b[0;31m             \u001b[0;32mreturn\u001b[0m \u001b[0mt\u001b[0m\u001b[0;34m.\u001b[0m\u001b[0mto\u001b[0m\u001b[0;34m(\u001b[0m\u001b[0mdevice\u001b[0m\u001b[0;34m,\u001b[0m \u001b[0mdtype\u001b[0m \u001b[0;32mif\u001b[0m \u001b[0mt\u001b[0m\u001b[0;34m.\u001b[0m\u001b[0mis_floating_point\u001b[0m\u001b[0;34m(\u001b[0m\u001b[0;34m)\u001b[0m \u001b[0;32mor\u001b[0m \u001b[0mt\u001b[0m\u001b[0;34m.\u001b[0m\u001b[0mis_complex\u001b[0m\u001b[0;34m(\u001b[0m\u001b[0;34m)\u001b[0m \u001b[0;32melse\u001b[0m \u001b[0;32mNone\u001b[0m\u001b[0;34m,\u001b[0m \u001b[0mnon_blocking\u001b[0m\u001b[0;34m)\u001b[0m\u001b[0;34m\u001b[0m\u001b[0;34m\u001b[0m\u001b[0m\n\u001b[0m\u001b[1;32m    926\u001b[0m \u001b[0;34m\u001b[0m\u001b[0m\n\u001b[1;32m    927\u001b[0m         \u001b[0;32mreturn\u001b[0m \u001b[0mself\u001b[0m\u001b[0;34m.\u001b[0m\u001b[0m_apply\u001b[0m\u001b[0;34m(\u001b[0m\u001b[0mconvert\u001b[0m\u001b[0;34m)\u001b[0m\u001b[0;34m\u001b[0m\u001b[0;34m\u001b[0m\u001b[0m\n",
            "\u001b[0;31mRuntimeError\u001b[0m: CUDA out of memory. Tried to allocate 20.00 MiB (GPU 0; 14.76 GiB total capacity; 13.65 GiB already allocated; 5.75 MiB free; 13.67 GiB reserved in total by PyTorch) If reserved memory is >> allocated memory try setting max_split_size_mb to avoid fragmentation.  See documentation for Memory Management and PYTORCH_CUDA_ALLOC_CONF"
          ]
        }
      ],
      "source": [
        "# Start training and testing\n",
        "train_losses = []\n",
        "valid_losses = []\n",
        "test_accs = []\n",
        "i = 0\n",
        "for batch_size in batch_sizes:\n",
        "    print('Batch size: {}'.format(batch_size))\n",
        "    train_loader = torch.utils.data.DataLoader(train_dataset, batch_size=batch_size, shuffle=True)\n",
        "    val_loader = torch.utils.data.DataLoader(val_dataset, batch_size=batch_size, shuffle=True)\n",
        "    test_loader = torch.utils.data.DataLoader(test_dataset, batch_size=batch_size, shuffle=True)\n",
        "    model = get_model()\n",
        "    # print(model)\n",
        "    model = model.to(device)\n",
        "    optimizer = get_optimizer(model, 0.001) # lr\n",
        "    train_loss, valid_loss, test_acc = train_process(model, device, train_loader, val_loader, optimizer, 60, test_loader)\n",
        "    train_losses.append(train_loss)\n",
        "    valid_losses.append(valid_loss)\n",
        "    test_accs.append(test_acc)\n",
        "    i += 1"
      ]
    },
    {
      "cell_type": "code",
      "source": [],
      "metadata": {
        "id": "PDcC53dn-lAd"
      },
      "execution_count": null,
      "outputs": []
    },
    {
      "cell_type": "code",
      "source": [],
      "metadata": {
        "id": "yGqlsXJF-lGK"
      },
      "execution_count": null,
      "outputs": []
    },
    {
      "cell_type": "code",
      "source": [],
      "metadata": {
        "id": "CAyeVu_H-lJN"
      },
      "execution_count": null,
      "outputs": []
    },
    {
      "cell_type": "code",
      "source": [],
      "metadata": {
        "id": "g1fSXxbv-lMG"
      },
      "execution_count": null,
      "outputs": []
    },
    {
      "cell_type": "code",
      "source": [],
      "metadata": {
        "id": "vqeGRoVL-lOr"
      },
      "execution_count": null,
      "outputs": []
    },
    {
      "cell_type": "code",
      "source": [],
      "metadata": {
        "id": "swxVPirT-lRj"
      },
      "execution_count": null,
      "outputs": []
    },
    {
      "cell_type": "code",
      "source": [],
      "metadata": {
        "id": "WEhnpbYu-lUN"
      },
      "execution_count": null,
      "outputs": []
    },
    {
      "cell_type": "markdown",
      "source": [
        "Code after this are for display purpose"
      ],
      "metadata": {
        "id": "Zosmr8Ez-l0R"
      }
    },
    {
      "cell_type": "code",
      "execution_count": null,
      "metadata": {
        "colab": {
          "base_uri": "https://localhost:8080/",
          "height": 421
        },
        "id": "T2TxH3hU2hy3",
        "outputId": "b1f886bb-1e7d-414a-9780-d9708648c510"
      },
      "outputs": [
        {
          "output_type": "execute_result",
          "data": {
            "text/plain": [
              "<matplotlib.legend.Legend at 0x7feb06e41950>"
            ]
          },
          "metadata": {},
          "execution_count": 25
        },
        {
          "output_type": "display_data",
          "data": {
            "text/plain": [
              "<Figure size 720x432 with 1 Axes>"
            ],
            "image/png": "[encoded data removed]"
          },
          "metadata": {
            "needs_background": "light"
          }
        }
      ],
      "source": [
        "# Plot the training for different batch sizes\n",
        "plt.figure(figsize=(10, 6))\n",
        "for i in range(len(batch_sizes)):\n",
        "    plt.plot(train_losses[i], label='batch size = {}'.format(batch_sizes[i]))\n",
        "plt.xlabel('Epochs')\n",
        "plt.ylabel('Loss')\n",
        "plt.title('Training Losses')\n",
        "plt.legend()"
      ]
    },
    {
      "cell_type": "code",
      "execution_count": null,
      "metadata": {
        "colab": {
          "base_uri": "https://localhost:8080/",
          "height": 421
        },
        "id": "cuXb6ZoJ2hy3",
        "outputId": "7f193ec2-1480-407f-faf4-c850fe4fe37a"
      },
      "outputs": [
        {
          "output_type": "execute_result",
          "data": {
            "text/plain": [
              "<matplotlib.legend.Legend at 0x7feb069401d0>"
            ]
          },
          "metadata": {},
          "execution_count": 26
        },
        {
          "output_type": "display_data",
          "data": {
            "text/plain": [
              "<Figure size 720x432 with 1 Axes>"
            ],
            "image/png": "[encoded data removed]"
          },
          "metadata": {
            "needs_background": "light"
          }
        }
      ],
      "source": [
        "# Plot the validation for different batch sizes\n",
        "plt.figure(figsize=(10, 6))\n",
        "for i in range(len(batch_sizes)):\n",
        "    plt.plot(valid_losses[i], label='batch size = {}'.format(batch_sizes[i]))\n",
        "plt.xlabel('Epochs')\n",
        "plt.ylabel('Loss')\n",
        "plt.title('Validation Losses')\n",
        "plt.legend()"
      ]
    },
    {
      "cell_type": "code",
      "execution_count": null,
      "metadata": {
        "colab": {
          "base_uri": "https://localhost:8080/",
          "height": 421
        },
        "id": "fOYqgmgj2hy3",
        "outputId": "f9a10323-5318-4a98-a342-a90ba0286049"
      },
      "outputs": [
        {
          "output_type": "execute_result",
          "data": {
            "text/plain": [
              "<matplotlib.legend.Legend at 0x7feb068c4150>"
            ]
          },
          "metadata": {},
          "execution_count": 27
        },
        {
          "output_type": "display_data",
          "data": {
            "text/plain": [
              "<Figure size 720x432 with 1 Axes>"
            ],
            "image/png": "[encoded data removed]"
          },
          "metadata": {
            "needs_background": "light"
          }
        }
      ],
      "source": [
        "# Plot the test accuracy for different batch sizes\n",
        "plt.figure(figsize=(10, 6))\n",
        "for i in range(len(batch_sizes)):\n",
        "    plt.plot(test_accs[i], label='batch size = {}'.format(batch_sizes[i]))\n",
        "plt.xlabel('Epochs')\n",
        "plt.ylabel('Accuracy')\n",
        "plt.title('Test Accuracies')\n",
        "plt.legend()"
      ]
    },
    {
      "cell_type": "code",
      "source": [],
      "metadata": {
        "id": "Goe-5xyZQt6h"
      },
      "execution_count": null,
      "outputs": []
    },
    {
      "cell_type": "code",
      "source": [],
      "metadata": {
        "id": "Oqyb2A8bQuDP"
      },
      "execution_count": null,
      "outputs": []
    },
    {
      "cell_type": "code",
      "source": [],
      "metadata": {
        "id": "VJcmCu5HQuLe"
      },
      "execution_count": null,
      "outputs": []
    },
    {
      "cell_type": "code",
      "source": [],
      "metadata": {
        "id": "wWGnZKWyQuOW"
      },
      "execution_count": null,
      "outputs": []
    },
    {
      "cell_type": "code",
      "source": [],
      "metadata": {
        "id": "ve7BiFdgQuSo"
      },
      "execution_count": null,
      "outputs": []
    },
    {
      "cell_type": "markdown",
      "source": [
        "only for export plot images"
      ],
      "metadata": {
        "id": "NmaRJygYQu84"
      }
    },
    {
      "cell_type": "code",
      "source": [
        "!mkdir AlexNet_result"
      ],
      "metadata": {
        "id": "OHOvactPIBZK"
      },
      "execution_count": null,
      "outputs": []
    },
    {
      "cell_type": "code",
      "source": [
        "# Change the train_losses, valid_losses, test_losses, test_accs as different pandas dataframes\n",
        "train_lossespd = pd.DataFrame({'batch_size_64': train_losses[0]})\n",
        "valid_lossespd = pd.DataFrame({'batch_size_64': valid_losses[0]})\n",
        "test_accspd = pd.DataFrame({'batch_size_64': test_accs[0]})\n",
        "\n",
        "# Save the train_losses, valid_losses, test_losses, test_accs as csv files\n",
        "train_lossespd.to_csv('./AlexNet_result/train_losses.csv', index=True)\n",
        "valid_lossespd.to_csv('./AlexNet_result/valid_losses.csv', index=True)\n",
        "test_accspd.to_csv('./AlexNet_result/test_accs.csv', index=True)"
      ],
      "metadata": {
        "id": "1wBsx0qdIp9R"
      },
      "execution_count": null,
      "outputs": []
    },
    {
      "cell_type": "code",
      "execution_count": null,
      "metadata": {
        "colab": {
          "base_uri": "https://localhost:8080/",
          "height": 299
        },
        "id": "w-d5Q34f2hy3",
        "outputId": "5c9af461-fb31-45ea-afcc-d08e07df5670"
      },
      "outputs": [
        {
          "output_type": "error",
          "ename": "IndexError",
          "evalue": "ignored",
          "traceback": [
            "\u001b[0;31m---------------------------------------------------------------------------\u001b[0m",
            "\u001b[0;31mIndexError\u001b[0m                                Traceback (most recent call last)",
            "\u001b[0;32m<ipython-input-38-93ee0fb2370e>\u001b[0m in \u001b[0;36m<module>\u001b[0;34m\u001b[0m\n\u001b[1;32m      1\u001b[0m \u001b[0;31m# Change the train_losses, valid_losses, test_losses, test_accs as different pandas dataframes\u001b[0m\u001b[0;34m\u001b[0m\u001b[0;34m\u001b[0m\u001b[0;34m\u001b[0m\u001b[0m\n\u001b[0;32m----> 2\u001b[0;31m \u001b[0mtrain_lossespd\u001b[0m \u001b[0;34m=\u001b[0m \u001b[0mpd\u001b[0m\u001b[0;34m.\u001b[0m\u001b[0mDataFrame\u001b[0m\u001b[0;34m(\u001b[0m\u001b[0;34m{\u001b[0m\u001b[0;34m'batch_size_4'\u001b[0m\u001b[0;34m:\u001b[0m \u001b[0mtrain_losses\u001b[0m\u001b[0;34m[\u001b[0m\u001b[0;36m0\u001b[0m\u001b[0;34m]\u001b[0m\u001b[0;34m,\u001b[0m \u001b[0;34m'batch_size_32'\u001b[0m\u001b[0;34m:\u001b[0m \u001b[0mtrain_losses\u001b[0m\u001b[0;34m[\u001b[0m\u001b[0;36m1\u001b[0m\u001b[0;34m]\u001b[0m\u001b[0;34m,\u001b[0m \u001b[0;34m'batch_size_64'\u001b[0m\u001b[0;34m:\u001b[0m \u001b[0mtrain_losses\u001b[0m\u001b[0;34m[\u001b[0m\u001b[0;36m2\u001b[0m\u001b[0;34m]\u001b[0m\u001b[0;34m}\u001b[0m\u001b[0;34m)\u001b[0m\u001b[0;34m\u001b[0m\u001b[0;34m\u001b[0m\u001b[0m\n\u001b[0m\u001b[1;32m      3\u001b[0m \u001b[0mvalid_lossespd\u001b[0m \u001b[0;34m=\u001b[0m \u001b[0mpd\u001b[0m\u001b[0;34m.\u001b[0m\u001b[0mDataFrame\u001b[0m\u001b[0;34m(\u001b[0m\u001b[0;34m{\u001b[0m\u001b[0;34m'batch_size_4'\u001b[0m\u001b[0;34m:\u001b[0m \u001b[0mvalid_losses\u001b[0m\u001b[0;34m[\u001b[0m\u001b[0;36m0\u001b[0m\u001b[0;34m]\u001b[0m\u001b[0;34m,\u001b[0m \u001b[0;34m'batch_size_32'\u001b[0m\u001b[0;34m:\u001b[0m \u001b[0mvalid_losses\u001b[0m\u001b[0;34m[\u001b[0m\u001b[0;36m1\u001b[0m\u001b[0;34m]\u001b[0m\u001b[0;34m,\u001b[0m \u001b[0;34m'batch_size_64'\u001b[0m\u001b[0;34m:\u001b[0m \u001b[0mvalid_losses\u001b[0m\u001b[0;34m[\u001b[0m\u001b[0;36m2\u001b[0m\u001b[0;34m]\u001b[0m\u001b[0;34m}\u001b[0m\u001b[0;34m)\u001b[0m\u001b[0;34m\u001b[0m\u001b[0;34m\u001b[0m\u001b[0m\n\u001b[1;32m      4\u001b[0m \u001b[0mtest_accspd\u001b[0m \u001b[0;34m=\u001b[0m \u001b[0mpd\u001b[0m\u001b[0;34m.\u001b[0m\u001b[0mDataFrame\u001b[0m\u001b[0;34m(\u001b[0m\u001b[0;34m{\u001b[0m\u001b[0;34m'batch_size_4'\u001b[0m\u001b[0;34m:\u001b[0m \u001b[0mtest_accs\u001b[0m\u001b[0;34m[\u001b[0m\u001b[0;36m0\u001b[0m\u001b[0;34m]\u001b[0m\u001b[0;34m,\u001b[0m \u001b[0;34m'batch_size_32'\u001b[0m\u001b[0;34m:\u001b[0m \u001b[0mtest_accs\u001b[0m\u001b[0;34m[\u001b[0m\u001b[0;36m1\u001b[0m\u001b[0;34m]\u001b[0m\u001b[0;34m,\u001b[0m \u001b[0;34m'batch_size_64'\u001b[0m\u001b[0;34m:\u001b[0m \u001b[0mtest_accs\u001b[0m\u001b[0;34m[\u001b[0m\u001b[0;36m2\u001b[0m\u001b[0;34m]\u001b[0m\u001b[0;34m}\u001b[0m\u001b[0;34m)\u001b[0m\u001b[0;34m\u001b[0m\u001b[0;34m\u001b[0m\u001b[0m\n\u001b[1;32m      5\u001b[0m \u001b[0;34m\u001b[0m\u001b[0m\n",
            "\u001b[0;31mIndexError\u001b[0m: list index out of range"
          ]
        }
      ],
      "source": [
        "# Change the train_losses, valid_losses, test_losses, test_accs as different pandas dataframes\n",
        "train_lossespd = pd.DataFrame({'batch_size_4': train_losses[0], 'batch_size_32': train_losses[1], 'batch_size_64': train_losses[2]})\n",
        "valid_lossespd = pd.DataFrame({'batch_size_4': valid_losses[0], 'batch_size_32': valid_losses[1], 'batch_size_64': valid_losses[2]})\n",
        "test_accspd = pd.DataFrame({'batch_size_4': test_accs[0], 'batch_size_32': test_accs[1], 'batch_size_64': test_accs[2]})\n",
        "\n",
        "# Save the train_losses, valid_losses, test_losses, test_accs as csv files\n",
        "train_lossespd.to_csv('./ResNet50_result/train_losses.csv', index=True)\n",
        "valid_lossespd.to_csv('./ResNet50_result/valid_losses.csv', index=True)\n",
        "test_accspd.to_csv('./ResNet50_result/test_accs.csv', index=True)"
      ]
    },
    {
      "cell_type": "code",
      "source": [
        "import matplotlib.pyplot as plt\n",
        "import csv\n",
        "  \n",
        "x1 = []\n",
        "y1 = []\n",
        "x2 = []\n",
        "y2 = []\n",
        "x3 = []\n",
        "y3 = []\n",
        "\n",
        "x4 = []\n",
        "y4 = []\n",
        "x5 = []\n",
        "y5 = []\n",
        "x6 = []\n",
        "y6 = []\n",
        "  \n",
        "with open('test_accs.csv','r') as csvfile:\n",
        "    lines = csv.reader(csvfile, delimiter=',')\n",
        "    i = 0\n",
        "    for row in lines:\n",
        "      if i == 0:\n",
        "        i += 1\n",
        "        continue\n",
        "      else:\n",
        "        i += 1\n",
        "        x1.append(int(row[0])+1)\n",
        "        y1.append(round(float(row[1]), 2))\n",
        "\n",
        "        x2.append(int(row[0])+1)\n",
        "        y2.append(round(float(row[2]), 2))\n",
        "\n",
        "        x3.append(int(row[0])+1)\n",
        "        y3.append(round(float(row[3]), 2))\n",
        "\n",
        "with open('test_accs_3.csv','r') as csvfile:\n",
        "    lines = csv.reader(csvfile, delimiter=',')\n",
        "    i = 0\n",
        "    for row in lines:\n",
        "      if i == 0:\n",
        "        i += 1\n",
        "        continue\n",
        "      else:\n",
        "        i += 1\n",
        "        x4.append(int(row[0])+1)\n",
        "        y4.append(round(float(row[1]), 2))\n",
        "\n",
        "        x5.append(int(row[0])+1)\n",
        "        y5.append(round(float(row[2]), 2))\n",
        "\n",
        "        x6.append(int(row[0])+1)\n",
        "        y6.append(round(float(row[3]), 2))\n",
        "  \n",
        "# with open('test_accs_vgg16.csv','r') as csvfile:\n",
        "#     lines = csv.reader(csvfile, delimiter=',')\n",
        "#     i = 0\n",
        "#     for row in lines:\n",
        "#       if i == 0:\n",
        "#         i += 1\n",
        "#         continue\n",
        "#       else:\n",
        "#         i += 1\n",
        "#         x2.append(int(row[0])+1)\n",
        "#         y2.append(round(float(row[1]), 2))\n",
        "\n",
        "# with open('test_accs_vgg19.csv','r') as csvfile:\n",
        "#     lines = csv.reader(csvfile, delimiter=',')\n",
        "#     i = 0\n",
        "#     for row in lines:\n",
        "#       if i == 0:\n",
        "#         i += 1\n",
        "#         continue\n",
        "#       else:\n",
        "#         i += 1\n",
        "#         x3.append(int(row[0])+1)\n",
        "#         y3.append(round(float(row[1]), 2))\n",
        "\n",
        "# with open('test_accs_res50.csv','r') as csvfile:\n",
        "#     lines = csv.reader(csvfile, delimiter=',')\n",
        "#     i = 0\n",
        "#     for row in lines:\n",
        "#       if i == 0:\n",
        "#         i += 1\n",
        "#         continue\n",
        "#       else:\n",
        "#         i += 1\n",
        "#         x4.append(int(row[0])+1)\n",
        "#         y4.append(round(float(row[1]), 2))\n",
        "\n",
        "# with open('test_accs_res101.csv','r') as csvfile:\n",
        "#     lines = csv.reader(csvfile, delimiter=',')\n",
        "#     i = 0\n",
        "#     for row in lines:\n",
        "#       if i == 0:\n",
        "#         i += 1\n",
        "#         continue\n",
        "#       else:\n",
        "#         i += 1\n",
        "#         x5.append(int(row[0])+1)\n",
        "#         y5.append(round(float(row[1]), 2))\n",
        "\n",
        "      \n",
        "plt.figure(figsize=(10, 6))\n",
        "plt.plot(x1, y1, color = 'c', label = \"lr=1e-3 batch_size_4\")\n",
        "plt.plot(x2, y2, color = 'c', linestyle = 'dashed', label = \"lr=1e-3 batch_size_32\")\n",
        "plt.plot(x3, y3, color = 'c', linestyle = 'dotted', label = \"lr=1e-3 batch_size_64\")\n",
        "plt.plot(x4, y4, color = 'm', label = \"lr=1e-3 batch_size_4 (with pretrain weights)\")\n",
        "plt.plot(x5, y5, color = 'm', label = \"lr=1e-3 batch_size_32 (with pretrain weights)\")\n",
        "plt.plot(x6, y6, color = 'm', linestyle = 'dotted', label = \"lr=1e-3 batch_size_64 (with pretrain weights)\")\n",
        "  \n",
        "#plt.xticks(rotation = 25)\n",
        "plt.xlabel('Epoch', fontsize = 15)\n",
        "plt.ylabel('Test Accuracy', fontsize = 15)\n",
        "plt.title('ResNet50 Test Accuracy (without pretrain weights)', fontsize = 20)\n",
        "plt.legend()\n",
        "plt.show()"
      ],
      "metadata": {
        "colab": {
          "base_uri": "https://localhost:8080/",
          "height": 414
        },
        "id": "xqdmuWZ8Ug6Y",
        "outputId": "efbea8aa-7c0c-418d-82e2-621f72f8e0c1"
      },
      "execution_count": null,
      "outputs": [
        {
          "output_type": "display_data",
          "data": {
            "text/plain": [
              "<Figure size 720x432 with 1 Axes>"
            ],
            "image/png": "[encoded data removed]"
          },
          "metadata": {
            "needs_background": "light"
          }
        }
      ]
    },
    {
      "cell_type": "code",
      "source": [
        "def ResNet50(img_channels=3, num_classes=17):\n",
        "  return ResNet(block, [3,4,6,3], img_channels, num_classes)\n",
        "  \n",
        "def get_model2():\n",
        "  model = ResNet50()\n",
        "  return model\n",
        "\n",
        "model = get_model2()"
      ],
      "metadata": {
        "id": "oxl4KO_RJMOS"
      },
      "execution_count": null,
      "outputs": []
    },
    {
      "cell_type": "code",
      "source": [
        "from torch.functional import Tensor\n",
        "# define new activation function\n",
        "class LP_ReLU2(nn.Module):\n",
        "    \n",
        "    def __init__(self, in_features, alpha = None, beta = None):\n",
        "        \n",
        "        super(LP_ReLU2,self).__init__()\n",
        "        self.in_features = in_features\n",
        "\n",
        "        # initialize alpha\n",
        "        if alpha == None:\n",
        "            self.alpha = Parameter(torch.tensor(5.0)) # create a tensor out of alpha\n",
        "        else:\n",
        "            self.alpha = Parameter(torch.tensor(alpha)) # create a tensor out of alpha\n",
        "\n",
        "        if beta == None:\n",
        "            self.beta = Parameter(torch.tensor(8.1)) # create a tensor out of beta\n",
        "        else:\n",
        "            self.beta = Parameter(torch.tensor(beta)) # create a tensor out of beta\n",
        "            \n",
        "        self.alpha.requiresGrad = True # set requiresGrad to true!\n",
        "        self.beta.requiresGrad = True # set requiresGrad to true!\n",
        "\n",
        "    def forward(self, x:Tensor)->Tensor:\n",
        "        '''\n",
        "        Forward pass of the function.\n",
        "        Applies the function to the input elementwise.\n",
        "        '''\n",
        "        if (x <= 0.0):\n",
        "            return 0\n",
        "\n",
        "        if (x <= self.alpha and x > 0):\n",
        "            return x\n",
        "\n",
        "        if (x > self.alpha and x <= self.beta):\n",
        "            return (self.alpha + 0.05*(x - self.alpha))\n",
        "\n",
        "        if (x > self.beta):\n",
        "            return (max(self.alpha + 0.05*(x - self.alpha)) + (0.05/3)*(x - max(self.alpha + 0.05*(x - self.alpha))))\n",
        "\n",
        "\n",
        "\n",
        "\n",
        "# testing\n",
        "acti = LP_ReLU2(256)"
      ],
      "metadata": {
        "id": "i4V1PPPo-u_C"
      },
      "execution_count": null,
      "outputs": []
    },
    {
      "cell_type": "code",
      "source": [
        "# try rebuild resnet50\n",
        "class block(nn.Module):\n",
        "  def __init__(self, in_channels, out_channels, identity_downsample=None, stride=1):\n",
        "    super(block, self).__init__()\n",
        "    self.expansion = 4\n",
        "    self.conv1 = nn.Conv2d(in_channels, out_channels, kernel_size=1, stride=1, padding=0)\n",
        "    self.bn1 = nn.BatchNorm2d(out_channels)\n",
        "    self.conv2 = nn.Conv2d(out_channels, out_channels, kernel_size=3, stride=stride, padding=1)\n",
        "    self.bn2 = nn.BatchNorm2d(out_channels)\n",
        "    self.conv3 = nn.Conv2d(out_channels, out_channels*self.expansion, kernel_size=1, stride=1, padding=0)\n",
        "    self.bn3 = nn.BatchNorm2d(out_channels*self.expansion)\n",
        "    self.relu = LP_ReLU1(out_channels*self.expansion)\n",
        "    self.identity_downsample = identity_downsample\n",
        "\n",
        "  def forward(self, x):\n",
        "    identity = x\n",
        "    x = self.conv1(x)\n",
        "    x = self.bn1(x)\n",
        "    x = self.conv2(x)\n",
        "    x = self.bn2(x)\n",
        "    x = self.conv3(x)\n",
        "    x = self.bn3(x)\n",
        "\n",
        "    if self.identity_downsample is not None:\n",
        "      identity = self.identity_downsample(identity)\n",
        "\n",
        "    x += identity\n",
        "    x = self.relu(x)\n",
        "    return x"
      ],
      "metadata": {
        "id": "K8uv9QL2JCUM"
      },
      "execution_count": null,
      "outputs": []
    },
    {
      "cell_type": "code",
      "source": [
        "class ResNet(nn.Module):\n",
        "  def __init__(self, block, layers, image_channels, num_classes):\n",
        "    super(ResNet, self).__init__()\n",
        "    self.in_channels = 64\n",
        "    self.conv1 = nn.Conv2d(image_channels, 64, kernel_size=7, stride=2, padding=3)\n",
        "    self.bn1 = nn.BatchNorm2d(64)\n",
        "    self.relu = LP_ReLU1(64)\n",
        "    self.maxpool = nn.MaxPool2d(kernel_size=3, stride=2, padding=1)\n",
        "\n",
        "    # ResNet layer\n",
        "    self.layer1 = self._make_layer(block, layers[0], out_channels = 64, stride=1)\n",
        "    self.layer2 = self._make_layer(block, layers[1], out_channels = 128, stride=2)\n",
        "    self.layer3 = self._make_layer(block, layers[2], out_channels = 256, stride=2)\n",
        "    self.layer4 = self._make_layer(block, layers[3], out_channels = 512, stride=2)\n",
        "\n",
        "    self.avgpool = nn.AdaptiveAvgPool2d((1,1))\n",
        "    self.fc = nn.Linear(512*4, num_classes)\n",
        "\n",
        "  def forward(self, x):\n",
        "    \n",
        "\n",
        "    x = self.conv1(x)\n",
        "    x = self.bn1(x)\n",
        "    x = self.relu(x)\n",
        "    x = self.maxpool(x)\n",
        "\n",
        "    x = self.layer1(x)\n",
        "    x = self.layer2(x)\n",
        "    x = self.layer3(x)\n",
        "    x = self.layer4(x)\n",
        "\n",
        "    x = self.avgpool(x)\n",
        "    x = x.reshape(x.shape[0], -1)\n",
        "    x = self.fc(x)\n",
        "    return x\n",
        "\n",
        "  def _make_layer(self, block, num_residual_blocks, out_channels, stride):\n",
        "    identity_downsample = None\n",
        "    layers = []\n",
        "\n",
        "    if stride != 1 or self.in_channels != out_channels * 4:\n",
        "      identity_downsample = nn.Sequential(nn.Conv2d(self.in_channels, out_channels*4, kernel_size=1, stride=stride))\n",
        "\n",
        "    layers.append(block(self.in_channels, out_channels, identity_downsample, stride))\n",
        "    self.in_channels = out_channels*4 \n",
        "\n",
        "    for i in range(num_residual_blocks - 1):\n",
        "      layers.append(block(self.in_channels, out_channels))\n",
        "    return nn.Sequential(*layers)"
      ],
      "metadata": {
        "id": "3cXP8af8JI0y"
      },
      "execution_count": null,
      "outputs": []
    }
  ],
  "metadata": {
    "kernelspec": {
      "display_name": "Python 3 (ipykernel)",
      "language": "python",
      "name": "python3"
    },
    "language_info": {
      "codemirror_mode": {
        "name": "ipython",
        "version": 3
      },
      "file_extension": ".py",
      "mimetype": "text/x-python",
      "name": "python",
      "nbconvert_exporter": "python",
      "pygments_lexer": "ipython3",
      "version": "3.8.13"
    },
    "vscode": {
      "interpreter": {
        "hash": "aee8b7b246df8f9039afb4144a1f6fd8d2ca17a180786b69acc140d282b71a49"
      }
    },
    "colab": {
      "provenance": []
    },
    "accelerator": "GPU",
    "gpuClass": "standard"
  },
  "nbformat": 4,
  "nbformat_minor": 0
}