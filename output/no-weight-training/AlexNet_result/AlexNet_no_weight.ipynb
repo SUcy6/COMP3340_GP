{
  "cells": [
    {
      "cell_type": "code",
      "execution_count": 1,
      "metadata": {
        "id": "h5EjqPk_2hyz"
      },
      "outputs": [],
      "source": [
        "import torch\n",
        "import torch.nn as nn\n",
        "import torch.nn.functional as F\n",
        "import torch.optim as optim\n",
        "from torchvision import datasets, transforms\n",
        "from torch.optim.lr_scheduler import StepLR\n",
        "import torchvision\n",
        "import matplotlib.pyplot as plt\n",
        "import numpy as np\n",
        "import pandas as pd\n",
        "import tarfile\n",
        "import os\n",
        "import csv\n",
        "import shutil"
      ]
    },
    {
      "cell_type": "code",
      "execution_count": 2,
      "metadata": {
        "colab": {
          "base_uri": "https://localhost:8080/"
        },
        "id": "x2MAYYy32hy0",
        "outputId": "523a6697-d22d-41cd-92f7-ec59c5bb7232"
      },
      "outputs": [
        {
          "output_type": "stream",
          "name": "stdout",
          "text": [
            "--2022-10-26 03:08:01--  http://www.robots.ox.ac.uk/~vgg/data/flowers/17/17flowers.tgz\n",
            "Resolving www.robots.ox.ac.uk (www.robots.ox.ac.uk)... 129.67.94.2\n",
            "Connecting to www.robots.ox.ac.uk (www.robots.ox.ac.uk)|129.67.94.2|:80... connected.\n",
            "HTTP request sent, awaiting response... 301 Moved Permanently\n",
            "Location: https://www.robots.ox.ac.uk/~vgg/data/flowers/17/17flowers.tgz [following]\n",
            "--2022-10-26 03:08:01--  https://www.robots.ox.ac.uk/~vgg/data/flowers/17/17flowers.tgz\n",
            "Connecting to www.robots.ox.ac.uk (www.robots.ox.ac.uk)|129.67.94.2|:443... connected.\n",
            "HTTP request sent, awaiting response... 200 OK\n",
            "Length: 60270631 (57M) [application/x-gzip]\n",
            "Saving to: ‘17flowers.tgz’\n",
            "\n",
            "17flowers.tgz       100%[===================>]  57.48M  96.3MB/s    in 0.6s    \n",
            "\n",
            "2022-10-26 03:08:02 (96.3 MB/s) - ‘17flowers.tgz’ saved [60270631/60270631]\n",
            "\n"
          ]
        }
      ],
      "source": [
        "# Download Oxford 17 Category Flower Dataset\n",
        "!wget http://www.robots.ox.ac.uk/~vgg/data/flowers/17/17flowers.tgz -O 17flowers.tgz"
      ]
    },
    {
      "cell_type": "code",
      "source": [
        "file = tarfile.open(\"17flowers.tgz\")\n",
        "file.extractall(\"data_flowers/\")\n",
        "dir = \"data_flowers/jpg/\"\n",
        "arr = os.listdir(dir)\n",
        "\n",
        "# uncomment this if you just download a new flower17 dataset\n",
        "# otherwise, you don't need to remove this file again\n",
        "os.remove(\"data_flowers/jpg/files.txt\") # this file is useless"
      ],
      "metadata": {
        "id": "fa6JhJcB47iM"
      },
      "execution_count": 3,
      "outputs": []
    },
    {
      "cell_type": "code",
      "source": [
        "with open('flowers.csv', mode = \"w\") as f:\n",
        "  f.truncate()\n",
        "with open('flowers.csv', mode='a', newline='') as f:\n",
        "  csv_writer = csv.writer(f, delimiter=',', quotechar='\"', quoting=csv.QUOTE_MINIMAL)\n",
        "  csv_writer.writerow(list(np.array([\"img_id\", \"classes\"])))\n",
        "\n",
        "dir = \"data_flowers/jpg/\"\n",
        "arr = os.listdir(dir)\n",
        "arr.sort\n",
        "n = 0\n",
        "for img in arr:\n",
        "  if img[:6] == \"image_\":\n",
        "    img_id = img[:-4]\n",
        "    id = img[6:-4]\n",
        "    id.lstrip('0')\n",
        "    id = int(id)\n",
        "    if (id%80 != 0):\n",
        "      label = (id//80)+1\n",
        "    else:\n",
        "      label = id//80\n",
        "    row = list(np.array([img_id, label]))\n",
        "\n",
        "    # Export to CSV\n",
        "    with open('flowers.csv', mode='a', newline='') as f:\n",
        "      csv_writer = csv.writer(f, delimiter=',', quotechar='\"', quoting=csv.QUOTE_MINIMAL)\n",
        "      csv_writer.writerow(row)"
      ],
      "metadata": {
        "id": "UnmGUqIH5R29"
      },
      "execution_count": 4,
      "outputs": []
    },
    {
      "cell_type": "code",
      "source": [
        "# data frame\n",
        "df = pd.read_csv(\"flowers.csv\")\n",
        "\n",
        "# attribute for our images\n",
        "df = df[['img_id', 'classes']]"
      ],
      "metadata": {
        "id": "PJknMN_E5t6v"
      },
      "execution_count": 5,
      "outputs": []
    },
    {
      "cell_type": "code",
      "source": [
        "!mkdir data"
      ],
      "metadata": {
        "id": "xfWERbAh5upo"
      },
      "execution_count": 6,
      "outputs": []
    },
    {
      "cell_type": "code",
      "source": [
        "%cd data"
      ],
      "metadata": {
        "colab": {
          "base_uri": "https://localhost:8080/"
        },
        "id": "CNEriSyT5xA7",
        "outputId": "03dcabd3-775b-498b-8846-0f218fac037e"
      },
      "execution_count": 7,
      "outputs": [
        {
          "output_type": "stream",
          "name": "stdout",
          "text": [
            "/content/data\n"
          ]
        }
      ]
    },
    {
      "cell_type": "code",
      "source": [
        "# make folder for each class\n",
        "!mkdir {f1,f2,f3,f4,f5,f6,f7,f8,f9,f10,f11,f12,f13,f14,f15,f16,f17}"
      ],
      "metadata": {
        "id": "p7DezTfh5zGN"
      },
      "execution_count": 8,
      "outputs": []
    },
    {
      "cell_type": "code",
      "source": [
        "# separate images to each class folder\n",
        "for i, (_, i_row) in enumerate(df.iterrows()):\n",
        "  file_class = i_row['classes']\n",
        "  file_name = i_row['img_id'] + \".jpg\"\n",
        "  file_path = \"/content/data_flowers/jpg/\" + i_row['img_id'] + \".jpg\"\n",
        "  shutil.copyfile(file_path, 'f' + str(file_class) + \"/\" + file_name)"
      ],
      "metadata": {
        "id": "e10jSWu25171"
      },
      "execution_count": 9,
      "outputs": []
    },
    {
      "cell_type": "code",
      "source": [
        "%cd .."
      ],
      "metadata": {
        "colab": {
          "base_uri": "https://localhost:8080/"
        },
        "id": "0jqLR4DK6PDC",
        "outputId": "2b31f503-79c4-41bd-8322-4de5cbc231cc"
      },
      "execution_count": 10,
      "outputs": [
        {
          "output_type": "stream",
          "name": "stdout",
          "text": [
            "/content\n"
          ]
        }
      ]
    },
    {
      "cell_type": "code",
      "execution_count": 11,
      "metadata": {
        "id": "iHEm40n82hy1"
      },
      "outputs": [],
      "source": [
        "# Build the ResNet50 model\n",
        "def get_model():\n",
        "    model = torchvision.models.alexnet(weights=None)\n",
        "\n",
        "    model.fc = nn.Linear(2048, 17)\n",
        "    return model"
      ]
    },
    {
      "cell_type": "code",
      "source": [
        "model = torchvision.models.resnet50(weights=\"ResNet50_Weights.IMAGENET1K_V1\")\n",
        "print(model)"
      ],
      "metadata": {
        "id": "agPkl5tr71Nh"
      },
      "execution_count": null,
      "outputs": []
    },
    {
      "cell_type": "code",
      "execution_count": 12,
      "metadata": {
        "id": "ZdLR_H8s2hy1"
      },
      "outputs": [],
      "source": [
        "# Build the transformer for the dataset in training, validation and testing\n",
        "transformer = transforms.Compose([\n",
        "    transforms.Resize(256),\n",
        "    transforms.CenterCrop(224),\n",
        "    transforms.ToTensor(),\n",
        "    transforms.Normalize(\n",
        "        mean=[0.485, 0.456, 0.406],\n",
        "        std=[0.229, 0.224, 0.225]\n",
        "    )\n",
        "])\n",
        "\n",
        "# Build the dataset in training, validation and testing from ./jpg where the images are stored in 17 folders\n",
        "train_dataset = torchvision.datasets.ImageFolder(root='./data', transform=transformer)\n",
        "\n",
        "# Split the dataset into training, validation and testing\n",
        "train_size = int(0.8 * len(train_dataset))\n",
        "val_size = int(0.1 * len(train_dataset))\n",
        "test_size = len(train_dataset) - train_size - val_size\n",
        "train_dataset, val_dataset, test_dataset = torch.utils.data.random_split(train_dataset, [train_size, val_size, test_size])"
      ]
    },
    {
      "cell_type": "code",
      "execution_count": null,
      "metadata": {
        "id": "b2p8aZ532hy1"
      },
      "outputs": [],
      "source": [
        "# Set the batch size used for model training\n",
        "batch_sizes =[4, 32, 64]"
      ]
    },
    {
      "cell_type": "code",
      "source": [
        "batch_sizes =[64]"
      ],
      "metadata": {
        "id": "LbkmQdIWDZot"
      },
      "execution_count": 13,
      "outputs": []
    },
    {
      "cell_type": "code",
      "execution_count": 14,
      "metadata": {
        "id": "CSDXFq2o2hy1"
      },
      "outputs": [],
      "source": [
        "# Define the training function and return loss\n",
        "def train(model, device, train_loader, optimizer, epoch):\n",
        "    model.train()\n",
        "    for batch_idx, (data, target) in enumerate(train_loader):\n",
        "        data, target = data.to(device), target.to(device)\n",
        "        optimizer.zero_grad()\n",
        "        output = model(data)\n",
        "        loss = F.cross_entropy(output, target)\n",
        "        loss.backward()\n",
        "        optimizer.step()\n",
        "        if batch_idx % 100 == 0:\n",
        "            print('Train Epoch: {} [{}/{} ({:.0f}%)]\\tLoss: {:.6f}'.format(\n",
        "                epoch, batch_idx * len(data), len(train_loader.dataset),\n",
        "                100. * batch_idx / len(train_loader), loss.item()))\n",
        "    return loss.item()\n",
        "\n",
        "# Define the validation function and return loss\n",
        "def validate(model, device, valid_loader):\n",
        "    model.eval()\n",
        "    valid_loss = 0\n",
        "    correct = 0\n",
        "    with torch.no_grad():\n",
        "        for data, target in valid_loader:\n",
        "            data, target = data.to(device), target.to(device)\n",
        "            output = model(data)\n",
        "            valid_loss += F.cross_entropy(output, target, reduction='sum').item() # sum up batch loss\n",
        "            pred = output.argmax(dim=1, keepdim=True) # get the index of the max log-probability\n",
        "            correct += pred.eq(target.view_as(pred)).sum().item()\n",
        "\n",
        "    valid_loss /= len(valid_loader.dataset)\n",
        "    print('Validation set: Average loss: {:.4f}, Accuracy: {}/{} ({:.0f}%)'.format(\n",
        "        valid_loss, correct, len(valid_loader.dataset),\n",
        "        100. * correct / len(valid_loader.dataset)))\n",
        "    return valid_loss\n",
        "\n",
        "# Define the testing function and return accuracy\n",
        "def test(model, device, test_loader):\n",
        "    model.eval()\n",
        "    test_loss = 0\n",
        "    correct = 0\n",
        "    with torch.no_grad():\n",
        "        for data, target in test_loader:\n",
        "            data, target = data.to(device), target.to(device)\n",
        "            output = model(data)\n",
        "            test_loss += F.cross_entropy(output, target, reduction='sum').item() # sum up batch loss\n",
        "            pred = output.argmax(dim=1, keepdim=True) # get the index of the max log-probability\n",
        "            correct += pred.eq(target.view_as(pred)).sum().item()\n",
        "\n",
        "    test_loss /= len(test_loader.dataset)\n",
        "    print('Test set: Average loss: {:.4f}, Accuracy: {}/{} ({:.0f}%)'.format(\n",
        "        test_loss, correct, len(test_loader.dataset),\n",
        "        100. * correct / len(test_loader.dataset)))\n",
        "    return correct / len(test_loader.dataset)"
      ]
    },
    {
      "cell_type": "code",
      "execution_count": 15,
      "metadata": {
        "id": "dR7F5wd02hy2"
      },
      "outputs": [],
      "source": [
        "# Define the optimizer\n",
        "def get_optimizer(model, lr):\n",
        "    optimizer = torch.optim.SGD(model.parameters(), lr=lr, momentum=0.9)\n",
        "    return optimizer\n",
        "\n",
        "# Define the training process\n",
        "def train_process(model, device, train_loader, valid_loader, optimizer, epochs, test_loader):\n",
        "    train_loss = []\n",
        "    valid_loss = []\n",
        "    test_acc = []\n",
        "    for epoch in range(1, epochs + 1):\n",
        "        train_loss.append(train(model, device, train_loader, optimizer, epoch))\n",
        "        valid_loss.append(validate(model, device, valid_loader))\n",
        "        test_acc.append(test(model, device, test_loader))\n",
        "    return train_loss, valid_loss, test_acc\n"
      ]
    },
    {
      "cell_type": "code",
      "execution_count": 16,
      "metadata": {
        "colab": {
          "base_uri": "https://localhost:8080/"
        },
        "id": "ikWhLHaH2hy2",
        "outputId": "ca27d369-4d89-4cce-e447-ec651e7ffa40"
      },
      "outputs": [
        {
          "output_type": "stream",
          "name": "stdout",
          "text": [
            "cuda\n"
          ]
        }
      ],
      "source": [
        "# Define the device\n",
        "device = torch.device(\"cuda\" if torch.cuda.is_available() else \"cpu\")\n",
        "print(device)"
      ]
    },
    {
      "cell_type": "code",
      "execution_count": 17,
      "metadata": {
        "colab": {
          "base_uri": "https://localhost:8080/"
        },
        "id": "I5G1IRnm2hy3",
        "outputId": "5bcd743c-795e-48d6-9a97-d5353c45b3c6"
      },
      "outputs": [
        {
          "output_type": "stream",
          "name": "stdout",
          "text": [
            "Batch size: 64\n",
            "Train Epoch: 1 [0/1088 (0%)]\tLoss: 6.908364\n",
            "Validation set: Average loss: 6.8971, Accuracy: 3/136 (2%)\n",
            "Test set: Average loss: 6.8964, Accuracy: 3/136 (2%)\n",
            "Train Epoch: 2 [0/1088 (0%)]\tLoss: 6.896958\n",
            "Validation set: Average loss: 6.8796, Accuracy: 6/136 (4%)\n",
            "Test set: Average loss: 6.8792, Accuracy: 5/136 (4%)\n",
            "Train Epoch: 3 [0/1088 (0%)]\tLoss: 6.878712\n",
            "Validation set: Average loss: 6.8585, Accuracy: 5/136 (4%)\n",
            "Test set: Average loss: 6.8583, Accuracy: 4/136 (3%)\n",
            "Train Epoch: 4 [0/1088 (0%)]\tLoss: 6.860829\n",
            "Validation set: Average loss: 6.8272, Accuracy: 8/136 (6%)\n",
            "Test set: Average loss: 6.8277, Accuracy: 4/136 (3%)\n",
            "Train Epoch: 5 [0/1088 (0%)]\tLoss: 6.821767\n",
            "Validation set: Average loss: 6.7464, Accuracy: 9/136 (7%)\n",
            "Test set: Average loss: 6.7487, Accuracy: 8/136 (6%)\n",
            "Train Epoch: 6 [0/1088 (0%)]\tLoss: 6.725469\n",
            "Validation set: Average loss: 5.6580, Accuracy: 9/136 (7%)\n",
            "Test set: Average loss: 5.6852, Accuracy: 6/136 (4%)\n",
            "Train Epoch: 7 [0/1088 (0%)]\tLoss: 5.601702\n",
            "Validation set: Average loss: 3.4593, Accuracy: 9/136 (7%)\n",
            "Test set: Average loss: 3.7688, Accuracy: 9/136 (7%)\n",
            "Train Epoch: 8 [0/1088 (0%)]\tLoss: 3.827666\n",
            "Validation set: Average loss: 3.1063, Accuracy: 7/136 (5%)\n",
            "Test set: Average loss: 3.0224, Accuracy: 7/136 (5%)\n",
            "Train Epoch: 9 [0/1088 (0%)]\tLoss: 3.258214\n",
            "Validation set: Average loss: 2.9641, Accuracy: 9/136 (7%)\n",
            "Test set: Average loss: 2.9842, Accuracy: 5/136 (4%)\n",
            "Train Epoch: 10 [0/1088 (0%)]\tLoss: 2.936368\n",
            "Validation set: Average loss: 2.8687, Accuracy: 8/136 (6%)\n",
            "Test set: Average loss: 2.9038, Accuracy: 7/136 (5%)\n",
            "Train Epoch: 11 [0/1088 (0%)]\tLoss: 2.833004\n",
            "Validation set: Average loss: 2.8350, Accuracy: 8/136 (6%)\n",
            "Test set: Average loss: 2.8939, Accuracy: 7/136 (5%)\n",
            "Train Epoch: 12 [0/1088 (0%)]\tLoss: 2.873593\n",
            "Validation set: Average loss: 2.8475, Accuracy: 9/136 (7%)\n",
            "Test set: Average loss: 2.8751, Accuracy: 12/136 (9%)\n",
            "Train Epoch: 13 [0/1088 (0%)]\tLoss: 2.872267\n",
            "Validation set: Average loss: 2.8351, Accuracy: 9/136 (7%)\n",
            "Test set: Average loss: 2.9528, Accuracy: 5/136 (4%)\n",
            "Train Epoch: 14 [0/1088 (0%)]\tLoss: 2.917371\n",
            "Validation set: Average loss: 2.8271, Accuracy: 18/136 (13%)\n",
            "Test set: Average loss: 2.8767, Accuracy: 13/136 (10%)\n",
            "Train Epoch: 15 [0/1088 (0%)]\tLoss: 2.898907\n",
            "Validation set: Average loss: 2.8449, Accuracy: 5/136 (4%)\n",
            "Test set: Average loss: 2.8931, Accuracy: 8/136 (6%)\n",
            "Train Epoch: 16 [0/1088 (0%)]\tLoss: 2.829113\n",
            "Validation set: Average loss: 2.8921, Accuracy: 8/136 (6%)\n",
            "Test set: Average loss: 2.8630, Accuracy: 7/136 (5%)\n",
            "Train Epoch: 17 [0/1088 (0%)]\tLoss: 2.772593\n",
            "Validation set: Average loss: 2.8871, Accuracy: 6/136 (4%)\n",
            "Test set: Average loss: 2.9159, Accuracy: 8/136 (6%)\n",
            "Train Epoch: 18 [0/1088 (0%)]\tLoss: 2.736178\n",
            "Validation set: Average loss: 2.8248, Accuracy: 14/136 (10%)\n",
            "Test set: Average loss: 2.8890, Accuracy: 8/136 (6%)\n",
            "Train Epoch: 19 [0/1088 (0%)]\tLoss: 2.905171\n",
            "Validation set: Average loss: 2.7898, Accuracy: 11/136 (8%)\n",
            "Test set: Average loss: 2.8119, Accuracy: 6/136 (4%)\n",
            "Train Epoch: 20 [0/1088 (0%)]\tLoss: 2.758858\n",
            "Validation set: Average loss: 2.7279, Accuracy: 21/136 (15%)\n",
            "Test set: Average loss: 2.7735, Accuracy: 19/136 (14%)\n",
            "Train Epoch: 21 [0/1088 (0%)]\tLoss: 2.694865\n",
            "Validation set: Average loss: 2.5293, Accuracy: 23/136 (17%)\n",
            "Test set: Average loss: 2.6006, Accuracy: 18/136 (13%)\n",
            "Train Epoch: 22 [0/1088 (0%)]\tLoss: 2.623169\n",
            "Validation set: Average loss: 2.2454, Accuracy: 32/136 (24%)\n",
            "Test set: Average loss: 2.3329, Accuracy: 25/136 (18%)\n",
            "Train Epoch: 23 [0/1088 (0%)]\tLoss: 2.474312\n",
            "Validation set: Average loss: 2.0783, Accuracy: 32/136 (24%)\n",
            "Test set: Average loss: 2.2478, Accuracy: 23/136 (17%)\n",
            "Train Epoch: 24 [0/1088 (0%)]\tLoss: 2.288335\n",
            "Validation set: Average loss: 2.1707, Accuracy: 29/136 (21%)\n",
            "Test set: Average loss: 2.3541, Accuracy: 24/136 (18%)\n",
            "Train Epoch: 25 [0/1088 (0%)]\tLoss: 2.460282\n",
            "Validation set: Average loss: 2.0589, Accuracy: 41/136 (30%)\n",
            "Test set: Average loss: 2.3127, Accuracy: 31/136 (23%)\n",
            "Train Epoch: 26 [0/1088 (0%)]\tLoss: 2.168298\n",
            "Validation set: Average loss: 2.0825, Accuracy: 31/136 (23%)\n",
            "Test set: Average loss: 2.2817, Accuracy: 29/136 (21%)\n",
            "Train Epoch: 27 [0/1088 (0%)]\tLoss: 2.173487\n",
            "Validation set: Average loss: 2.1239, Accuracy: 25/136 (18%)\n",
            "Test set: Average loss: 2.4215, Accuracy: 23/136 (17%)\n",
            "Train Epoch: 28 [0/1088 (0%)]\tLoss: 2.141407\n",
            "Validation set: Average loss: 1.9753, Accuracy: 38/136 (28%)\n",
            "Test set: Average loss: 2.2039, Accuracy: 30/136 (22%)\n",
            "Train Epoch: 29 [0/1088 (0%)]\tLoss: 2.288887\n",
            "Validation set: Average loss: 1.8443, Accuracy: 53/136 (39%)\n",
            "Test set: Average loss: 2.1549, Accuracy: 39/136 (29%)\n",
            "Train Epoch: 30 [0/1088 (0%)]\tLoss: 2.046287\n",
            "Validation set: Average loss: 1.9166, Accuracy: 48/136 (35%)\n",
            "Test set: Average loss: 2.3038, Accuracy: 37/136 (27%)\n",
            "Train Epoch: 31 [0/1088 (0%)]\tLoss: 1.943051\n",
            "Validation set: Average loss: 1.9371, Accuracy: 39/136 (29%)\n",
            "Test set: Average loss: 2.3140, Accuracy: 31/136 (23%)\n",
            "Train Epoch: 32 [0/1088 (0%)]\tLoss: 2.099597\n",
            "Validation set: Average loss: 1.8761, Accuracy: 43/136 (32%)\n",
            "Test set: Average loss: 2.2785, Accuracy: 44/136 (32%)\n",
            "Train Epoch: 33 [0/1088 (0%)]\tLoss: 2.043790\n",
            "Validation set: Average loss: 1.7508, Accuracy: 49/136 (36%)\n",
            "Test set: Average loss: 2.0675, Accuracy: 40/136 (29%)\n",
            "Train Epoch: 34 [0/1088 (0%)]\tLoss: 1.867932\n",
            "Validation set: Average loss: 1.7726, Accuracy: 42/136 (31%)\n",
            "Test set: Average loss: 2.0626, Accuracy: 37/136 (27%)\n",
            "Train Epoch: 35 [0/1088 (0%)]\tLoss: 2.100510\n",
            "Validation set: Average loss: 1.7910, Accuracy: 52/136 (38%)\n",
            "Test set: Average loss: 2.1565, Accuracy: 38/136 (28%)\n",
            "Train Epoch: 36 [0/1088 (0%)]\tLoss: 2.119876\n",
            "Validation set: Average loss: 1.7975, Accuracy: 48/136 (35%)\n",
            "Test set: Average loss: 2.1867, Accuracy: 34/136 (25%)\n",
            "Train Epoch: 37 [0/1088 (0%)]\tLoss: 2.236141\n",
            "Validation set: Average loss: 1.7639, Accuracy: 50/136 (37%)\n",
            "Test set: Average loss: 2.0623, Accuracy: 40/136 (29%)\n",
            "Train Epoch: 38 [0/1088 (0%)]\tLoss: 1.835695\n",
            "Validation set: Average loss: 1.6243, Accuracy: 52/136 (38%)\n",
            "Test set: Average loss: 1.9432, Accuracy: 43/136 (32%)\n",
            "Train Epoch: 39 [0/1088 (0%)]\tLoss: 1.832166\n",
            "Validation set: Average loss: 1.7651, Accuracy: 48/136 (35%)\n",
            "Test set: Average loss: 2.0456, Accuracy: 36/136 (26%)\n",
            "Train Epoch: 40 [0/1088 (0%)]\tLoss: 1.667987\n",
            "Validation set: Average loss: 1.7876, Accuracy: 47/136 (35%)\n",
            "Test set: Average loss: 2.0796, Accuracy: 46/136 (34%)\n",
            "Train Epoch: 41 [0/1088 (0%)]\tLoss: 2.213271\n",
            "Validation set: Average loss: 1.7176, Accuracy: 48/136 (35%)\n",
            "Test set: Average loss: 1.9444, Accuracy: 43/136 (32%)\n",
            "Train Epoch: 42 [0/1088 (0%)]\tLoss: 1.731887\n",
            "Validation set: Average loss: 1.6018, Accuracy: 50/136 (37%)\n",
            "Test set: Average loss: 1.9193, Accuracy: 45/136 (33%)\n",
            "Train Epoch: 43 [0/1088 (0%)]\tLoss: 1.644057\n",
            "Validation set: Average loss: 1.7460, Accuracy: 54/136 (40%)\n",
            "Test set: Average loss: 1.9910, Accuracy: 39/136 (29%)\n",
            "Train Epoch: 44 [0/1088 (0%)]\tLoss: 1.763416\n",
            "Validation set: Average loss: 1.7032, Accuracy: 48/136 (35%)\n",
            "Test set: Average loss: 1.9663, Accuracy: 44/136 (32%)\n",
            "Train Epoch: 45 [0/1088 (0%)]\tLoss: 1.679683\n",
            "Validation set: Average loss: 1.6565, Accuracy: 45/136 (33%)\n",
            "Test set: Average loss: 1.9420, Accuracy: 46/136 (34%)\n",
            "Train Epoch: 46 [0/1088 (0%)]\tLoss: 1.623075\n",
            "Validation set: Average loss: 1.6251, Accuracy: 53/136 (39%)\n",
            "Test set: Average loss: 1.9100, Accuracy: 44/136 (32%)\n",
            "Train Epoch: 47 [0/1088 (0%)]\tLoss: 1.831530\n",
            "Validation set: Average loss: 1.6872, Accuracy: 52/136 (38%)\n",
            "Test set: Average loss: 1.9216, Accuracy: 42/136 (31%)\n",
            "Train Epoch: 48 [0/1088 (0%)]\tLoss: 1.798711\n",
            "Validation set: Average loss: 1.7509, Accuracy: 54/136 (40%)\n",
            "Test set: Average loss: 2.0596, Accuracy: 37/136 (27%)\n",
            "Train Epoch: 49 [0/1088 (0%)]\tLoss: 1.687853\n",
            "Validation set: Average loss: 1.7262, Accuracy: 50/136 (37%)\n",
            "Test set: Average loss: 2.0820, Accuracy: 39/136 (29%)\n",
            "Train Epoch: 50 [0/1088 (0%)]\tLoss: 1.754103\n",
            "Validation set: Average loss: 1.5696, Accuracy: 56/136 (41%)\n",
            "Test set: Average loss: 1.9787, Accuracy: 45/136 (33%)\n",
            "Train Epoch: 51 [0/1088 (0%)]\tLoss: 1.659515\n",
            "Validation set: Average loss: 1.5559, Accuracy: 59/136 (43%)\n",
            "Test set: Average loss: 1.8974, Accuracy: 39/136 (29%)\n",
            "Train Epoch: 52 [0/1088 (0%)]\tLoss: 1.398115\n",
            "Validation set: Average loss: 1.5669, Accuracy: 51/136 (38%)\n",
            "Test set: Average loss: 1.8949, Accuracy: 44/136 (32%)\n",
            "Train Epoch: 53 [0/1088 (0%)]\tLoss: 1.603104\n",
            "Validation set: Average loss: 1.5468, Accuracy: 59/136 (43%)\n",
            "Test set: Average loss: 1.8468, Accuracy: 45/136 (33%)\n",
            "Train Epoch: 54 [0/1088 (0%)]\tLoss: 1.529056\n",
            "Validation set: Average loss: 1.6378, Accuracy: 51/136 (38%)\n",
            "Test set: Average loss: 1.8907, Accuracy: 45/136 (33%)\n",
            "Train Epoch: 55 [0/1088 (0%)]\tLoss: 1.426172\n",
            "Validation set: Average loss: 1.5200, Accuracy: 61/136 (45%)\n",
            "Test set: Average loss: 1.7984, Accuracy: 51/136 (38%)\n",
            "Train Epoch: 56 [0/1088 (0%)]\tLoss: 1.483892\n",
            "Validation set: Average loss: 1.4575, Accuracy: 65/136 (48%)\n",
            "Test set: Average loss: 1.8218, Accuracy: 51/136 (38%)\n",
            "Train Epoch: 57 [0/1088 (0%)]\tLoss: 1.407802\n",
            "Validation set: Average loss: 1.5348, Accuracy: 57/136 (42%)\n",
            "Test set: Average loss: 1.8264, Accuracy: 53/136 (39%)\n",
            "Train Epoch: 58 [0/1088 (0%)]\tLoss: 1.154574\n",
            "Validation set: Average loss: 1.4795, Accuracy: 59/136 (43%)\n",
            "Test set: Average loss: 1.8000, Accuracy: 47/136 (35%)\n",
            "Train Epoch: 59 [0/1088 (0%)]\tLoss: 1.462126\n",
            "Validation set: Average loss: 1.4106, Accuracy: 67/136 (49%)\n",
            "Test set: Average loss: 1.7663, Accuracy: 49/136 (36%)\n",
            "Train Epoch: 60 [0/1088 (0%)]\tLoss: 1.236663\n",
            "Validation set: Average loss: 1.4877, Accuracy: 63/136 (46%)\n",
            "Test set: Average loss: 1.8294, Accuracy: 53/136 (39%)\n"
          ]
        }
      ],
      "source": [
        "# Start training and testing\n",
        "train_losses = []\n",
        "valid_losses = []\n",
        "test_accs = []\n",
        "i = 0\n",
        "for batch_size in batch_sizes:\n",
        "    print('Batch size: {}'.format(batch_size))\n",
        "    train_loader = torch.utils.data.DataLoader(train_dataset, batch_size=batch_size, shuffle=True)\n",
        "    val_loader = torch.utils.data.DataLoader(val_dataset, batch_size=batch_size, shuffle=True)\n",
        "    test_loader = torch.utils.data.DataLoader(test_dataset, batch_size=batch_size, shuffle=True)\n",
        "    model = get_model()\n",
        "    model = model.to(device)\n",
        "    optimizer = get_optimizer(model, 0.001) # lr\n",
        "    train_loss, valid_loss, test_acc = train_process(model, device, train_loader, val_loader, optimizer, 60, test_loader)\n",
        "    train_losses.append(train_loss)\n",
        "    valid_losses.append(valid_loss)\n",
        "    test_accs.append(test_acc)\n",
        "    i += 1"
      ]
    },
    {
      "cell_type": "code",
      "execution_count": 18,
      "metadata": {
        "colab": {
          "base_uri": "https://localhost:8080/",
          "height": 422
        },
        "id": "T2TxH3hU2hy3",
        "outputId": "bab3d7b4-19af-4971-a758-d86b55e34020"
      },
      "outputs": [
        {
          "output_type": "execute_result",
          "data": {
            "text/plain": [
              "<matplotlib.legend.Legend at 0x7f7fea669f10>"
            ]
          },
          "metadata": {},
          "execution_count": 18
        },
        {
          "output_type": "display_data",
          "data": {
            "text/plain": [
              "<Figure size 720x432 with 1 Axes>"
            ],
            "image/png": "[encoded data removed]"
          },
          "metadata": {
            "needs_background": "light"
          }
        }
      ],
      "source": [
        "# Plot the training for different batch sizes\n",
        "plt.figure(figsize=(10, 6))\n",
        "for i in range(len(batch_sizes)):\n",
        "    plt.plot(train_losses[i], label='batch size = {}'.format(batch_sizes[i]))\n",
        "plt.xlabel('Epochs')\n",
        "plt.ylabel('Loss')\n",
        "plt.title('Training Losses')\n",
        "plt.legend()"
      ]
    },
    {
      "cell_type": "code",
      "execution_count": 19,
      "metadata": {
        "colab": {
          "base_uri": "https://localhost:8080/",
          "height": 422
        },
        "id": "cuXb6ZoJ2hy3",
        "outputId": "c7fa3f80-12d3-42fd-e028-ce999e74cc17"
      },
      "outputs": [
        {
          "output_type": "execute_result",
          "data": {
            "text/plain": [
              "<matplotlib.legend.Legend at 0x7f7fea669e10>"
            ]
          },
          "metadata": {},
          "execution_count": 19
        },
        {
          "output_type": "display_data",
          "data": {
            "text/plain": [
              "<Figure size 720x432 with 1 Axes>"
            ],
            "image/png": "[encoded data removed]"
          },
          "metadata": {
            "needs_background": "light"
          }
        }
      ],
      "source": [
        "# Plot the validation for different batch sizes\n",
        "plt.figure(figsize=(10, 6))\n",
        "for i in range(len(batch_sizes)):\n",
        "    plt.plot(valid_losses[i], label='batch size = {}'.format(batch_sizes[i]))\n",
        "plt.xlabel('Epochs')\n",
        "plt.ylabel('Loss')\n",
        "plt.title('Validation Losses')\n",
        "plt.legend()"
      ]
    },
    {
      "cell_type": "code",
      "execution_count": 20,
      "metadata": {
        "colab": {
          "base_uri": "https://localhost:8080/",
          "height": 422
        },
        "id": "fOYqgmgj2hy3",
        "outputId": "d4343dfe-e0f7-477d-cb74-4c9c3d72c4b5"
      },
      "outputs": [
        {
          "output_type": "execute_result",
          "data": {
            "text/plain": [
              "<matplotlib.legend.Legend at 0x7f7fea0d3c50>"
            ]
          },
          "metadata": {},
          "execution_count": 20
        },
        {
          "output_type": "display_data",
          "data": {
            "text/plain": [
              "<Figure size 720x432 with 1 Axes>"
            ],
            "image/png": "[encoded data removed]"
          },
          "metadata": {
            "needs_background": "light"
          }
        }
      ],
      "source": [
        "# Plot the test accuracy for different batch sizes\n",
        "plt.figure(figsize=(10, 6))\n",
        "for i in range(len(batch_sizes)):\n",
        "    plt.plot(test_accs[i], label='batch size = {}'.format(batch_sizes[i]))\n",
        "plt.xlabel('Epochs')\n",
        "plt.ylabel('Accuracy')\n",
        "plt.title('Test Accuracies')\n",
        "plt.legend()"
      ]
    },
    {
      "cell_type": "code",
      "source": [
        "!mkdir AlexNet_result"
      ],
      "metadata": {
        "id": "OHOvactPIBZK"
      },
      "execution_count": 21,
      "outputs": []
    },
    {
      "cell_type": "code",
      "source": [
        "# Change the train_losses, valid_losses, test_losses, test_accs as different pandas dataframes\n",
        "train_lossespd = pd.DataFrame({'batch_size_64': train_losses[0]})\n",
        "valid_lossespd = pd.DataFrame({'batch_size_64': valid_losses[0]})\n",
        "test_accspd = pd.DataFrame({'batch_size_64': test_accs[0]})\n",
        "\n",
        "# Save the train_losses, valid_losses, test_losses, test_accs as csv files\n",
        "train_lossespd.to_csv('./AlexNet_result/train_losses.csv', index=True)\n",
        "valid_lossespd.to_csv('./AlexNet_result/valid_losses.csv', index=True)\n",
        "test_accspd.to_csv('./AlexNet_result/test_accs.csv', index=True)"
      ],
      "metadata": {
        "id": "1wBsx0qdIp9R"
      },
      "execution_count": 22,
      "outputs": []
    },
    {
      "cell_type": "code",
      "execution_count": null,
      "metadata": {
        "colab": {
          "base_uri": "https://localhost:8080/",
          "height": 299
        },
        "id": "w-d5Q34f2hy3",
        "outputId": "5c9af461-fb31-45ea-afcc-d08e07df5670"
      },
      "outputs": [
        {
          "output_type": "error",
          "ename": "IndexError",
          "evalue": "ignored",
          "traceback": [
            "\u001b[0;31m---------------------------------------------------------------------------\u001b[0m",
            "\u001b[0;31mIndexError\u001b[0m                                Traceback (most recent call last)",
            "\u001b[0;32m<ipython-input-38-93ee0fb2370e>\u001b[0m in \u001b[0;36m<module>\u001b[0;34m\u001b[0m\n\u001b[1;32m      1\u001b[0m \u001b[0;31m# Change the train_losses, valid_losses, test_losses, test_accs as different pandas dataframes\u001b[0m\u001b[0;34m\u001b[0m\u001b[0;34m\u001b[0m\u001b[0;34m\u001b[0m\u001b[0m\n\u001b[0;32m----> 2\u001b[0;31m \u001b[0mtrain_lossespd\u001b[0m \u001b[0;34m=\u001b[0m \u001b[0mpd\u001b[0m\u001b[0;34m.\u001b[0m\u001b[0mDataFrame\u001b[0m\u001b[0;34m(\u001b[0m\u001b[0;34m{\u001b[0m\u001b[0;34m'batch_size_4'\u001b[0m\u001b[0;34m:\u001b[0m \u001b[0mtrain_losses\u001b[0m\u001b[0;34m[\u001b[0m\u001b[0;36m0\u001b[0m\u001b[0;34m]\u001b[0m\u001b[0;34m,\u001b[0m \u001b[0;34m'batch_size_32'\u001b[0m\u001b[0;34m:\u001b[0m \u001b[0mtrain_losses\u001b[0m\u001b[0;34m[\u001b[0m\u001b[0;36m1\u001b[0m\u001b[0;34m]\u001b[0m\u001b[0;34m,\u001b[0m \u001b[0;34m'batch_size_64'\u001b[0m\u001b[0;34m:\u001b[0m \u001b[0mtrain_losses\u001b[0m\u001b[0;34m[\u001b[0m\u001b[0;36m2\u001b[0m\u001b[0;34m]\u001b[0m\u001b[0;34m}\u001b[0m\u001b[0;34m)\u001b[0m\u001b[0;34m\u001b[0m\u001b[0;34m\u001b[0m\u001b[0m\n\u001b[0m\u001b[1;32m      3\u001b[0m \u001b[0mvalid_lossespd\u001b[0m \u001b[0;34m=\u001b[0m \u001b[0mpd\u001b[0m\u001b[0;34m.\u001b[0m\u001b[0mDataFrame\u001b[0m\u001b[0;34m(\u001b[0m\u001b[0;34m{\u001b[0m\u001b[0;34m'batch_size_4'\u001b[0m\u001b[0;34m:\u001b[0m \u001b[0mvalid_losses\u001b[0m\u001b[0;34m[\u001b[0m\u001b[0;36m0\u001b[0m\u001b[0;34m]\u001b[0m\u001b[0;34m,\u001b[0m \u001b[0;34m'batch_size_32'\u001b[0m\u001b[0;34m:\u001b[0m \u001b[0mvalid_losses\u001b[0m\u001b[0;34m[\u001b[0m\u001b[0;36m1\u001b[0m\u001b[0;34m]\u001b[0m\u001b[0;34m,\u001b[0m \u001b[0;34m'batch_size_64'\u001b[0m\u001b[0;34m:\u001b[0m \u001b[0mvalid_losses\u001b[0m\u001b[0;34m[\u001b[0m\u001b[0;36m2\u001b[0m\u001b[0;34m]\u001b[0m\u001b[0;34m}\u001b[0m\u001b[0;34m)\u001b[0m\u001b[0;34m\u001b[0m\u001b[0;34m\u001b[0m\u001b[0m\n\u001b[1;32m      4\u001b[0m \u001b[0mtest_accspd\u001b[0m \u001b[0;34m=\u001b[0m \u001b[0mpd\u001b[0m\u001b[0;34m.\u001b[0m\u001b[0mDataFrame\u001b[0m\u001b[0;34m(\u001b[0m\u001b[0;34m{\u001b[0m\u001b[0;34m'batch_size_4'\u001b[0m\u001b[0;34m:\u001b[0m \u001b[0mtest_accs\u001b[0m\u001b[0;34m[\u001b[0m\u001b[0;36m0\u001b[0m\u001b[0;34m]\u001b[0m\u001b[0;34m,\u001b[0m \u001b[0;34m'batch_size_32'\u001b[0m\u001b[0;34m:\u001b[0m \u001b[0mtest_accs\u001b[0m\u001b[0;34m[\u001b[0m\u001b[0;36m1\u001b[0m\u001b[0;34m]\u001b[0m\u001b[0;34m,\u001b[0m \u001b[0;34m'batch_size_64'\u001b[0m\u001b[0;34m:\u001b[0m \u001b[0mtest_accs\u001b[0m\u001b[0;34m[\u001b[0m\u001b[0;36m2\u001b[0m\u001b[0;34m]\u001b[0m\u001b[0;34m}\u001b[0m\u001b[0;34m)\u001b[0m\u001b[0;34m\u001b[0m\u001b[0;34m\u001b[0m\u001b[0m\n\u001b[1;32m      5\u001b[0m \u001b[0;34m\u001b[0m\u001b[0m\n",
            "\u001b[0;31mIndexError\u001b[0m: list index out of range"
          ]
        }
      ],
      "source": [
        "# Change the train_losses, valid_losses, test_losses, test_accs as different pandas dataframes\n",
        "train_lossespd = pd.DataFrame({'batch_size_4': train_losses[0], 'batch_size_32': train_losses[1], 'batch_size_64': train_losses[2]})\n",
        "valid_lossespd = pd.DataFrame({'batch_size_4': valid_losses[0], 'batch_size_32': valid_losses[1], 'batch_size_64': valid_losses[2]})\n",
        "test_accspd = pd.DataFrame({'batch_size_4': test_accs[0], 'batch_size_32': test_accs[1], 'batch_size_64': test_accs[2]})\n",
        "\n",
        "# Save the train_losses, valid_losses, test_losses, test_accs as csv files\n",
        "train_lossespd.to_csv('./ResNet50_result/train_losses.csv', index=True)\n",
        "valid_lossespd.to_csv('./ResNet50_result/valid_losses.csv', index=True)\n",
        "test_accspd.to_csv('./ResNet50_result/test_accs.csv', index=True)"
      ]
    }
  ],
  "metadata": {
    "kernelspec": {
      "display_name": "Python 3 (ipykernel)",
      "language": "python",
      "name": "python3"
    },
    "language_info": {
      "codemirror_mode": {
        "name": "ipython",
        "version": 3
      },
      "file_extension": ".py",
      "mimetype": "text/x-python",
      "name": "python",
      "nbconvert_exporter": "python",
      "pygments_lexer": "ipython3",
      "version": "3.8.13"
    },
    "vscode": {
      "interpreter": {
        "hash": "aee8b7b246df8f9039afb4144a1f6fd8d2ca17a180786b69acc140d282b71a49"
      }
    },
    "colab": {
      "provenance": []
    },
    "accelerator": "GPU"
  },
  "nbformat": 4,
  "nbformat_minor": 0
}