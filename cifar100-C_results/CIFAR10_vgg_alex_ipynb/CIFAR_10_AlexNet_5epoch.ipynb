{
  "metadata": {
    "colab": {
      "provenance": []
    },
    "kernelspec": {
      "name": "python3",
      "display_name": "Python 3",
      "language": "python"
    },
    "accelerator": "GPU",
    "widgets": {
      "application/vnd.jupyter.widget-state+json": {
        "2afab65f5dfa4b6d8462f86fa680b8d9": {
          "model_module": "@jupyter-widgets/controls",
          "model_name": "HBoxModel",
          "model_module_version": "1.5.0",
          "state": {
            "_dom_classes": [],
            "_model_module": "@jupyter-widgets/controls",
            "_model_module_version": "1.5.0",
            "_model_name": "HBoxModel",
            "_view_count": null,
            "_view_module": "@jupyter-widgets/controls",
            "_view_module_version": "1.5.0",
            "_view_name": "HBoxView",
            "box_style": "",
            "children": [
              "IPY_MODEL_8d1aa0f3c8ad4ea7ab493895f61e76d4",
              "IPY_MODEL_6c10612e96aa44479034cca0192d6683",
              "IPY_MODEL_92dbc7652bb945bf9003ca5e6a05c0ad"
            ],
            "layout": "IPY_MODEL_5a231f566eb04fe291f3930f2b1767d1"
          }
        },
        "8d1aa0f3c8ad4ea7ab493895f61e76d4": {
          "model_module": "@jupyter-widgets/controls",
          "model_name": "HTMLModel",
          "model_module_version": "1.5.0",
          "state": {
            "_dom_classes": [],
            "_model_module": "@jupyter-widgets/controls",
            "_model_module_version": "1.5.0",
            "_model_name": "HTMLModel",
            "_view_count": null,
            "_view_module": "@jupyter-widgets/controls",
            "_view_module_version": "1.5.0",
            "_view_name": "HTMLView",
            "description": "",
            "description_tooltip": null,
            "layout": "IPY_MODEL_ab6d3f79d6fc44a0b486deaff18c79b9",
            "placeholder": "​",
            "style": "IPY_MODEL_e81bb872299344b7a2fda4f82de00ab6",
            "value": "100%"
          }
        },
        "6c10612e96aa44479034cca0192d6683": {
          "model_module": "@jupyter-widgets/controls",
          "model_name": "FloatProgressModel",
          "model_module_version": "1.5.0",
          "state": {
            "_dom_classes": [],
            "_model_module": "@jupyter-widgets/controls",
            "_model_module_version": "1.5.0",
            "_model_name": "FloatProgressModel",
            "_view_count": null,
            "_view_module": "@jupyter-widgets/controls",
            "_view_module_version": "1.5.0",
            "_view_name": "ProgressView",
            "bar_style": "success",
            "description": "",
            "description_tooltip": null,
            "layout": "IPY_MODEL_ae25b7c78dc94c9ba70ef3574168deb8",
            "max": 170498071,
            "min": 0,
            "orientation": "horizontal",
            "style": "IPY_MODEL_5fd7d6462ba34be4a7145b94539e1e36",
            "value": 170498071
          }
        },
        "92dbc7652bb945bf9003ca5e6a05c0ad": {
          "model_module": "@jupyter-widgets/controls",
          "model_name": "HTMLModel",
          "model_module_version": "1.5.0",
          "state": {
            "_dom_classes": [],
            "_model_module": "@jupyter-widgets/controls",
            "_model_module_version": "1.5.0",
            "_model_name": "HTMLModel",
            "_view_count": null,
            "_view_module": "@jupyter-widgets/controls",
            "_view_module_version": "1.5.0",
            "_view_name": "HTMLView",
            "description": "",
            "description_tooltip": null,
            "layout": "IPY_MODEL_eb016f45e0c94627ab9798fe615f545f",
            "placeholder": "​",
            "style": "IPY_MODEL_09b44538962c4f4eaef9cc7ee639cf84",
            "value": " 170498071/170498071 [00:14&lt;00:00, 12873236.59it/s]"
          }
        },
        "5a231f566eb04fe291f3930f2b1767d1": {
          "model_module": "@jupyter-widgets/base",
          "model_name": "LayoutModel",
          "model_module_version": "1.2.0",
          "state": {
            "_model_module": "@jupyter-widgets/base",
            "_model_module_version": "1.2.0",
            "_model_name": "LayoutModel",
            "_view_count": null,
            "_view_module": "@jupyter-widgets/base",
            "_view_module_version": "1.2.0",
            "_view_name": "LayoutView",
            "align_content": null,
            "align_items": null,
            "align_self": null,
            "border": null,
            "bottom": null,
            "display": null,
            "flex": null,
            "flex_flow": null,
            "grid_area": null,
            "grid_auto_columns": null,
            "grid_auto_flow": null,
            "grid_auto_rows": null,
            "grid_column": null,
            "grid_gap": null,
            "grid_row": null,
            "grid_template_areas": null,
            "grid_template_columns": null,
            "grid_template_rows": null,
            "height": null,
            "justify_content": null,
            "justify_items": null,
            "left": null,
            "margin": null,
            "max_height": null,
            "max_width": null,
            "min_height": null,
            "min_width": null,
            "object_fit": null,
            "object_position": null,
            "order": null,
            "overflow": null,
            "overflow_x": null,
            "overflow_y": null,
            "padding": null,
            "right": null,
            "top": null,
            "visibility": null,
            "width": null
          }
        },
        "ab6d3f79d6fc44a0b486deaff18c79b9": {
          "model_module": "@jupyter-widgets/base",
          "model_name": "LayoutModel",
          "model_module_version": "1.2.0",
          "state": {
            "_model_module": "@jupyter-widgets/base",
            "_model_module_version": "1.2.0",
            "_model_name": "LayoutModel",
            "_view_count": null,
            "_view_module": "@jupyter-widgets/base",
            "_view_module_version": "1.2.0",
            "_view_name": "LayoutView",
            "align_content": null,
            "align_items": null,
            "align_self": null,
            "border": null,
            "bottom": null,
            "display": null,
            "flex": null,
            "flex_flow": null,
            "grid_area": null,
            "grid_auto_columns": null,
            "grid_auto_flow": null,
            "grid_auto_rows": null,
            "grid_column": null,
            "grid_gap": null,
            "grid_row": null,
            "grid_template_areas": null,
            "grid_template_columns": null,
            "grid_template_rows": null,
            "height": null,
            "justify_content": null,
            "justify_items": null,
            "left": null,
            "margin": null,
            "max_height": null,
            "max_width": null,
            "min_height": null,
            "min_width": null,
            "object_fit": null,
            "object_position": null,
            "order": null,
            "overflow": null,
            "overflow_x": null,
            "overflow_y": null,
            "padding": null,
            "right": null,
            "top": null,
            "visibility": null,
            "width": null
          }
        },
        "e81bb872299344b7a2fda4f82de00ab6": {
          "model_module": "@jupyter-widgets/controls",
          "model_name": "DescriptionStyleModel",
          "model_module_version": "1.5.0",
          "state": {
            "_model_module": "@jupyter-widgets/controls",
            "_model_module_version": "1.5.0",
            "_model_name": "DescriptionStyleModel",
            "_view_count": null,
            "_view_module": "@jupyter-widgets/base",
            "_view_module_version": "1.2.0",
            "_view_name": "StyleView",
            "description_width": ""
          }
        },
        "ae25b7c78dc94c9ba70ef3574168deb8": {
          "model_module": "@jupyter-widgets/base",
          "model_name": "LayoutModel",
          "model_module_version": "1.2.0",
          "state": {
            "_model_module": "@jupyter-widgets/base",
            "_model_module_version": "1.2.0",
            "_model_name": "LayoutModel",
            "_view_count": null,
            "_view_module": "@jupyter-widgets/base",
            "_view_module_version": "1.2.0",
            "_view_name": "LayoutView",
            "align_content": null,
            "align_items": null,
            "align_self": null,
            "border": null,
            "bottom": null,
            "display": null,
            "flex": null,
            "flex_flow": null,
            "grid_area": null,
            "grid_auto_columns": null,
            "grid_auto_flow": null,
            "grid_auto_rows": null,
            "grid_column": null,
            "grid_gap": null,
            "grid_row": null,
            "grid_template_areas": null,
            "grid_template_columns": null,
            "grid_template_rows": null,
            "height": null,
            "justify_content": null,
            "justify_items": null,
            "left": null,
            "margin": null,
            "max_height": null,
            "max_width": null,
            "min_height": null,
            "min_width": null,
            "object_fit": null,
            "object_position": null,
            "order": null,
            "overflow": null,
            "overflow_x": null,
            "overflow_y": null,
            "padding": null,
            "right": null,
            "top": null,
            "visibility": null,
            "width": null
          }
        },
        "5fd7d6462ba34be4a7145b94539e1e36": {
          "model_module": "@jupyter-widgets/controls",
          "model_name": "ProgressStyleModel",
          "model_module_version": "1.5.0",
          "state": {
            "_model_module": "@jupyter-widgets/controls",
            "_model_module_version": "1.5.0",
            "_model_name": "ProgressStyleModel",
            "_view_count": null,
            "_view_module": "@jupyter-widgets/base",
            "_view_module_version": "1.2.0",
            "_view_name": "StyleView",
            "bar_color": null,
            "description_width": ""
          }
        },
        "eb016f45e0c94627ab9798fe615f545f": {
          "model_module": "@jupyter-widgets/base",
          "model_name": "LayoutModel",
          "model_module_version": "1.2.0",
          "state": {
            "_model_module": "@jupyter-widgets/base",
            "_model_module_version": "1.2.0",
            "_model_name": "LayoutModel",
            "_view_count": null,
            "_view_module": "@jupyter-widgets/base",
            "_view_module_version": "1.2.0",
            "_view_name": "LayoutView",
            "align_content": null,
            "align_items": null,
            "align_self": null,
            "border": null,
            "bottom": null,
            "display": null,
            "flex": null,
            "flex_flow": null,
            "grid_area": null,
            "grid_auto_columns": null,
            "grid_auto_flow": null,
            "grid_auto_rows": null,
            "grid_column": null,
            "grid_gap": null,
            "grid_row": null,
            "grid_template_areas": null,
            "grid_template_columns": null,
            "grid_template_rows": null,
            "height": null,
            "justify_content": null,
            "justify_items": null,
            "left": null,
            "margin": null,
            "max_height": null,
            "max_width": null,
            "min_height": null,
            "min_width": null,
            "object_fit": null,
            "object_position": null,
            "order": null,
            "overflow": null,
            "overflow_x": null,
            "overflow_y": null,
            "padding": null,
            "right": null,
            "top": null,
            "visibility": null,
            "width": null
          }
        },
        "09b44538962c4f4eaef9cc7ee639cf84": {
          "model_module": "@jupyter-widgets/controls",
          "model_name": "DescriptionStyleModel",
          "model_module_version": "1.5.0",
          "state": {
            "_model_module": "@jupyter-widgets/controls",
            "_model_module_version": "1.5.0",
            "_model_name": "DescriptionStyleModel",
            "_view_count": null,
            "_view_module": "@jupyter-widgets/base",
            "_view_module_version": "1.2.0",
            "_view_name": "StyleView",
            "description_width": ""
          }
        }
      }
    },
    "language_info": {
      "name": "python",
      "version": "3.7.12",
      "mimetype": "text/x-python",
      "codemirror_mode": {
        "name": "ipython",
        "version": 3
      },
      "pygments_lexer": "ipython3",
      "nbconvert_exporter": "python",
      "file_extension": ".py"
    }
  },
  "nbformat_minor": 0,
  "nbformat": 4,
  "cells": [
    {
      "cell_type": "markdown",
      "source": [
        "## Split CIFAR-10 into training, validation, and testing sets"
      ],
      "metadata": {
        "id": "ncZwH9VGFg8G"
      }
    },
    {
      "cell_type": "code",
      "source": [
        "##########################\n",
        "### SETTINGS\n",
        "##########################\n",
        "\n",
        "NUM_CLASSES = 10\n",
        "\n",
        "# Hyperparameters\n",
        "random_seed = 1\n",
        "lr = 0.001\n",
        "num_epochs = 5\n",
        "batch_size = 16"
      ],
      "metadata": {
        "id": "Wj4ViUZaN46W",
        "execution": {
          "iopub.status.busy": "2022-11-17T02:23:51.510690Z",
          "iopub.execute_input": "2022-11-17T02:23:51.511188Z",
          "iopub.status.idle": "2022-11-17T02:23:51.540126Z",
          "shell.execute_reply.started": "2022-11-17T02:23:51.511055Z",
          "shell.execute_reply": "2022-11-17T02:23:51.539112Z"
        },
        "trusted": true
      },
      "execution_count": 3,
      "outputs": []
    },
    {
      "cell_type": "code",
      "source": [
        "import torch\n",
        "import torchvision\n",
        "import torchvision.transforms as transforms\n",
        "import PIL\n",
        "\n",
        "train_transform = transforms.Compose(\n",
        "    [transforms.Resize(224),\n",
        "     transforms.RandomHorizontalFlip(p=0.5),\n",
        "     transforms.RandomAffine(degrees=(-5, 5), translate=(0.1, 0.1), scale=(0.9, 1.1), resample=PIL.Image.BILINEAR),\n",
        "     transforms.ToTensor(),\n",
        "     transforms.Normalize((0.5, 0.5, 0.5), (0.5, 0.5, 0.5))])\n",
        "\n",
        "test_transform = transforms.Compose(\n",
        "    [transforms.Resize(224),\n",
        "     transforms.ToTensor(),\n",
        "     transforms.Normalize((0.5, 0.5, 0.5), (0.5, 0.5, 0.5))])\n",
        "\n",
        "dataset = torchvision.datasets.CIFAR10(root='./data', train=True, download=True, transform=train_transform)\n",
        "train_set, val_set = torch.utils.data.random_split(dataset, [40000, 10000])\n",
        "\n",
        "train_loader = torch.utils.data.DataLoader(train_set, batch_size=batch_size, shuffle=True, num_workers=8)\n",
        "val_loader = torch.utils.data.DataLoader(val_set, batch_size=batch_size, shuffle=False, num_workers=8)\n",
        "\n",
        "test_set = torchvision.datasets.CIFAR10(root='./data', train=False, download=True, transform=test_transform)\n",
        "test_loader = torch.utils.data.DataLoader(test_set, batch_size=batch_size, shuffle=False, num_workers=8)\n",
        "\n",
        "classes = ['plane', 'car', 'bird', 'cat', 'deer', 'dog', 'frog', 'horse', 'ship', 'truck']"
      ],
      "metadata": {
        "id": "rvcTY4wiu3Ra",
        "outputId": "37847289-5434-4e4a-9626-b39ea5bf6cbf",
        "colab": {
          "base_uri": "https://localhost:8080/",
          "height": 160,
          "referenced_widgets": [
            "2afab65f5dfa4b6d8462f86fa680b8d9",
            "8d1aa0f3c8ad4ea7ab493895f61e76d4",
            "6c10612e96aa44479034cca0192d6683",
            "92dbc7652bb945bf9003ca5e6a05c0ad",
            "5a231f566eb04fe291f3930f2b1767d1",
            "ab6d3f79d6fc44a0b486deaff18c79b9",
            "e81bb872299344b7a2fda4f82de00ab6",
            "ae25b7c78dc94c9ba70ef3574168deb8",
            "5fd7d6462ba34be4a7145b94539e1e36",
            "eb016f45e0c94627ab9798fe615f545f",
            "09b44538962c4f4eaef9cc7ee639cf84"
          ]
        },
        "execution": {
          "iopub.status.busy": "2022-11-17T02:23:51.544086Z",
          "iopub.execute_input": "2022-11-17T02:23:51.544405Z",
          "iopub.status.idle": "2022-11-17T02:24:00.254037Z",
          "shell.execute_reply.started": "2022-11-17T02:23:51.544378Z",
          "shell.execute_reply": "2022-11-17T02:24:00.253041Z"
        },
        "trusted": true
      },
      "execution_count": 4,
      "outputs": [
        {
          "output_type": "stream",
          "name": "stdout",
          "text": [
            "Downloading https://www.cs.toronto.edu/~kriz/cifar-10-python.tar.gz to ./data/cifar-10-python.tar.gz\n"
          ]
        },
        {
          "output_type": "display_data",
          "data": {
            "text/plain": [
              "  0%|          | 0/170498071 [00:00<?, ?it/s]"
            ],
            "application/vnd.jupyter.widget-view+json": {
              "version_major": 2,
              "version_minor": 0,
              "model_id": "2afab65f5dfa4b6d8462f86fa680b8d9"
            }
          },
          "metadata": {}
        },
        {
          "output_type": "stream",
          "name": "stdout",
          "text": [
            "Extracting ./data/cifar-10-python.tar.gz to ./data\n"
          ]
        },
        {
          "output_type": "stream",
          "name": "stderr",
          "text": [
            "/usr/local/lib/python3.7/dist-packages/torch/utils/data/dataloader.py:566: UserWarning: This DataLoader will create 8 worker processes in total. Our suggested max number of worker in current system is 2, which is smaller than what this DataLoader is going to create. Please be aware that excessive worker creation might get DataLoader running slow or even freeze, lower the worker number to avoid potential slowness/freeze if necessary.\n",
            "  cpuset_checked))\n"
          ]
        },
        {
          "output_type": "stream",
          "name": "stdout",
          "text": [
            "Files already downloaded and verified\n"
          ]
        }
      ]
    },
    {
      "cell_type": "markdown",
      "source": [
        "## Visualize image for each class"
      ],
      "metadata": {
        "id": "f4j4KXqhF2Vl"
      }
    },
    {
      "cell_type": "code",
      "source": [
        "import matplotlib.pyplot as plt\n",
        "import numpy as np\n",
        "\n",
        "# visualize training image for each class\n",
        "sample_images = [dataset.data[np.asarray(dataset.targets) == label][0] for label in range(10)]\n",
        "# show images\n",
        "fig, axes = plt.subplots(2, 5, figsize=(12, 6))\n",
        "i = 0\n",
        "for row in axes:\n",
        "  for axis in row:\n",
        "    axis.set_xticks([])\n",
        "    axis.set_yticks([])\n",
        "    axis.set_xlabel(classes[i], fontsize=15)\n",
        "    axis.imshow(sample_images[i])\n",
        "    i += 1"
      ],
      "metadata": {
        "id": "RTiatFpGwfCT",
        "outputId": "8a974538-82f1-49f8-bb6c-c4a06c9763ce",
        "colab": {
          "base_uri": "https://localhost:8080/",
          "height": 343
        },
        "execution": {
          "iopub.status.busy": "2022-11-17T02:24:00.255474Z",
          "iopub.execute_input": "2022-11-17T02:24:00.256294Z",
          "iopub.status.idle": "2022-11-17T02:24:00.827481Z",
          "shell.execute_reply.started": "2022-11-17T02:24:00.256252Z",
          "shell.execute_reply": "2022-11-17T02:24:00.826391Z"
        },
        "trusted": true
      },
      "execution_count": 5,
      "outputs": [
        {
          "output_type": "display_data",
          "data": {
            "text/plain": [
              "<Figure size 864x432 with 10 Axes>"
            ],
            "image/png": "[encoded data removed]"
          },
          "metadata": {}
        }
      ]
    },
    {
      "cell_type": "markdown",
      "source": [
        "## Define CNN architecture"
      ],
      "metadata": {
        "id": "Hw8ZgSUtF7hj"
      }
    },
    {
      "cell_type": "code",
      "source": [
        "import torch.nn as nn\n",
        "import torch.nn.functional as F\n",
        "from torchvision import models\n",
        "class AlexNet(nn.Module):\n",
        "\n",
        "    def __init__(self, num_classes):\n",
        "        super(AlexNet, self).__init__()\n",
        "        self.features = nn.Sequential(\n",
        "            nn.Conv2d(3, 64, kernel_size=11, stride=4, padding=2),\n",
        "            nn.ReLU(inplace=True),\n",
        "            nn.MaxPool2d(kernel_size=3, stride=2),\n",
        "            \n",
        "            nn.Conv2d(64, 192, kernel_size=5, padding=2),\n",
        "            nn.ReLU(inplace=True),\n",
        "            nn.MaxPool2d(kernel_size=3, stride=2),\n",
        "            \n",
        "            nn.Conv2d(192, 384, kernel_size=3, padding=1),\n",
        "            nn.ReLU(inplace=True),\n",
        "            \n",
        "            nn.Conv2d(384, 256, kernel_size=3, padding=1),\n",
        "            nn.ReLU(inplace=True),\n",
        "            \n",
        "            nn.Conv2d(256, 256, kernel_size=3, padding=1),\n",
        "            nn.ReLU(inplace=True),\n",
        "            nn.MaxPool2d(kernel_size=3, stride=2),\n",
        "        )\n",
        "        self.avgpool = nn.AdaptiveAvgPool2d((6, 6))\n",
        "        self.classifier = nn.Sequential(\n",
        "            nn.Dropout(0.5),\n",
        "            nn.Linear(256 * 6 * 6, 4096),\n",
        "            nn.ReLU(inplace=True),\n",
        "            nn.Dropout(0.5),\n",
        "            nn.Linear(4096, 4096),\n",
        "            nn.ReLU(inplace=True),\n",
        "            nn.Linear(4096, num_classes)\n",
        "        )\n",
        "\n",
        "    def forward(self, x):\n",
        "        x = self.features(x)\n",
        "        x = self.avgpool(x)\n",
        "        x = x.view(x.size(0), 256 * 6 * 6)\n",
        "        logits = self.classifier(x)\n",
        "        probas = F.softmax(logits, dim=1)\n",
        "        return logits\n",
        "\n",
        "\n",
        "\n",
        "net = AlexNet(NUM_CLASSES)\n",
        "device = torch.device(\"cuda:0\" if torch.cuda.is_available() else \"cpu\")\n",
        "print('Device:', device)\n",
        "net.to(device)\n",
        "\n",
        "num_params = sum(p.numel() for p in net.parameters() if p.requires_grad)\n",
        "print(\"Number of trainable parameters:\", num_params)"
      ],
      "metadata": {
        "id": "kNOmlqUaIMRG",
        "outputId": "7f14ecf9-e205-430c-d920-ed50cefe1150",
        "colab": {
          "base_uri": "https://localhost:8080/"
        },
        "execution": {
          "iopub.status.busy": "2022-11-17T02:24:00.830359Z",
          "iopub.execute_input": "2022-11-17T02:24:00.832422Z",
          "iopub.status.idle": "2022-11-17T02:24:04.792933Z",
          "shell.execute_reply.started": "2022-11-17T02:24:00.832378Z",
          "shell.execute_reply": "2022-11-17T02:24:04.791749Z"
        },
        "trusted": true
      },
      "execution_count": 6,
      "outputs": [
        {
          "output_type": "stream",
          "name": "stdout",
          "text": [
            "Device: cuda:0\n",
            "Number of trainable parameters: 57044810\n"
          ]
        }
      ]
    },
    {
      "cell_type": "code",
      "source": [],
      "metadata": {
        "id": "0H13VGUQNSvP"
      },
      "execution_count": 6,
      "outputs": []
    },
    {
      "cell_type": "code",
      "source": [
        "''' my AlexNet \n",
        "# AlexNet model\n",
        "class AlexNet(nn.Module):\n",
        "    \n",
        "    def __init__(self, num_classes: int = 17):\n",
        "        super(AlexNet, self).__init__()\n",
        "\n",
        "        self.convolutional = nn.Sequential(\n",
        "            # first layer\n",
        "            nn.Conv2d(3, 64, kernel_size=11, stride=4, padding=2),\n",
        "            # activation function\n",
        "            nn.ReLU(inplace=True),\n",
        "            # pooling\n",
        "            nn.MaxPool2d(kernel_size=3, stride=2),\n",
        "\n",
        "            nn.Conv2d(64, 192, kernel_size=5, padding=2),\n",
        "            nn.ReLU(inplace=True),\n",
        "            nn.MaxPool2d(kernel_size=3, stride=2),\n",
        "\n",
        "            nn.Conv2d(192, 384, kernel_size=3, padding=1),\n",
        "            nn.ReLU(inplace=True),\n",
        "\n",
        "            nn.Conv2d(384, 256, kernel_size=3, padding=1),\n",
        "            nn.ReLU(inplace=True),\n",
        "\n",
        "            nn.Conv2d(256, 256, kernel_size=3, padding=1),\n",
        "            nn.ReLU(inplace=True),\n",
        "            nn.MaxPool2d(kernel_size=3, stride=2),\n",
        "        )\n",
        "\n",
        "        # average pooling layer\n",
        "        self.avgpool = nn.AdaptiveAvgPool2d((6, 6))\n",
        "\n",
        "        self.linear = nn.Sequential(\n",
        "            nn.Dropout(),\n",
        "            # fully connected layer\n",
        "            nn.Linear(256 * 6 * 6, 4096),\n",
        "            nn.ReLU(inplace=True),\n",
        "\n",
        "            nn.Dropout(),\n",
        "            nn.Linear(4096, 4096),\n",
        "            nn.ReLU(inplace=True),\n",
        "\n",
        "            nn.Linear(4096, NUM_CLASSES) # 2 classes\n",
        "        )\n",
        "\n",
        "    def forward(self, x: torch.Tensor) -> torch.Tensor:\n",
        "\n",
        "        x = self.convolutional(x)\n",
        "        x = self.avgpool(x)\n",
        "        x = torch.flatten(x, 1)\n",
        "        x = self.linear(x)\n",
        "        return torch.softmax(x, 1)\n",
        "\n",
        "'''\n",
        "# User pytorch\n",
        "# net = torch.hub.load('pytorch/vision:v0.10.0', 'alexnet', pretrained=True)"
      ],
      "metadata": {
        "id": "najKrMWENVQf",
        "execution": {
          "iopub.status.busy": "2022-11-17T02:24:04.794573Z",
          "iopub.execute_input": "2022-11-17T02:24:04.795242Z",
          "iopub.status.idle": "2022-11-17T02:24:04.807739Z",
          "shell.execute_reply.started": "2022-11-17T02:24:04.795199Z",
          "shell.execute_reply": "2022-11-17T02:24:04.806703Z"
        },
        "trusted": true,
        "colab": {
          "base_uri": "https://localhost:8080/",
          "height": 145
        },
        "outputId": "3b7aaf7f-2222-44be-8dd8-fe1d5a05e2f3"
      },
      "execution_count": 7,
      "outputs": [
        {
          "output_type": "execute_result",
          "data": {
            "text/plain": [
              "' my AlexNet \\n# AlexNet model\\nclass AlexNet(nn.Module):\\n    \\n    def __init__(self, num_classes: int = 17):\\n        super(AlexNet, self).__init__()\\n\\n        self.convolutional = nn.Sequential(\\n            # first layer\\n            nn.Conv2d(3, 64, kernel_size=11, stride=4, padding=2),\\n            # activation function\\n            nn.ReLU(inplace=True),\\n            # pooling\\n            nn.MaxPool2d(kernel_size=3, stride=2),\\n\\n            nn.Conv2d(64, 192, kernel_size=5, padding=2),\\n            nn.ReLU(inplace=True),\\n            nn.MaxPool2d(kernel_size=3, stride=2),\\n\\n            nn.Conv2d(192, 384, kernel_size=3, padding=1),\\n            nn.ReLU(inplace=True),\\n\\n            nn.Conv2d(384, 256, kernel_size=3, padding=1),\\n            nn.ReLU(inplace=True),\\n\\n            nn.Conv2d(256, 256, kernel_size=3, padding=1),\\n            nn.ReLU(inplace=True),\\n            nn.MaxPool2d(kernel_size=3, stride=2),\\n        )\\n\\n        # average pooling layer\\n        self.avgpool = nn.AdaptiveAvgPool2d((6, 6))\\n\\n        self.linear = nn.Sequential(\\n            nn.Dropout(),\\n            # fully connected layer\\n            nn.Linear(256 * 6 * 6, 4096),\\n            nn.ReLU(inplace=True),\\n\\n            nn.Dropout(),\\n            nn.Linear(4096, 4096),\\n            nn.ReLU(inplace=True),\\n\\n            nn.Linear(4096, NUM_CLASSES) # 2 classes\\n        )\\n\\n    def forward(self, x: torch.Tensor) -> torch.Tensor:\\n\\n        x = self.convolutional(x)\\n        x = self.avgpool(x)\\n        x = torch.flatten(x, 1)\\n        x = self.linear(x)\\n        return torch.softmax(x, 1)\\n\\n'"
            ],
            "application/vnd.google.colaboratory.intrinsic+json": {
              "type": "string"
            }
          },
          "metadata": {},
          "execution_count": 7
        }
      ]
    },
    {
      "cell_type": "markdown",
      "source": [
        "## Training"
      ],
      "metadata": {
        "id": "rBPSkx7UGD6_"
      }
    },
    {
      "cell_type": "code",
      "source": [
        "import torch.optim as optim\n",
        "\n",
        "criterion = nn.CrossEntropyLoss()\n",
        "optimizer = optim.Adam(net.parameters(), lr=0.0001, betas=(0.9, 0.999), eps=1e-08, weight_decay=0, amsgrad=False)\n",
        "scheduler = optim.lr_scheduler.ReduceLROnPlateau(optimizer, mode='min', factor=0.1, patience=10, verbose=True, min_lr=0)\n",
        "\n",
        "loss_hist, acc_hist = [], []\n",
        "loss_hist_val, acc_hist_val = [], []\n",
        "\n",
        "for epoch in range(num_epochs):\n",
        "  running_loss = 0.0\n",
        "  correct = 0\n",
        "  for data in train_loader:\n",
        "    batch, labels = data\n",
        "    batch, labels = batch.to(device), labels.to(device)\n",
        "\n",
        "    optimizer.zero_grad()\n",
        "    outputs = net(batch)\n",
        "    loss = criterion(outputs, labels)\n",
        "    loss.backward()\n",
        "    optimizer.step()\n",
        "\n",
        "    # compute training statistics\n",
        "    _, predicted = torch.max(outputs, 1)\n",
        "    correct += (predicted == labels).sum().item()\n",
        "    running_loss += loss.item()\n",
        "\n",
        "  avg_loss = running_loss / len(train_set)\n",
        "  avg_acc = correct / len(train_set)\n",
        "  loss_hist.append(avg_loss)\n",
        "  acc_hist.append(avg_acc)\n",
        "\n",
        "  # validation statistics\n",
        "  net.eval()\n",
        "  with torch.no_grad():\n",
        "    loss_val = 0.0\n",
        "    correct_val = 0\n",
        "    for data in val_loader:\n",
        "      batch, labels = data\n",
        "      batch, labels = batch.to(device), labels.to(device)\n",
        "      outputs = net(batch)\n",
        "      loss = criterion(outputs, labels)\n",
        "      _, predicted = torch.max(outputs, 1)\n",
        "      correct_val += (predicted == labels).sum().item()\n",
        "      loss_val += loss.item()\n",
        "    avg_loss_val = loss_val / len(val_set)\n",
        "    avg_acc_val = correct_val / len(val_set)\n",
        "    loss_hist_val.append(avg_loss_val)\n",
        "    acc_hist_val.append(avg_acc_val)\n",
        "  net.train()\n",
        "\n",
        "  scheduler.step(avg_loss_val)\n",
        "  print('[epoch %d] loss: %.5f accuracy: %.4f val loss: %.5f val accuracy: %.4f' % (epoch + 1, avg_loss, avg_acc, avg_loss_val, avg_acc_val))\n",
        "\n",
        "\n"
      ],
      "metadata": {
        "id": "xoyrcbpYY_jq",
        "outputId": "cd8fb4d0-0c44-4dea-b80a-8da4da047fad",
        "colab": {
          "base_uri": "https://localhost:8080/"
        },
        "execution": {
          "iopub.status.busy": "2022-11-17T02:24:04.809672Z",
          "iopub.execute_input": "2022-11-17T02:24:04.810258Z",
          "iopub.status.idle": "2022-11-17T05:35:55.609769Z",
          "shell.execute_reply.started": "2022-11-17T02:24:04.810220Z",
          "shell.execute_reply": "2022-11-17T05:35:55.607817Z"
        },
        "trusted": true
      },
      "execution_count": 8,
      "outputs": [
        {
          "output_type": "stream",
          "name": "stdout",
          "text": [
            "[epoch 1] loss: 0.10176 accuracy: 0.3921 val loss: 0.08241 val accuracy: 0.5183\n",
            "[epoch 2] loss: 0.07386 accuracy: 0.5752 val loss: 0.06337 val accuracy: 0.6367\n",
            "[epoch 3] loss: 0.06020 accuracy: 0.6613 val loss: 0.05517 val accuracy: 0.6876\n",
            "[epoch 4] loss: 0.05197 accuracy: 0.7079 val loss: 0.04833 val accuracy: 0.7306\n",
            "[epoch 5] loss: 0.04637 accuracy: 0.7394 val loss: 0.04658 val accuracy: 0.7404\n"
          ]
        }
      ]
    },
    {
      "cell_type": "markdown",
      "source": [
        "## Plotting training statistics"
      ],
      "metadata": {
        "id": "oQSfBrXvGGIL"
      }
    },
    {
      "cell_type": "code",
      "source": [
        "import matplotlib.pyplot as plt\n",
        "\n",
        "legend = ['Train', 'Validation']\n",
        "plt.plot(loss_hist)\n",
        "plt.plot(loss_hist_val)\n",
        "plt.title('Alexnet Model Loss on CIFAR-10')\n",
        "plt.xlabel('Epochs')\n",
        "plt.ylabel('Loss')\n",
        "plt.legend(legend, loc='upper left')\n",
        "plt.show()\n",
        "\n",
        "legend = ['Train', 'Validation']\n",
        "plt.plot(acc_hist)\n",
        "plt.plot(acc_hist_val)\n",
        "plt.title('Alexnet Model Accuracy on CIFAR-10')\n",
        "plt.xlabel('Epochs')\n",
        "plt.ylabel('Accuracy')\n",
        "plt.legend(legend, loc='upper left')\n",
        "plt.show()"
      ],
      "metadata": {
        "id": "jh8RDOgCf0UE",
        "execution": {
          "iopub.status.busy": "2022-11-17T05:35:55.611947Z",
          "iopub.execute_input": "2022-11-17T05:35:55.612406Z",
          "iopub.status.idle": "2022-11-17T05:35:56.049944Z",
          "shell.execute_reply.started": "2022-11-17T05:35:55.612366Z",
          "shell.execute_reply": "2022-11-17T05:35:56.048976Z"
        },
        "trusted": true,
        "colab": {
          "base_uri": "https://localhost:8080/",
          "height": 573
        },
        "outputId": "014fa8a3-d93c-4350-f4ac-0061063592e6"
      },
      "execution_count": 9,
      "outputs": [
        {
          "output_type": "display_data",
          "data": {
            "text/plain": [
              "<Figure size 432x288 with 1 Axes>"
            ],
            "image/png": "[encoded data removed]"
          },
          "metadata": {
            "needs_background": "light"
          }
        },
        {
          "output_type": "display_data",
          "data": {
            "text/plain": [
              "<Figure size 432x288 with 1 Axes>"
            ],
            "image/png": "[encoded data removed]"
          },
          "metadata": {
            "needs_background": "light"
          }
        }
      ]
    },
    {
      "cell_type": "markdown",
      "source": [
        "## Save the trained model"
      ],
      "metadata": {
        "id": "o9YY5mqtGK8Q"
      }
    },
    {
      "cell_type": "code",
      "source": [
        "from google.colab import files, drive\n",
        "\n",
        "torch.save(net.state_dict(), 'Alexnet_weight.pth')\n",
        "# download checkpoint file\n",
        "# files.download('Alexnet_weight.pth')\n",
        "drive.mount('/content/gdrive')"
      ],
      "metadata": {
        "id": "GyAT4r8ZJuOS",
        "execution": {
          "iopub.status.busy": "2022-11-17T05:35:56.051413Z",
          "iopub.execute_input": "2022-11-17T05:35:56.052189Z",
          "iopub.status.idle": "2022-11-17T05:35:56.169194Z",
          "shell.execute_reply.started": "2022-11-17T05:35:56.052138Z",
          "shell.execute_reply": "2022-11-17T05:35:56.167289Z"
        },
        "trusted": true,
        "colab": {
          "base_uri": "https://localhost:8080/"
        },
        "outputId": "2b3b29c1-794b-465d-d324-511e07f55e45"
      },
      "execution_count": 11,
      "outputs": [
        {
          "output_type": "stream",
          "name": "stdout",
          "text": [
            "Mounted at /content/gdrive\n"
          ]
        }
      ]
    },
    {
      "cell_type": "code",
      "source": [
        "net.load_state_dict(torch.load('Alexnet_weight.pth'))"
      ],
      "metadata": {
        "id": "1sNFx1j-Iw_S",
        "execution": {
          "iopub.status.busy": "2022-11-17T05:35:56.170317Z",
          "iopub.status.idle": "2022-11-17T05:35:56.170978Z",
          "shell.execute_reply.started": "2022-11-17T05:35:56.170708Z",
          "shell.execute_reply": "2022-11-17T05:35:56.170733Z"
        },
        "trusted": true,
        "colab": {
          "base_uri": "https://localhost:8080/"
        },
        "outputId": "29161b63-180f-4ee0-ad22-ff7121961258"
      },
      "execution_count": 12,
      "outputs": [
        {
          "output_type": "execute_result",
          "data": {
            "text/plain": [
              "<All keys matched successfully>"
            ]
          },
          "metadata": {},
          "execution_count": 12
        }
      ]
    },
    {
      "cell_type": "markdown",
      "source": [
        "## Testing"
      ],
      "metadata": {
        "id": "oxoHZNukGP-6"
      }
    },
    {
      "cell_type": "code",
      "source": [
        "pred_vec = []\n",
        "correct = 0\n",
        "net.eval()\n",
        "with torch.no_grad():\n",
        "    for data in test_loader:\n",
        "        batch, labels = data\n",
        "        batch, labels = batch.to(device), labels.to(device)\n",
        "        outputs = net(batch)\n",
        "        _, predicted = torch.max(outputs, 1)\n",
        "        correct += (predicted == labels).sum().item()\n",
        "        pred_vec.append(predicted)\n",
        "    pred_vec = torch.cat(pred_vec)\n",
        "\n",
        "print('Accuracy on the 10000 test images: %.2f %%' % (100 * correct / len(test_set)))"
      ],
      "metadata": {
        "id": "wAkC3hX5g-fF",
        "execution": {
          "iopub.status.busy": "2022-11-17T05:38:55.643176Z",
          "iopub.execute_input": "2022-11-17T05:38:55.643766Z",
          "iopub.status.idle": "2022-11-17T05:39:16.932493Z",
          "shell.execute_reply.started": "2022-11-17T05:38:55.643729Z",
          "shell.execute_reply": "2022-11-17T05:39:16.930184Z"
        },
        "trusted": true,
        "colab": {
          "base_uri": "https://localhost:8080/"
        },
        "outputId": "65feb637-d499-47bf-e4e4-5c19390b6e2e"
      },
      "execution_count": 13,
      "outputs": [
        {
          "output_type": "stream",
          "name": "stdout",
          "text": [
            "Accuracy on the 10000 test images: 76.11 %\n"
          ]
        }
      ]
    },
    {
      "cell_type": "markdown",
      "source": [
        "## Visualize wrongly classified image for each class"
      ],
      "metadata": {
        "id": "Ur3uUCvfGSL6"
      }
    },
    {
      "cell_type": "code",
      "source": [
        "import numpy as np\n",
        "\n",
        "# visualize wrongly classified image for each class\n",
        "pred_vec = pred_vec.cpu().numpy()\n",
        "ground_truths = np.asarray(test_set.targets)\n",
        "incorrect_mask = pred_vec != ground_truths\n",
        "incorrect_images = [test_set.data[(ground_truths == label) & incorrect_mask][0] for label in range(10)]\n",
        "pred_results = [pred_vec[(ground_truths == label) & incorrect_mask][0] for label in range(10)]\n",
        "\n",
        "# show images\n",
        "fig, axes = plt.subplots(2, 5, figsize=(12, 6))\n",
        "i = 0\n",
        "for row in axes:\n",
        "  for axis in row:\n",
        "    axis.set_xticks([])\n",
        "    axis.set_yticks([])\n",
        "    axis.set_xlabel(\"Predicted: %s\" % classes[pred_results[i]], fontsize=14)\n",
        "    axis.imshow(incorrect_images[i])\n",
        "    i += 1"
      ],
      "metadata": {
        "id": "XPx_mN-ImzXa",
        "execution": {
          "iopub.status.busy": "2022-11-17T05:39:36.015711Z",
          "iopub.execute_input": "2022-11-17T05:39:36.016121Z",
          "iopub.status.idle": "2022-11-17T05:39:36.639128Z",
          "shell.execute_reply.started": "2022-11-17T05:39:36.016073Z",
          "shell.execute_reply": "2022-11-17T05:39:36.638109Z"
        },
        "trusted": true,
        "colab": {
          "base_uri": "https://localhost:8080/",
          "height": 342
        },
        "outputId": "4aa57fff-47a9-4be1-a398-174fc3ae1a8b"
      },
      "execution_count": 14,
      "outputs": [
        {
          "output_type": "display_data",
          "data": {
            "text/plain": [
              "<Figure size 864x432 with 10 Axes>"
            ],
            "image/png": "[encoded data removed]"
          },
          "metadata": {}
        }
      ]
    }
  ]
}