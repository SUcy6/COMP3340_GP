{
  "nbformat": 4,
  "nbformat_minor": 0,
  "metadata": {
    "colab": {
      "provenance": []
    },
    "kernelspec": {
      "name": "python3",
      "display_name": "Python 3"
    },
    "accelerator": "GPU",
    "widgets": {
      "application/vnd.jupyter.widget-state+json": {
        "6ed8fb985bee41e08ad62f5441935d4a": {
          "model_module": "@jupyter-widgets/controls",
          "model_name": "HBoxModel",
          "model_module_version": "1.5.0",
          "state": {
            "_dom_classes": [],
            "_model_module": "@jupyter-widgets/controls",
            "_model_module_version": "1.5.0",
            "_model_name": "HBoxModel",
            "_view_count": null,
            "_view_module": "@jupyter-widgets/controls",
            "_view_module_version": "1.5.0",
            "_view_name": "HBoxView",
            "box_style": "",
            "children": [
              "IPY_MODEL_c360ae8e0bad4cd78b33197d3e3a6f19",
              "IPY_MODEL_2b4c8d72db334acea809ac500b62ee86",
              "IPY_MODEL_375a593936ab48989d763516a9dcf557"
            ],
            "layout": "IPY_MODEL_8de43b8db36641a7b9c1e9c4f4796a0b"
          }
        },
        "c360ae8e0bad4cd78b33197d3e3a6f19": {
          "model_module": "@jupyter-widgets/controls",
          "model_name": "HTMLModel",
          "model_module_version": "1.5.0",
          "state": {
            "_dom_classes": [],
            "_model_module": "@jupyter-widgets/controls",
            "_model_module_version": "1.5.0",
            "_model_name": "HTMLModel",
            "_view_count": null,
            "_view_module": "@jupyter-widgets/controls",
            "_view_module_version": "1.5.0",
            "_view_name": "HTMLView",
            "description": "",
            "description_tooltip": null,
            "layout": "IPY_MODEL_b65a37909b2541e3ad967a537f497359",
            "placeholder": "​",
            "style": "IPY_MODEL_668a3e90451e42a2ae7b9f6a8108268e",
            "value": "100%"
          }
        },
        "2b4c8d72db334acea809ac500b62ee86": {
          "model_module": "@jupyter-widgets/controls",
          "model_name": "FloatProgressModel",
          "model_module_version": "1.5.0",
          "state": {
            "_dom_classes": [],
            "_model_module": "@jupyter-widgets/controls",
            "_model_module_version": "1.5.0",
            "_model_name": "FloatProgressModel",
            "_view_count": null,
            "_view_module": "@jupyter-widgets/controls",
            "_view_module_version": "1.5.0",
            "_view_name": "ProgressView",
            "bar_style": "success",
            "description": "",
            "description_tooltip": null,
            "layout": "IPY_MODEL_e5eef738afbc4d82b5db1a00eba90151",
            "max": 170498071,
            "min": 0,
            "orientation": "horizontal",
            "style": "IPY_MODEL_18bec6e2faeb47f28814ab0d83a102f9",
            "value": 170498071
          }
        },
        "375a593936ab48989d763516a9dcf557": {
          "model_module": "@jupyter-widgets/controls",
          "model_name": "HTMLModel",
          "model_module_version": "1.5.0",
          "state": {
            "_dom_classes": [],
            "_model_module": "@jupyter-widgets/controls",
            "_model_module_version": "1.5.0",
            "_model_name": "HTMLModel",
            "_view_count": null,
            "_view_module": "@jupyter-widgets/controls",
            "_view_module_version": "1.5.0",
            "_view_name": "HTMLView",
            "description": "",
            "description_tooltip": null,
            "layout": "IPY_MODEL_97b4590626c248d8946cc8b36ebf0c0b",
            "placeholder": "​",
            "style": "IPY_MODEL_926602abd2764bde87a6ec44bd28e0fe",
            "value": " 170498071/170498071 [00:13&lt;00:00, 13602063.89it/s]"
          }
        },
        "8de43b8db36641a7b9c1e9c4f4796a0b": {
          "model_module": "@jupyter-widgets/base",
          "model_name": "LayoutModel",
          "model_module_version": "1.2.0",
          "state": {
            "_model_module": "@jupyter-widgets/base",
            "_model_module_version": "1.2.0",
            "_model_name": "LayoutModel",
            "_view_count": null,
            "_view_module": "@jupyter-widgets/base",
            "_view_module_version": "1.2.0",
            "_view_name": "LayoutView",
            "align_content": null,
            "align_items": null,
            "align_self": null,
            "border": null,
            "bottom": null,
            "display": null,
            "flex": null,
            "flex_flow": null,
            "grid_area": null,
            "grid_auto_columns": null,
            "grid_auto_flow": null,
            "grid_auto_rows": null,
            "grid_column": null,
            "grid_gap": null,
            "grid_row": null,
            "grid_template_areas": null,
            "grid_template_columns": null,
            "grid_template_rows": null,
            "height": null,
            "justify_content": null,
            "justify_items": null,
            "left": null,
            "margin": null,
            "max_height": null,
            "max_width": null,
            "min_height": null,
            "min_width": null,
            "object_fit": null,
            "object_position": null,
            "order": null,
            "overflow": null,
            "overflow_x": null,
            "overflow_y": null,
            "padding": null,
            "right": null,
            "top": null,
            "visibility": null,
            "width": null
          }
        },
        "b65a37909b2541e3ad967a537f497359": {
          "model_module": "@jupyter-widgets/base",
          "model_name": "LayoutModel",
          "model_module_version": "1.2.0",
          "state": {
            "_model_module": "@jupyter-widgets/base",
            "_model_module_version": "1.2.0",
            "_model_name": "LayoutModel",
            "_view_count": null,
            "_view_module": "@jupyter-widgets/base",
            "_view_module_version": "1.2.0",
            "_view_name": "LayoutView",
            "align_content": null,
            "align_items": null,
            "align_self": null,
            "border": null,
            "bottom": null,
            "display": null,
            "flex": null,
            "flex_flow": null,
            "grid_area": null,
            "grid_auto_columns": null,
            "grid_auto_flow": null,
            "grid_auto_rows": null,
            "grid_column": null,
            "grid_gap": null,
            "grid_row": null,
            "grid_template_areas": null,
            "grid_template_columns": null,
            "grid_template_rows": null,
            "height": null,
            "justify_content": null,
            "justify_items": null,
            "left": null,
            "margin": null,
            "max_height": null,
            "max_width": null,
            "min_height": null,
            "min_width": null,
            "object_fit": null,
            "object_position": null,
            "order": null,
            "overflow": null,
            "overflow_x": null,
            "overflow_y": null,
            "padding": null,
            "right": null,
            "top": null,
            "visibility": null,
            "width": null
          }
        },
        "668a3e90451e42a2ae7b9f6a8108268e": {
          "model_module": "@jupyter-widgets/controls",
          "model_name": "DescriptionStyleModel",
          "model_module_version": "1.5.0",
          "state": {
            "_model_module": "@jupyter-widgets/controls",
            "_model_module_version": "1.5.0",
            "_model_name": "DescriptionStyleModel",
            "_view_count": null,
            "_view_module": "@jupyter-widgets/base",
            "_view_module_version": "1.2.0",
            "_view_name": "StyleView",
            "description_width": ""
          }
        },
        "e5eef738afbc4d82b5db1a00eba90151": {
          "model_module": "@jupyter-widgets/base",
          "model_name": "LayoutModel",
          "model_module_version": "1.2.0",
          "state": {
            "_model_module": "@jupyter-widgets/base",
            "_model_module_version": "1.2.0",
            "_model_name": "LayoutModel",
            "_view_count": null,
            "_view_module": "@jupyter-widgets/base",
            "_view_module_version": "1.2.0",
            "_view_name": "LayoutView",
            "align_content": null,
            "align_items": null,
            "align_self": null,
            "border": null,
            "bottom": null,
            "display": null,
            "flex": null,
            "flex_flow": null,
            "grid_area": null,
            "grid_auto_columns": null,
            "grid_auto_flow": null,
            "grid_auto_rows": null,
            "grid_column": null,
            "grid_gap": null,
            "grid_row": null,
            "grid_template_areas": null,
            "grid_template_columns": null,
            "grid_template_rows": null,
            "height": null,
            "justify_content": null,
            "justify_items": null,
            "left": null,
            "margin": null,
            "max_height": null,
            "max_width": null,
            "min_height": null,
            "min_width": null,
            "object_fit": null,
            "object_position": null,
            "order": null,
            "overflow": null,
            "overflow_x": null,
            "overflow_y": null,
            "padding": null,
            "right": null,
            "top": null,
            "visibility": null,
            "width": null
          }
        },
        "18bec6e2faeb47f28814ab0d83a102f9": {
          "model_module": "@jupyter-widgets/controls",
          "model_name": "ProgressStyleModel",
          "model_module_version": "1.5.0",
          "state": {
            "_model_module": "@jupyter-widgets/controls",
            "_model_module_version": "1.5.0",
            "_model_name": "ProgressStyleModel",
            "_view_count": null,
            "_view_module": "@jupyter-widgets/base",
            "_view_module_version": "1.2.0",
            "_view_name": "StyleView",
            "bar_color": null,
            "description_width": ""
          }
        },
        "97b4590626c248d8946cc8b36ebf0c0b": {
          "model_module": "@jupyter-widgets/base",
          "model_name": "LayoutModel",
          "model_module_version": "1.2.0",
          "state": {
            "_model_module": "@jupyter-widgets/base",
            "_model_module_version": "1.2.0",
            "_model_name": "LayoutModel",
            "_view_count": null,
            "_view_module": "@jupyter-widgets/base",
            "_view_module_version": "1.2.0",
            "_view_name": "LayoutView",
            "align_content": null,
            "align_items": null,
            "align_self": null,
            "border": null,
            "bottom": null,
            "display": null,
            "flex": null,
            "flex_flow": null,
            "grid_area": null,
            "grid_auto_columns": null,
            "grid_auto_flow": null,
            "grid_auto_rows": null,
            "grid_column": null,
            "grid_gap": null,
            "grid_row": null,
            "grid_template_areas": null,
            "grid_template_columns": null,
            "grid_template_rows": null,
            "height": null,
            "justify_content": null,
            "justify_items": null,
            "left": null,
            "margin": null,
            "max_height": null,
            "max_width": null,
            "min_height": null,
            "min_width": null,
            "object_fit": null,
            "object_position": null,
            "order": null,
            "overflow": null,
            "overflow_x": null,
            "overflow_y": null,
            "padding": null,
            "right": null,
            "top": null,
            "visibility": null,
            "width": null
          }
        },
        "926602abd2764bde87a6ec44bd28e0fe": {
          "model_module": "@jupyter-widgets/controls",
          "model_name": "DescriptionStyleModel",
          "model_module_version": "1.5.0",
          "state": {
            "_model_module": "@jupyter-widgets/controls",
            "_model_module_version": "1.5.0",
            "_model_name": "DescriptionStyleModel",
            "_view_count": null,
            "_view_module": "@jupyter-widgets/base",
            "_view_module_version": "1.2.0",
            "_view_name": "StyleView",
            "description_width": ""
          }
        },
        "869d2a8442af49aeb99839e5c27fd5e4": {
          "model_module": "@jupyter-widgets/controls",
          "model_name": "HBoxModel",
          "model_module_version": "1.5.0",
          "state": {
            "_dom_classes": [],
            "_model_module": "@jupyter-widgets/controls",
            "_model_module_version": "1.5.0",
            "_model_name": "HBoxModel",
            "_view_count": null,
            "_view_module": "@jupyter-widgets/controls",
            "_view_module_version": "1.5.0",
            "_view_name": "HBoxView",
            "box_style": "",
            "children": [
              "IPY_MODEL_fe818fb50f23432cb1ad443a9c7c2ef6",
              "IPY_MODEL_c317bb54068a40f2b27d5dc680da42f8",
              "IPY_MODEL_265df2bf4e024613ad7db747d68ec8f4"
            ],
            "layout": "IPY_MODEL_f8cd8a6c395e44c2b54b0a8033af9fd1"
          }
        },
        "fe818fb50f23432cb1ad443a9c7c2ef6": {
          "model_module": "@jupyter-widgets/controls",
          "model_name": "HTMLModel",
          "model_module_version": "1.5.0",
          "state": {
            "_dom_classes": [],
            "_model_module": "@jupyter-widgets/controls",
            "_model_module_version": "1.5.0",
            "_model_name": "HTMLModel",
            "_view_count": null,
            "_view_module": "@jupyter-widgets/controls",
            "_view_module_version": "1.5.0",
            "_view_name": "HTMLView",
            "description": "",
            "description_tooltip": null,
            "layout": "IPY_MODEL_60b8d1a4af2b40bca9a03516a73ace6d",
            "placeholder": "​",
            "style": "IPY_MODEL_c6a90ba3c0ef407c98ba94a8561ba3da",
            "value": "100%"
          }
        },
        "c317bb54068a40f2b27d5dc680da42f8": {
          "model_module": "@jupyter-widgets/controls",
          "model_name": "FloatProgressModel",
          "model_module_version": "1.5.0",
          "state": {
            "_dom_classes": [],
            "_model_module": "@jupyter-widgets/controls",
            "_model_module_version": "1.5.0",
            "_model_name": "FloatProgressModel",
            "_view_count": null,
            "_view_module": "@jupyter-widgets/controls",
            "_view_module_version": "1.5.0",
            "_view_name": "ProgressView",
            "bar_style": "success",
            "description": "",
            "description_tooltip": null,
            "layout": "IPY_MODEL_065cc083fabb4ee2980f763294bf1c88",
            "max": 553433881,
            "min": 0,
            "orientation": "horizontal",
            "style": "IPY_MODEL_4ac4be09b98f4cd48b2c3e9b68c84680",
            "value": 553433881
          }
        },
        "265df2bf4e024613ad7db747d68ec8f4": {
          "model_module": "@jupyter-widgets/controls",
          "model_name": "HTMLModel",
          "model_module_version": "1.5.0",
          "state": {
            "_dom_classes": [],
            "_model_module": "@jupyter-widgets/controls",
            "_model_module_version": "1.5.0",
            "_model_name": "HTMLModel",
            "_view_count": null,
            "_view_module": "@jupyter-widgets/controls",
            "_view_module_version": "1.5.0",
            "_view_name": "HTMLView",
            "description": "",
            "description_tooltip": null,
            "layout": "IPY_MODEL_d5e22a192dd24d05b01cd6a4f8bf6db7",
            "placeholder": "​",
            "style": "IPY_MODEL_8dab98971e534e34aca9948d89bb4bc5",
            "value": " 528M/528M [00:02&lt;00:00, 222MB/s]"
          }
        },
        "f8cd8a6c395e44c2b54b0a8033af9fd1": {
          "model_module": "@jupyter-widgets/base",
          "model_name": "LayoutModel",
          "model_module_version": "1.2.0",
          "state": {
            "_model_module": "@jupyter-widgets/base",
            "_model_module_version": "1.2.0",
            "_model_name": "LayoutModel",
            "_view_count": null,
            "_view_module": "@jupyter-widgets/base",
            "_view_module_version": "1.2.0",
            "_view_name": "LayoutView",
            "align_content": null,
            "align_items": null,
            "align_self": null,
            "border": null,
            "bottom": null,
            "display": null,
            "flex": null,
            "flex_flow": null,
            "grid_area": null,
            "grid_auto_columns": null,
            "grid_auto_flow": null,
            "grid_auto_rows": null,
            "grid_column": null,
            "grid_gap": null,
            "grid_row": null,
            "grid_template_areas": null,
            "grid_template_columns": null,
            "grid_template_rows": null,
            "height": null,
            "justify_content": null,
            "justify_items": null,
            "left": null,
            "margin": null,
            "max_height": null,
            "max_width": null,
            "min_height": null,
            "min_width": null,
            "object_fit": null,
            "object_position": null,
            "order": null,
            "overflow": null,
            "overflow_x": null,
            "overflow_y": null,
            "padding": null,
            "right": null,
            "top": null,
            "visibility": null,
            "width": null
          }
        },
        "60b8d1a4af2b40bca9a03516a73ace6d": {
          "model_module": "@jupyter-widgets/base",
          "model_name": "LayoutModel",
          "model_module_version": "1.2.0",
          "state": {
            "_model_module": "@jupyter-widgets/base",
            "_model_module_version": "1.2.0",
            "_model_name": "LayoutModel",
            "_view_count": null,
            "_view_module": "@jupyter-widgets/base",
            "_view_module_version": "1.2.0",
            "_view_name": "LayoutView",
            "align_content": null,
            "align_items": null,
            "align_self": null,
            "border": null,
            "bottom": null,
            "display": null,
            "flex": null,
            "flex_flow": null,
            "grid_area": null,
            "grid_auto_columns": null,
            "grid_auto_flow": null,
            "grid_auto_rows": null,
            "grid_column": null,
            "grid_gap": null,
            "grid_row": null,
            "grid_template_areas": null,
            "grid_template_columns": null,
            "grid_template_rows": null,
            "height": null,
            "justify_content": null,
            "justify_items": null,
            "left": null,
            "margin": null,
            "max_height": null,
            "max_width": null,
            "min_height": null,
            "min_width": null,
            "object_fit": null,
            "object_position": null,
            "order": null,
            "overflow": null,
            "overflow_x": null,
            "overflow_y": null,
            "padding": null,
            "right": null,
            "top": null,
            "visibility": null,
            "width": null
          }
        },
        "c6a90ba3c0ef407c98ba94a8561ba3da": {
          "model_module": "@jupyter-widgets/controls",
          "model_name": "DescriptionStyleModel",
          "model_module_version": "1.5.0",
          "state": {
            "_model_module": "@jupyter-widgets/controls",
            "_model_module_version": "1.5.0",
            "_model_name": "DescriptionStyleModel",
            "_view_count": null,
            "_view_module": "@jupyter-widgets/base",
            "_view_module_version": "1.2.0",
            "_view_name": "StyleView",
            "description_width": ""
          }
        },
        "065cc083fabb4ee2980f763294bf1c88": {
          "model_module": "@jupyter-widgets/base",
          "model_name": "LayoutModel",
          "model_module_version": "1.2.0",
          "state": {
            "_model_module": "@jupyter-widgets/base",
            "_model_module_version": "1.2.0",
            "_model_name": "LayoutModel",
            "_view_count": null,
            "_view_module": "@jupyter-widgets/base",
            "_view_module_version": "1.2.0",
            "_view_name": "LayoutView",
            "align_content": null,
            "align_items": null,
            "align_self": null,
            "border": null,
            "bottom": null,
            "display": null,
            "flex": null,
            "flex_flow": null,
            "grid_area": null,
            "grid_auto_columns": null,
            "grid_auto_flow": null,
            "grid_auto_rows": null,
            "grid_column": null,
            "grid_gap": null,
            "grid_row": null,
            "grid_template_areas": null,
            "grid_template_columns": null,
            "grid_template_rows": null,
            "height": null,
            "justify_content": null,
            "justify_items": null,
            "left": null,
            "margin": null,
            "max_height": null,
            "max_width": null,
            "min_height": null,
            "min_width": null,
            "object_fit": null,
            "object_position": null,
            "order": null,
            "overflow": null,
            "overflow_x": null,
            "overflow_y": null,
            "padding": null,
            "right": null,
            "top": null,
            "visibility": null,
            "width": null
          }
        },
        "4ac4be09b98f4cd48b2c3e9b68c84680": {
          "model_module": "@jupyter-widgets/controls",
          "model_name": "ProgressStyleModel",
          "model_module_version": "1.5.0",
          "state": {
            "_model_module": "@jupyter-widgets/controls",
            "_model_module_version": "1.5.0",
            "_model_name": "ProgressStyleModel",
            "_view_count": null,
            "_view_module": "@jupyter-widgets/base",
            "_view_module_version": "1.2.0",
            "_view_name": "StyleView",
            "bar_color": null,
            "description_width": ""
          }
        },
        "d5e22a192dd24d05b01cd6a4f8bf6db7": {
          "model_module": "@jupyter-widgets/base",
          "model_name": "LayoutModel",
          "model_module_version": "1.2.0",
          "state": {
            "_model_module": "@jupyter-widgets/base",
            "_model_module_version": "1.2.0",
            "_model_name": "LayoutModel",
            "_view_count": null,
            "_view_module": "@jupyter-widgets/base",
            "_view_module_version": "1.2.0",
            "_view_name": "LayoutView",
            "align_content": null,
            "align_items": null,
            "align_self": null,
            "border": null,
            "bottom": null,
            "display": null,
            "flex": null,
            "flex_flow": null,
            "grid_area": null,
            "grid_auto_columns": null,
            "grid_auto_flow": null,
            "grid_auto_rows": null,
            "grid_column": null,
            "grid_gap": null,
            "grid_row": null,
            "grid_template_areas": null,
            "grid_template_columns": null,
            "grid_template_rows": null,
            "height": null,
            "justify_content": null,
            "justify_items": null,
            "left": null,
            "margin": null,
            "max_height": null,
            "max_width": null,
            "min_height": null,
            "min_width": null,
            "object_fit": null,
            "object_position": null,
            "order": null,
            "overflow": null,
            "overflow_x": null,
            "overflow_y": null,
            "padding": null,
            "right": null,
            "top": null,
            "visibility": null,
            "width": null
          }
        },
        "8dab98971e534e34aca9948d89bb4bc5": {
          "model_module": "@jupyter-widgets/controls",
          "model_name": "DescriptionStyleModel",
          "model_module_version": "1.5.0",
          "state": {
            "_model_module": "@jupyter-widgets/controls",
            "_model_module_version": "1.5.0",
            "_model_name": "DescriptionStyleModel",
            "_view_count": null,
            "_view_module": "@jupyter-widgets/base",
            "_view_module_version": "1.2.0",
            "_view_name": "StyleView",
            "description_width": ""
          }
        }
      }
    }
  },
  "cells": [
    {
      "cell_type": "markdown",
      "metadata": {
        "id": "ncZwH9VGFg8G"
      },
      "source": [
        "## Split CIFAR-10 into training, validation, and testing sets"
      ]
    },
    {
      "cell_type": "code",
      "source": [
        "##########################\n",
        "### SETTINGS\n",
        "##########################\n",
        "\n",
        "NUM_CLASSES = 10\n",
        "\n",
        "# Hyperparameters\n",
        "random_seed = 1\n",
        "lr = 0.0001\n",
        "num_epochs = 60\n",
        "batch_size = 32"
      ],
      "metadata": {
        "id": "Wj4ViUZaN46W"
      },
      "execution_count": 2,
      "outputs": []
    },
    {
      "cell_type": "code",
      "metadata": {
        "id": "rvcTY4wiu3Ra",
        "outputId": "2686a569-130f-4d4b-a5bf-ffef99a27285",
        "colab": {
          "base_uri": "https://localhost:8080/",
          "height": 196,
          "referenced_widgets": [
            "6ed8fb985bee41e08ad62f5441935d4a",
            "c360ae8e0bad4cd78b33197d3e3a6f19",
            "2b4c8d72db334acea809ac500b62ee86",
            "375a593936ab48989d763516a9dcf557",
            "8de43b8db36641a7b9c1e9c4f4796a0b",
            "b65a37909b2541e3ad967a537f497359",
            "668a3e90451e42a2ae7b9f6a8108268e",
            "e5eef738afbc4d82b5db1a00eba90151",
            "18bec6e2faeb47f28814ab0d83a102f9",
            "97b4590626c248d8946cc8b36ebf0c0b",
            "926602abd2764bde87a6ec44bd28e0fe"
          ]
        }
      },
      "source": [
        "import torch\n",
        "import torchvision\n",
        "import torchvision.transforms as transforms\n",
        "import PIL\n",
        "\n",
        "train_transform = transforms.Compose(\n",
        "    [transforms.RandomHorizontalFlip(p=0.5),\n",
        "     transforms.RandomAffine(degrees=(-5, 5), translate=(0.1, 0.1), scale=(0.9, 1.1), resample=PIL.Image.BILINEAR),\n",
        "     transforms.ToTensor(),\n",
        "     transforms.Normalize((0.5, 0.5, 0.5), (0.5, 0.5, 0.5))])\n",
        "\n",
        "test_transform = transforms.Compose(\n",
        "    [transforms.ToTensor(),\n",
        "     transforms.Normalize((0.5, 0.5, 0.5), (0.5, 0.5, 0.5))])\n",
        "\n",
        "dataset = torchvision.datasets.CIFAR10(root='./data', train=True, download=True, transform=train_transform)\n",
        "train_set, val_set = torch.utils.data.random_split(dataset, [40000, 10000])\n",
        "\n",
        "train_loader = torch.utils.data.DataLoader(train_set, batch_size=batch_size, shuffle=True, num_workers=8)\n",
        "val_loader = torch.utils.data.DataLoader(val_set, batch_size=batch_size, shuffle=False, num_workers=8)\n",
        "\n",
        "test_set = torchvision.datasets.CIFAR10(root='./data', train=False, download=True, transform=test_transform)\n",
        "test_loader = torch.utils.data.DataLoader(test_set, batch_size=batch_size, shuffle=False, num_workers=8)\n",
        "\n",
        "classes = ['plane', 'car', 'bird', 'cat', 'deer', 'dog', 'frog', 'horse', 'ship', 'truck']"
      ],
      "execution_count": 3,
      "outputs": [
        {
          "output_type": "stream",
          "name": "stderr",
          "text": [
            "/usr/local/lib/python3.7/dist-packages/torchvision/transforms/transforms.py:1428: UserWarning: The parameter 'resample' is deprecated since 0.12 and will be removed in 0.14. Please use 'interpolation' instead.\n",
            "  \"The parameter 'resample' is deprecated since 0.12 and will be removed in 0.14. \"\n"
          ]
        },
        {
          "output_type": "stream",
          "name": "stdout",
          "text": [
            "Downloading https://www.cs.toronto.edu/~kriz/cifar-10-python.tar.gz to ./data/cifar-10-python.tar.gz\n"
          ]
        },
        {
          "output_type": "display_data",
          "data": {
            "text/plain": [
              "  0%|          | 0/170498071 [00:00<?, ?it/s]"
            ],
            "application/vnd.jupyter.widget-view+json": {
              "version_major": 2,
              "version_minor": 0,
              "model_id": "6ed8fb985bee41e08ad62f5441935d4a"
            }
          },
          "metadata": {}
        },
        {
          "output_type": "stream",
          "name": "stdout",
          "text": [
            "Extracting ./data/cifar-10-python.tar.gz to ./data\n"
          ]
        },
        {
          "output_type": "stream",
          "name": "stderr",
          "text": [
            "/usr/local/lib/python3.7/dist-packages/torch/utils/data/dataloader.py:566: UserWarning: This DataLoader will create 8 worker processes in total. Our suggested max number of worker in current system is 2, which is smaller than what this DataLoader is going to create. Please be aware that excessive worker creation might get DataLoader running slow or even freeze, lower the worker number to avoid potential slowness/freeze if necessary.\n",
            "  cpuset_checked))\n"
          ]
        },
        {
          "output_type": "stream",
          "name": "stdout",
          "text": [
            "Files already downloaded and verified\n"
          ]
        }
      ]
    },
    {
      "cell_type": "markdown",
      "metadata": {
        "id": "f4j4KXqhF2Vl"
      },
      "source": [
        "## Visualize image for each class"
      ]
    },
    {
      "cell_type": "code",
      "metadata": {
        "id": "RTiatFpGwfCT",
        "outputId": "c636c9d8-5c57-47fd-9959-e91bdf86664c",
        "colab": {
          "base_uri": "https://localhost:8080/",
          "height": 343
        }
      },
      "source": [
        "import matplotlib.pyplot as plt\n",
        "import numpy as np\n",
        "\n",
        "# visualize training image for each class\n",
        "sample_images = [dataset.data[np.asarray(dataset.targets) == label][0] for label in range(10)]\n",
        "# show images\n",
        "fig, axes = plt.subplots(2, 5, figsize=(12, 6))\n",
        "i = 0\n",
        "for row in axes:\n",
        "  for axis in row:\n",
        "    axis.set_xticks([])\n",
        "    axis.set_yticks([])\n",
        "    axis.set_xlabel(classes[i], fontsize=15)\n",
        "    axis.imshow(sample_images[i])\n",
        "    i += 1"
      ],
      "execution_count": 4,
      "outputs": [
        {
          "output_type": "display_data",
          "data": {
            "text/plain": [
              "<Figure size 864x432 with 10 Axes>"
            ],
            "image/png": "[encoded data removed]"
          },
          "metadata": {}
        }
      ]
    },
    {
      "cell_type": "markdown",
      "metadata": {
        "id": "Hw8ZgSUtF7hj"
      },
      "source": [
        "## Define CNN architecture"
      ]
    },
    {
      "cell_type": "code",
      "source": [
        "import torch.nn as nn\n",
        "import torch.nn.functional as F\n",
        "from torchvision import models\n",
        "\n",
        "net = models.vgg16(pretrained=True)\n",
        "device = torch.device(\"cuda:0\" if torch.cuda.is_available() else \"cpu\")\n",
        "print('Device:', device)\n",
        "net.to(device)\n",
        "\n",
        "num_params = sum(p.numel() for p in net.parameters() if p.requires_grad)\n",
        "print(\"Number of trainable parameters:\", num_params)"
      ],
      "metadata": {
        "id": "kNOmlqUaIMRG",
        "outputId": "655680a5-1666-43ce-8100-5aa0c5eb0eb7",
        "colab": {
          "base_uri": "https://localhost:8080/",
          "height": 196,
          "referenced_widgets": [
            "869d2a8442af49aeb99839e5c27fd5e4",
            "fe818fb50f23432cb1ad443a9c7c2ef6",
            "c317bb54068a40f2b27d5dc680da42f8",
            "265df2bf4e024613ad7db747d68ec8f4",
            "f8cd8a6c395e44c2b54b0a8033af9fd1",
            "60b8d1a4af2b40bca9a03516a73ace6d",
            "c6a90ba3c0ef407c98ba94a8561ba3da",
            "065cc083fabb4ee2980f763294bf1c88",
            "4ac4be09b98f4cd48b2c3e9b68c84680",
            "d5e22a192dd24d05b01cd6a4f8bf6db7",
            "8dab98971e534e34aca9948d89bb4bc5"
          ]
        }
      },
      "execution_count": 5,
      "outputs": [
        {
          "output_type": "stream",
          "name": "stderr",
          "text": [
            "/usr/local/lib/python3.7/dist-packages/torchvision/models/_utils.py:209: UserWarning: The parameter 'pretrained' is deprecated since 0.13 and will be removed in 0.15, please use 'weights' instead.\n",
            "  f\"The parameter '{pretrained_param}' is deprecated since 0.13 and will be removed in 0.15, \"\n",
            "/usr/local/lib/python3.7/dist-packages/torchvision/models/_utils.py:223: UserWarning: Arguments other than a weight enum or `None` for 'weights' are deprecated since 0.13 and will be removed in 0.15. The current behavior is equivalent to passing `weights=VGG16_Weights.IMAGENET1K_V1`. You can also use `weights=VGG16_Weights.DEFAULT` to get the most up-to-date weights.\n",
            "  warnings.warn(msg)\n",
            "Downloading: \"https://download.pytorch.org/models/vgg16-397923af.pth\" to /root/.cache/torch/hub/checkpoints/vgg16-397923af.pth\n"
          ]
        },
        {
          "output_type": "display_data",
          "data": {
            "text/plain": [
              "  0%|          | 0.00/528M [00:00<?, ?B/s]"
            ],
            "application/vnd.jupyter.widget-view+json": {
              "version_major": 2,
              "version_minor": 0,
              "model_id": "869d2a8442af49aeb99839e5c27fd5e4"
            }
          },
          "metadata": {}
        },
        {
          "output_type": "stream",
          "name": "stdout",
          "text": [
            "Device: cuda:0\n",
            "Number of trainable parameters: 138357544\n"
          ]
        }
      ]
    },
    {
      "cell_type": "markdown",
      "metadata": {
        "id": "rBPSkx7UGD6_"
      },
      "source": [
        "## Training"
      ]
    },
    {
      "cell_type": "code",
      "metadata": {
        "id": "xoyrcbpYY_jq",
        "outputId": "afe65cff-2d16-426c-ade5-658e27e404ab",
        "colab": {
          "base_uri": "https://localhost:8080/"
        }
      },
      "source": [
        "import torch.optim as optim\n",
        "\n",
        "criterion = nn.CrossEntropyLoss()\n",
        "optimizer = optim.Adam(net.parameters(), lr=0.0001, betas=(0.9, 0.999), eps=1e-08, weight_decay=0, amsgrad=False)\n",
        "scheduler = optim.lr_scheduler.ReduceLROnPlateau(optimizer, mode='min', factor=0.1, patience=10, verbose=True, min_lr=0)\n",
        "\n",
        "loss_hist, acc_hist = [], []\n",
        "loss_hist_val, acc_hist_val = [], []\n",
        "\n",
        "for epoch in range(num_epochs):\n",
        "  running_loss = 0.0\n",
        "  correct = 0\n",
        "  for data in train_loader:\n",
        "    batch, labels = data\n",
        "    batch, labels = batch.to(device), labels.to(device)\n",
        "\n",
        "    optimizer.zero_grad()\n",
        "    outputs = net(batch)\n",
        "    loss = criterion(outputs, labels)\n",
        "    loss.backward()\n",
        "    optimizer.step()\n",
        "\n",
        "    # compute training statistics\n",
        "    _, predicted = torch.max(outputs, 1)\n",
        "    correct += (predicted == labels).sum().item()\n",
        "    running_loss += loss.item()\n",
        "\n",
        "  avg_loss = running_loss / len(train_set)\n",
        "  avg_acc = correct / len(train_set)\n",
        "  loss_hist.append(avg_loss)\n",
        "  acc_hist.append(avg_acc)\n",
        "\n",
        "  # validation statistics\n",
        "  net.eval()\n",
        "  with torch.no_grad():\n",
        "    loss_val = 0.0\n",
        "    correct_val = 0\n",
        "    for data in val_loader:\n",
        "      batch, labels = data\n",
        "      batch, labels = batch.to(device), labels.to(device)\n",
        "      outputs = net(batch)\n",
        "      loss = criterion(outputs, labels)\n",
        "      _, predicted = torch.max(outputs, 1)\n",
        "      correct_val += (predicted == labels).sum().item()\n",
        "      loss_val += loss.item()\n",
        "    avg_loss_val = loss_val / len(val_set)\n",
        "    avg_acc_val = correct_val / len(val_set)\n",
        "    loss_hist_val.append(avg_loss_val)\n",
        "    acc_hist_val.append(avg_acc_val)\n",
        "  net.train()\n",
        "\n",
        "  scheduler.step(avg_loss_val)\n",
        "  print('[epoch %d] loss: %.5f accuracy: %.4f val loss: %.5f val accuracy: %.4f' % (epoch + 1, avg_loss, avg_acc, avg_loss_val, avg_acc_val))\n",
        "\n",
        "\n"
      ],
      "execution_count": 6,
      "outputs": [
        {
          "output_type": "stream",
          "name": "stdout",
          "text": [
            "[epoch 1] loss: 0.03181 accuracy: 0.6685 val loss: 0.01986 val accuracy: 0.7935\n",
            "[epoch 2] loss: 0.01832 accuracy: 0.8081 val loss: 0.01590 val accuracy: 0.8309\n",
            "[epoch 3] loss: 0.01506 accuracy: 0.8427 val loss: 0.01454 val accuracy: 0.8477\n",
            "[epoch 4] loss: 0.01297 accuracy: 0.8664 val loss: 0.01609 val accuracy: 0.8323\n",
            "[epoch 5] loss: 0.01124 accuracy: 0.8819 val loss: 0.01324 val accuracy: 0.8577\n",
            "[epoch 6] loss: 0.01005 accuracy: 0.8937 val loss: 0.01447 val accuracy: 0.8587\n",
            "[epoch 7] loss: 0.00902 accuracy: 0.9074 val loss: 0.01393 val accuracy: 0.8641\n",
            "[epoch 8] loss: 0.00820 accuracy: 0.9156 val loss: 0.01407 val accuracy: 0.8614\n",
            "[epoch 9] loss: 0.00773 accuracy: 0.9204 val loss: 0.01422 val accuracy: 0.8642\n",
            "[epoch 10] loss: 0.00696 accuracy: 0.9268 val loss: 0.01229 val accuracy: 0.8840\n",
            "[epoch 11] loss: 0.00636 accuracy: 0.9329 val loss: 0.01232 val accuracy: 0.8790\n",
            "[epoch 12] loss: 0.00604 accuracy: 0.9386 val loss: 0.01223 val accuracy: 0.8826\n",
            "[epoch 13] loss: 0.00555 accuracy: 0.9430 val loss: 0.01579 val accuracy: 0.8622\n",
            "[epoch 14] loss: 0.00543 accuracy: 0.9434 val loss: 0.01266 val accuracy: 0.8823\n",
            "[epoch 15] loss: 0.00488 accuracy: 0.9500 val loss: 0.01929 val accuracy: 0.8476\n",
            "[epoch 16] loss: 0.00461 accuracy: 0.9537 val loss: 0.01319 val accuracy: 0.8837\n",
            "[epoch 17] loss: 0.00431 accuracy: 0.9551 val loss: 0.01379 val accuracy: 0.8815\n",
            "[epoch 18] loss: 0.00428 accuracy: 0.9563 val loss: 0.01420 val accuracy: 0.8813\n",
            "[epoch 19] loss: 0.00416 accuracy: 0.9578 val loss: 0.01437 val accuracy: 0.8781\n",
            "[epoch 20] loss: 0.00392 accuracy: 0.9601 val loss: 0.01279 val accuracy: 0.8903\n",
            "[epoch 21] loss: 0.00358 accuracy: 0.9635 val loss: 0.01485 val accuracy: 0.8926\n",
            "[epoch 22] loss: 0.00359 accuracy: 0.9650 val loss: 0.01295 val accuracy: 0.8865\n",
            "Epoch 00023: reducing learning rate of group 0 to 1.0000e-05.\n",
            "[epoch 23] loss: 0.00369 accuracy: 0.9638 val loss: 0.01563 val accuracy: 0.8813\n",
            "[epoch 24] loss: 0.00168 accuracy: 0.9825 val loss: 0.01251 val accuracy: 0.9043\n",
            "[epoch 25] loss: 0.00108 accuracy: 0.9884 val loss: 0.01339 val accuracy: 0.9060\n",
            "[epoch 26] loss: 0.00093 accuracy: 0.9900 val loss: 0.01313 val accuracy: 0.9068\n",
            "[epoch 27] loss: 0.00083 accuracy: 0.9917 val loss: 0.01461 val accuracy: 0.9047\n",
            "[epoch 28] loss: 0.00074 accuracy: 0.9926 val loss: 0.01464 val accuracy: 0.9079\n",
            "[epoch 29] loss: 0.00066 accuracy: 0.9935 val loss: 0.01444 val accuracy: 0.9107\n",
            "[epoch 30] loss: 0.00063 accuracy: 0.9937 val loss: 0.01496 val accuracy: 0.9093\n",
            "[epoch 31] loss: 0.00060 accuracy: 0.9939 val loss: 0.01512 val accuracy: 0.9095\n",
            "[epoch 32] loss: 0.00054 accuracy: 0.9948 val loss: 0.01625 val accuracy: 0.9087\n",
            "[epoch 33] loss: 0.00054 accuracy: 0.9945 val loss: 0.01547 val accuracy: 0.9106\n",
            "Epoch 00034: reducing learning rate of group 0 to 1.0000e-06.\n",
            "[epoch 34] loss: 0.00048 accuracy: 0.9949 val loss: 0.01636 val accuracy: 0.9103\n",
            "[epoch 35] loss: 0.00041 accuracy: 0.9960 val loss: 0.01586 val accuracy: 0.9121\n",
            "[epoch 36] loss: 0.00042 accuracy: 0.9958 val loss: 0.01630 val accuracy: 0.9084\n",
            "[epoch 37] loss: 0.00034 accuracy: 0.9964 val loss: 0.01590 val accuracy: 0.9092\n",
            "[epoch 38] loss: 0.00041 accuracy: 0.9962 val loss: 0.01590 val accuracy: 0.9125\n",
            "[epoch 39] loss: 0.00037 accuracy: 0.9962 val loss: 0.01629 val accuracy: 0.9099\n",
            "[epoch 40] loss: 0.00034 accuracy: 0.9964 val loss: 0.01688 val accuracy: 0.9104\n",
            "[epoch 41] loss: 0.00037 accuracy: 0.9962 val loss: 0.01622 val accuracy: 0.9104\n",
            "[epoch 42] loss: 0.00032 accuracy: 0.9967 val loss: 0.01594 val accuracy: 0.9115\n",
            "[epoch 43] loss: 0.00029 accuracy: 0.9973 val loss: 0.01576 val accuracy: 0.9124\n",
            "[epoch 44] loss: 0.00031 accuracy: 0.9966 val loss: 0.01747 val accuracy: 0.9129\n",
            "Epoch 00045: reducing learning rate of group 0 to 1.0000e-07.\n",
            "[epoch 45] loss: 0.00028 accuracy: 0.9971 val loss: 0.01741 val accuracy: 0.9108\n",
            "[epoch 46] loss: 0.00036 accuracy: 0.9962 val loss: 0.01712 val accuracy: 0.9087\n",
            "[epoch 47] loss: 0.00034 accuracy: 0.9964 val loss: 0.01649 val accuracy: 0.9101\n",
            "[epoch 48] loss: 0.00030 accuracy: 0.9969 val loss: 0.01719 val accuracy: 0.9083\n",
            "[epoch 49] loss: 0.00028 accuracy: 0.9970 val loss: 0.01677 val accuracy: 0.9100\n",
            "[epoch 50] loss: 0.00031 accuracy: 0.9964 val loss: 0.01635 val accuracy: 0.9137\n",
            "[epoch 51] loss: 0.00032 accuracy: 0.9969 val loss: 0.01721 val accuracy: 0.9110\n",
            "[epoch 52] loss: 0.00028 accuracy: 0.9973 val loss: 0.01641 val accuracy: 0.9122\n",
            "[epoch 53] loss: 0.00029 accuracy: 0.9970 val loss: 0.01659 val accuracy: 0.9101\n",
            "[epoch 54] loss: 0.00038 accuracy: 0.9964 val loss: 0.01691 val accuracy: 0.9120\n",
            "[epoch 55] loss: 0.00032 accuracy: 0.9969 val loss: 0.01752 val accuracy: 0.9058\n",
            "Epoch 00056: reducing learning rate of group 0 to 1.0000e-08.\n",
            "[epoch 56] loss: 0.00027 accuracy: 0.9970 val loss: 0.01671 val accuracy: 0.9124\n",
            "[epoch 57] loss: 0.00031 accuracy: 0.9969 val loss: 0.01707 val accuracy: 0.9118\n",
            "[epoch 58] loss: 0.00022 accuracy: 0.9977 val loss: 0.01692 val accuracy: 0.9134\n",
            "[epoch 59] loss: 0.00032 accuracy: 0.9967 val loss: 0.01744 val accuracy: 0.9110\n",
            "[epoch 60] loss: 0.00029 accuracy: 0.9969 val loss: 0.01625 val accuracy: 0.9132\n"
          ]
        }
      ]
    },
    {
      "cell_type": "markdown",
      "metadata": {
        "id": "oQSfBrXvGGIL"
      },
      "source": [
        "## Plotting training statistics"
      ]
    },
    {
      "cell_type": "code",
      "metadata": {
        "id": "jh8RDOgCf0UE",
        "outputId": "39676f20-ea7d-4d30-8662-262e0a344db9",
        "colab": {
          "base_uri": "https://localhost:8080/",
          "height": 573
        }
      },
      "source": [
        "import matplotlib.pyplot as plt\n",
        "\n",
        "legend = ['Train', 'Validation']\n",
        "plt.plot(loss_hist)\n",
        "plt.plot(loss_hist_val)\n",
        "plt.title('VGG16 Model Loss on CIFAR-10')\n",
        "plt.xlabel('Epochs')\n",
        "plt.ylabel('Loss')\n",
        "plt.legend(legend, loc='upper left')\n",
        "plt.show()\n",
        "\n",
        "legend = ['Train', 'Validation']\n",
        "plt.plot(acc_hist)\n",
        "plt.plot(acc_hist_val)\n",
        "plt.title('VGG16 Model Accuracy on CIFAR-10')\n",
        "plt.xlabel('Epochs')\n",
        "plt.ylabel('Accuracy')\n",
        "plt.legend(legend, loc='upper left')\n",
        "plt.show()"
      ],
      "execution_count": 13,
      "outputs": [
        {
          "output_type": "display_data",
          "data": {
            "text/plain": [
              "<Figure size 432x288 with 1 Axes>"
            ],
            "image/png": "[encoded data removed]"
          },
          "metadata": {
            "needs_background": "light"
          }
        },
        {
          "output_type": "display_data",
          "data": {
            "text/plain": [
              "<Figure size 432x288 with 1 Axes>"
            ],
            "image/png": "[encoded data removed]"
          },
          "metadata": {
            "needs_background": "light"
          }
        }
      ]
    },
    {
      "cell_type": "markdown",
      "metadata": {
        "id": "o9YY5mqtGK8Q"
      },
      "source": [
        "## Save the trained model"
      ]
    },
    {
      "cell_type": "code",
      "metadata": {
        "id": "GyAT4r8ZJuOS",
        "colab": {
          "base_uri": "https://localhost:8080/",
          "height": 34
        },
        "outputId": "763780c0-f51f-4dff-820a-8292f55f8d6a"
      },
      "source": [
        "from google.colab import files\n",
        "\n",
        "torch.save(net.state_dict(), 'checkpoint.pth')\n",
        "# download checkpoint file\n",
        "files.download('checkpoint.pth')"
      ],
      "execution_count": 8,
      "outputs": [
        {
          "output_type": "display_data",
          "data": {
            "text/plain": [
              "<IPython.core.display.Javascript object>"
            ],
            "application/javascript": [
              "\n",
              "    async function download(id, filename, size) {\n",
              "      if (!google.colab.kernel.accessAllowed) {\n",
              "        return;\n",
              "      }\n",
              "      const div = document.createElement('div');\n",
              "      const label = document.createElement('label');\n",
              "      label.textContent = `Downloading \"${filename}\": `;\n",
              "      div.appendChild(label);\n",
              "      const progress = document.createElement('progress');\n",
              "      progress.max = size;\n",
              "      div.appendChild(progress);\n",
              "      document.body.appendChild(div);\n",
              "\n",
              "      const buffers = [];\n",
              "      let downloaded = 0;\n",
              "\n",
              "      const channel = await google.colab.kernel.comms.open(id);\n",
              "      // Send a message to notify the kernel that we're ready.\n",
              "      channel.send({})\n",
              "\n",
              "      for await (const message of channel.messages) {\n",
              "        // Send a message to notify the kernel that we're ready.\n",
              "        channel.send({})\n",
              "        if (message.buffers) {\n",
              "          for (const buffer of message.buffers) {\n",
              "            buffers.push(buffer);\n",
              "            downloaded += buffer.byteLength;\n",
              "            progress.value = downloaded;\n",
              "          }\n",
              "        }\n",
              "      }\n",
              "      const blob = new Blob(buffers, {type: 'application/binary'});\n",
              "      const a = document.createElement('a');\n",
              "      a.href = window.URL.createObjectURL(blob);\n",
              "      a.download = filename;\n",
              "      div.appendChild(a);\n",
              "      a.click();\n",
              "      div.remove();\n",
              "    }\n",
              "  "
            ]
          },
          "metadata": {}
        },
        {
          "output_type": "display_data",
          "data": {
            "text/plain": [
              "<IPython.core.display.Javascript object>"
            ],
            "application/javascript": [
              "download(\"download_b527c958-79b8-442c-96f7-7587f729e988\", \"checkpoint.pth\", 553440773)"
            ]
          },
          "metadata": {}
        }
      ]
    },
    {
      "cell_type": "code",
      "metadata": {
        "id": "1sNFx1j-Iw_S",
        "outputId": "1e03bf82-2728-4080-f44d-7ff2eff0d0a2",
        "colab": {
          "base_uri": "https://localhost:8080/"
        }
      },
      "source": [
        "net.load_state_dict(torch.load('checkpoint.pth'))"
      ],
      "execution_count": 9,
      "outputs": [
        {
          "output_type": "execute_result",
          "data": {
            "text/plain": [
              "<All keys matched successfully>"
            ]
          },
          "metadata": {},
          "execution_count": 9
        }
      ]
    },
    {
      "cell_type": "markdown",
      "metadata": {
        "id": "oxoHZNukGP-6"
      },
      "source": [
        "## Testing"
      ]
    },
    {
      "cell_type": "code",
      "metadata": {
        "id": "wAkC3hX5g-fF",
        "outputId": "528f2d8c-9ad1-4b34-e74c-a4e3118b62f9",
        "colab": {
          "base_uri": "https://localhost:8080/"
        }
      },
      "source": [
        "pred_vec = []\n",
        "correct = 0\n",
        "net.eval()\n",
        "with torch.no_grad():\n",
        "    for data in test_loader:\n",
        "        batch, labels = data\n",
        "        batch, labels = batch.to(device), labels.to(device)\n",
        "        outputs = net(batch)\n",
        "        _, predicted = torch.max(outputs, 1)\n",
        "        correct += (predicted == labels).sum().item()\n",
        "        pred_vec.append(predicted)\n",
        "    pred_vec = torch.cat(pred_vec)\n",
        "\n",
        "print('Accuracy on the 10000 test images: %.2f %%' % (100 * correct / len(test_set)))"
      ],
      "execution_count": 10,
      "outputs": [
        {
          "output_type": "stream",
          "name": "stdout",
          "text": [
            "Accuracy on the 10000 test images: 91.52 %\n"
          ]
        }
      ]
    },
    {
      "cell_type": "markdown",
      "metadata": {
        "id": "Ur3uUCvfGSL6"
      },
      "source": [
        "## Visualize wrongly classified image for each class"
      ]
    },
    {
      "cell_type": "code",
      "metadata": {
        "id": "XPx_mN-ImzXa",
        "outputId": "e27fe5f4-03a0-483f-f7f1-489f2313283b",
        "colab": {
          "base_uri": "https://localhost:8080/",
          "height": 342
        }
      },
      "source": [
        "import numpy as np\n",
        "\n",
        "# visualize wrongly classified image for each class\n",
        "pred_vec = pred_vec.cpu().numpy()\n",
        "ground_truths = np.asarray(test_set.targets)\n",
        "incorrect_mask = pred_vec != ground_truths\n",
        "incorrect_images = [test_set.data[(ground_truths == label) & incorrect_mask][0] for label in range(10)]\n",
        "pred_results = [pred_vec[(ground_truths == label) & incorrect_mask][0] for label in range(10)]\n",
        "\n",
        "# show images\n",
        "fig, axes = plt.subplots(2, 5, figsize=(12, 6))\n",
        "i = 0\n",
        "for row in axes:\n",
        "  for axis in row:\n",
        "    axis.set_xticks([])\n",
        "    axis.set_yticks([])\n",
        "    axis.set_xlabel(\"Predicted: %s\" % classes[pred_results[i]], fontsize=14)\n",
        "    axis.imshow(incorrect_images[i])\n",
        "    i += 1"
      ],
      "execution_count": 11,
      "outputs": [
        {
          "output_type": "display_data",
          "data": {
            "text/plain": [
              "<Figure size 864x432 with 10 Axes>"
            ],
            "image/png": "[encoded data removed]"
          },
          "metadata": {}
        }
      ]
    }
  ]
}